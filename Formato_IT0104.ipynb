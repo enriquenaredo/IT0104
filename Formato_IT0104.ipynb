{
  "nbformat": 4,
  "nbformat_minor": 0,
  "metadata": {
    "colab": {
      "provenance": []
    },
    "kernelspec": {
      "name": "python3",
      "display_name": "Python 3"
    },
    "language_info": {
      "name": "python"
    }
  },
  "cells": [
    {
      "cell_type": "markdown",
      "source": [
        "#IT0104 - Matemáticas Discretas\n",
        "\n",
        "### Primavera 2023\n",
        "\n",
        "Ejercicio #: IT0104_Lab-XX\n",
        "\n",
        "Sección: \n",
        "\n",
        "ID: \n",
        "\n",
        "Nombre completo:\n",
        "\n",
        "ID: \n",
        "\n",
        "Nombre completo:\n",
        "\n",
        "\n",
        "Profesor: Enrique Naredo García"
      ],
      "metadata": {
        "id": "ZtlQAycMzXPH"
      }
    },
    {
      "cell_type": "markdown",
      "source": [
        "## Introducción\n",
        "\n"
      ],
      "metadata": {
        "id": "AHsaIVsLrrqx"
      }
    },
    {
      "cell_type": "code",
      "execution_count": null,
      "metadata": {
        "id": "E7hyQt-3q1H_"
      },
      "outputs": [],
      "source": [
        "# Código\n",
        "\n",
        "\n"
      ]
    },
    {
      "cell_type": "code",
      "source": [
        "# Código\n",
        "\n",
        "\n"
      ],
      "metadata": {
        "id": "S4rXwl2MsI32"
      },
      "execution_count": null,
      "outputs": []
    },
    {
      "cell_type": "code",
      "source": [
        "# Código\n",
        "\n",
        "\n",
        "\n"
      ],
      "metadata": {
        "id": "nuLMSk9dsIoJ"
      },
      "execution_count": null,
      "outputs": []
    },
    {
      "cell_type": "code",
      "source": [
        "# Código\n",
        "\n",
        "\n",
        "\n"
      ],
      "metadata": {
        "id": "zIwzjqYssIla"
      },
      "execution_count": null,
      "outputs": []
    },
    {
      "cell_type": "markdown",
      "source": [
        "## Conclusiones"
      ],
      "metadata": {
        "id": "wj0AHiPgr1gx"
      }
    },
    {
      "cell_type": "markdown",
      "source": [],
      "metadata": {
        "id": "cLXzf0zdsKMw"
      }
    },
    {
      "cell_type": "markdown",
      "source": [],
      "metadata": {
        "id": "JMA3D3jXsKJ3"
      }
    },
    {
      "cell_type": "markdown",
      "source": [
        "## Bibliografía\n",
        "\n",
        "1. Referencia 1 en APA\n",
        "2. Referencia 1 en APA\n",
        "\n"
      ],
      "metadata": {
        "id": "4L3ZgUA9r4fo"
      }
    }
  ]
}