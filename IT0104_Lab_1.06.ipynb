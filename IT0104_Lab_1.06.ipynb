{
  "nbformat": 4,
  "nbformat_minor": 0,
  "metadata": {
    "colab": {
      "provenance": []
    },
    "kernelspec": {
      "name": "python3",
      "display_name": "Python 3"
    },
    "language_info": {
      "name": "python"
    }
  },
  "cells": [
    {
      "cell_type": "markdown",
      "source": [
        "#IT0104 - Matemáticas Discretas\n",
        "\n",
        "### Primavera 2023\n",
        "\n",
        "### IT0104_Lab-06\n",
        "\n",
        "**Profesor Enrique Naredo García**\n",
        "\n",
        " <font size = 2> \n",
        "©️ Todos los derechos reservados. All rights reserved.\n",
        "\n",
        "*Nota: El presente documento es una herramienta diseñada única y exclusivamente para los estudiantes de la asignatura arriba mencionada. Queda prohibido compartir este documento entre otros estudiantes, aún siendo de la misma clase, grupo o de la Universidad sin consentimiento del autor. Queda prohibida la reproducción total o parcial de este documento por cualquier medio o procedimiento, ya sea electrónico o mecánico, el tratamiento informático, el alquiler o cualquier otra forma de cesión sin la autorización previa y por escrito del titular del copyright.*\n",
        "</font>"
      ],
      "metadata": {
        "id": "MbTDmeTjDkO1"
      }
    },
    {
      "cell_type": "markdown",
      "source": [
        "## Ejercicios"
      ],
      "metadata": {
        "id": "nct2wL_DEiF2"
      }
    },
    {
      "cell_type": "markdown",
      "source": [
        "### 1. ¿Cuáles de estos enunciados son proposiciones? \n",
        "\n",
        "Explica tu razonamiento\n",
        "\n",
        "* ¿Es Atlanta la capital de Georgia?\n",
        "\n",
        "* Todos los pájaros vuelan\n",
        "\n",
        "* 2 × 3 = 5\n",
        "\n",
        "* 5 + 7 = 7+5\n",
        "\n",
        "* X + 2 = 11\n",
        "\n",
        "* Responde esta pregunta.\n",
        "\n",
        "* La lluvia en España\n"
      ],
      "metadata": {
        "id": "UqQtKpGdED9l"
      }
    },
    {
      "cell_type": "markdown",
      "source": [
        "### 2.  Construye tablas de verdad para\n",
        "\n",
        "* $a∨b⇒¬b$\n",
        "\n",
        "* $(a∨¬b) ⇔ a$\n",
        "\n",
        "* $(a⇒b) ⋀ (b ⋀ ¬c)$\n",
        "\n",
        "* $(a ⋁ b) ⇒ ( ¬c ⋁ a)$\n",
        "\n",
        "* $(a ⋁ b) ⋀ (c ⋁¬d )$\n",
        "\n",
        "* $(¬c ⋀  b) ⋁  (a⇒ ¬d )$"
      ],
      "metadata": {
        "id": "tl0f75MMED7Y"
      }
    },
    {
      "cell_type": "code",
      "source": [],
      "metadata": {
        "id": "pRi42T-zI32O"
      },
      "execution_count": null,
      "outputs": []
    },
    {
      "cell_type": "markdown",
      "source": [
        "### 3. Usando tablas de verdad, determine si cada uno de los siguientes proposiciones compuestas son una tautología, una contradicción o ninguna (condicional).\n",
        "\n",
        "* $¬((a∨b)∨(¬a∧¬b))$\n",
        "\n",
        "* $((a∨b)∧¬a)⇒b$\n",
        "\n",
        "* $((a∨b)∧a)⇒b$\n",
        "\n",
        "* $p∧r)∨(¬p∧¬r)$\n",
        "\n",
        "* $¬((p∨q)∨(¬p∧(¬q∨r)))$\n",
        "\n",
        "* $¬(p∧q)∨(q∨r)$"
      ],
      "metadata": {
        "id": "TrPyiKMXED5A"
      }
    },
    {
      "cell_type": "markdown",
      "source": [
        "### 4. Usando tablas de verdad determina cuáles de los siguientes son equivalentes\n",
        "\n",
        "* a) \n",
        "\n",
        "  * $(p⇒q)⇒r$,\n",
        "\n",
        "  * $(p∧¬q)∨r$, y\n",
        "\n",
        "  * $(p∧¬q)∧r$\n",
        "\n",
        "* b)\n",
        "\n",
        "  * $(a∨b)∧c$,\n",
        "\n",
        "  * $(c∧a)∨(c∧b)$, y\n",
        "\n",
        "  * $¬((¬a∧¬b)∨¬c)$"
      ],
      "metadata": {
        "id": "EA30vZV6F17I"
      }
    },
    {
      "cell_type": "markdown",
      "source": [
        "### 5. Sea $C(x)$ el enunciado \"$x$ ha visitado Cancún\", donde el dominio consiste en los estudiantes de la Universidad del Caribe. \n",
        "\n",
        "Expresa cada una de las cuantificaciones en español.\n",
        "\n",
        "* $∃xC(x)$\n",
        "\n",
        "* $∀xC(x)$\n",
        "\n",
        "¿Cómo determinas si cada una de estas afirmaciones es verdadera o falsa?"
      ],
      "metadata": {
        "id": "kifQTuG3G0wU"
      }
    },
    {
      "cell_type": "markdown",
      "source": [
        "### 6. Determina el valor de verdad de cada uno de estos enunciados si el dominio de todas las variables, m, n es el conjunto de todos los enteros; ℤ, explica tu razonamiento\n",
        "\n",
        "* $∀n:(n2≥1)$\n",
        "\n",
        "* $∀n:(n2≥0)$\n",
        "\n",
        "* $∃ n:(n2=3)$\n",
        "\n",
        "* $∃ m∀ n:(m+n=n−m)$\n",
        "\n",
        "* $∀ n∃ m: (n⋅ m=m)$\n",
        "\n",
        "* $∃ n∀ m: (n⋅ m=m)$\n",
        "\n",
        "* $∃ n∀ m: (n⋅ m=n)$"
      ],
      "metadata": {
        "id": "tqEQaAV6Ig8B"
      }
    },
    {
      "cell_type": "markdown",
      "source": [
        "### 7. Considera cada una de las siguientes proposiciones compuestas. \n",
        "\n",
        "* (i) Traducir cada una usando símbolos lógicos y letras, indicando lo que representa cada letra, \n",
        "* (ii) Negar cada una usando oraciones sencillas en español y \n",
        "* (iii) Traducir las declaraciones negadas usando símbolos lógicos y cuantificadores.\n",
        "\n",
        "  * Si llueve hoy, mañana iré a nadar.\n",
        "\n",
        "  * Maria camina o toma el autobús a clase.\n",
        "\n",
        "  * Todas las personas en esta clase entienden la inducción matemática.\n",
        "\n",
        "  * En cada clase de matemáticas hay algún estudiante que se queda dormido durante las clases.\n",
        "\n",
        "  * Hay un edificio en el campus de una universidad en México en el que todas las habitaciones están pintadas de blanco.\n",
        "\n"
      ],
      "metadata": {
        "id": "m05TltS1JZ0B"
      }
    },
    {
      "cell_type": "markdown",
      "source": [
        "### 8. Sea $p$ la proposición \"Mi bicicleta necesita una llanta nueva\", $q$ la proposición \"Iré en bicicleta\" y, $r$ la proposición \"Se pronostica lluvia\".\n",
        "\n",
        "* Exprese cada una de estas proposiciones compuestas usando oraciones sencillas en español.\n",
        "\n",
        "  * $¬p∨q$\n",
        "\n",
        "  * $¬p⇒¬q$\n",
        "\n",
        "  * $(¬p∧r)⇒q$\n",
        "\n",
        "  * $(¬p∧r)⇒q$\n",
        "\n",
        "  * $(¬p∧q)∨r$\n",
        "\n",
        "* Escribir las siguientes proposiciones compuestas usando p, q y, r, así como conectivos lógicos (incluida la negación).\n",
        "\n",
        "   * Si la llanta de mi bicicleta no se cambia iré en bicicleta.\n",
        "\n",
        "   * La llanta de mi bicicleta no se cambia, hay pronóstico de lluvia pero voy a ir en bicicleta\n",
        "\n",
        "   * Siempre que hay lluvia en el pronóstico, no voy en bicicleta.\n",
        "\n",
        "   * Si hay lluvia en el pronóstico o mi llanta esta ponchada, no usare mi bicicleta.\n",
        "\n",
        "   * No se pronostica lluvia siempre que voy en bicicleta.\n",
        "\n",
        "   * No se pronostica lluvia y la llanta de mi bicicleta no necesita ser cambiada cada vez que voy en bicicleta.\n",
        "\n"
      ],
      "metadata": {
        "id": "W2M6C9q7KlMz"
      }
    },
    {
      "cell_type": "markdown",
      "source": [
        "### 9. Diseña circuitos lógicos con la siguiente salida\n",
        "\n",
        "* $(p∨(q∧¬r))∨¬(p∧q)$\n",
        "\n",
        "* $(p∨(q∧r))∧¬(p∧q)$"
      ],
      "metadata": {
        "id": "ivHTgbgZMx-E"
      }
    },
    {
      "cell_type": "markdown",
      "source": [
        "### 10. Considera el predicado $Q(x,y):x ⋅ y=5$, donde el dominio de $x$ y $y$ son todos números reales positivos $ℝ+$, o $x$, $ y >0$. Determina el verdadero valor de lo siguiente y explica tu razonamiento.\n",
        "\n",
        "* $Q(1,5)$\n",
        "\n",
        "* $Q(2,52)$\n",
        "\n",
        "* $∃ y, Q(7,y)$\n",
        "\n",
        "* $∀ y, Q(7,y)$\n",
        "\n",
        "* $∃ x ∀ y, Q(x,y)$\n",
        "\n",
        "* $∀  x ∃  y, Q(x,y)$"
      ],
      "metadata": {
        "id": "hiG3XYSiNEH1"
      }
    },
    {
      "cell_type": "markdown",
      "source": [
        "### 11. Considere el predicado R(x,y): 2x+y=0, donde el dominio de xey son todos los números racionales, ℚ. Determina el verdadero valor de lo siguiente y explica tu razonamiento.\n",
        "\n",
        "* $R(0,0)$\n",
        "\n",
        "* $R(2,−1)$\n",
        "\n",
        "* $R(15,−25)$\n",
        "\n",
        "* $∃y, R(0.2,y)$\n",
        "\n",
        "* $∀y, R(7,y)$\n",
        "\n",
        "* $∃ x∀ y, R(x,y)$\n",
        "\n",
        "* $∀ x ∃ y, R(x,y)$"
      ],
      "metadata": {
        "id": "EJpivUnRNvQs"
      }
    },
    {
      "cell_type": "markdown",
      "source": [
        "### 12. Calcula la salida bit a bit de los siguientes operadores lógicos: $AND$, $OR$ y $XOR$ de los siguientes pares de bytes o secuencia de bytes\n",
        "\n",
        "* a)\n",
        "  * 01111111\n",
        "  * 11101001\n",
        "\n",
        "* b) \n",
        "  * 1110010111111010\n",
        "  *0101110101100011"
      ],
      "metadata": {
        "id": "qdjrutbtOCsY"
      }
    },
    {
      "cell_type": "markdown",
      "source": [
        "### 13. Proporciona la salida para cada uno de los circuitos lógicos en términos de las variables de entrada,\n",
        "\n",
        "* El circuito lógico, con variables de entrada, p,q, r.\n",
        "\n",
        "<img src=\"https://drive.google.com/uc?export=view&id=14rNCGXZS89P7znEbFjQXH9xyaEXrrx6s\" \n",
        "     width=\"450\" \n",
        "     height=\"350\" />"
      ],
      "metadata": {
        "id": "ljDuQt1xUfWC"
      }
    },
    {
      "cell_type": "markdown",
      "source": [
        "### 14. Proporciona la salida para cada uno de los circuitos lógicos en términos de las variables de entrada,\n",
        "\n",
        "* El circuito lógico, con variables de entrada, a,b, c.\n",
        "\n",
        "<img src=\"https://drive.google.com/uc?export=view&id=1EmdvwpY0Q4TJPYkVJK0QG4HtSwP9r4Xi\" \n",
        "     width=\"450\" \n",
        "     height=\"450\" />"
      ],
      "metadata": {
        "id": "KjRmFTNlXBza"
      }
    },
    {
      "cell_type": "markdown",
      "source": [
        "### 15. Diseña un circuito lógico para \n",
        "\n",
        "* $r∧(p∨(r∧¬q))$."
      ],
      "metadata": {
        "id": "SG2hKL9OXN4h"
      }
    }
  ]
}
