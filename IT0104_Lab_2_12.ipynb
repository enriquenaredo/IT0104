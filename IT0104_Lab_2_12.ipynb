{
  "nbformat": 4,
  "nbformat_minor": 0,
  "metadata": {
    "colab": {
      "provenance": []
    },
    "kernelspec": {
      "name": "python3",
      "display_name": "Python 3"
    },
    "language_info": {
      "name": "python"
    }
  },
  "cells": [
    {
      "cell_type": "markdown",
      "source": [
        "#IT0104 - Matemáticas Discretas\n",
        "\n",
        "### Primavera 2023\n",
        "\n",
        "### IT0104_Lab-2.12\n",
        "\n",
        "**Profesor Enrique Naredo García**\n",
        "\n",
        " <font size = 2> \n",
        "©️ Todos los derechos reservados. All rights reserved.\n",
        "\n",
        "*Nota: El presente documento es una herramienta diseñada única y exclusivamente para los estudiantes de la asignatura arriba mencionada. Queda prohibido compartir este documento entre otros estudiantes, aún siendo de la misma clase, grupo o de la Universidad sin consentimiento del autor. Queda prohibida la reproducción total o parcial de este documento por cualquier medio o procedimiento, ya sea electrónico o mecánico, el tratamiento informático, el alquiler o cualquier otra forma de cesión sin la autorización previa y por escrito del titular del copyright.*\n",
        "</font>"
      ],
      "metadata": {
        "id": "1ACCjhU2tMYn"
      }
    },
    {
      "cell_type": "markdown",
      "source": [
        "##Relaciones de conjuntos\n",
        "\n",
        "Las [relaciones de conjuntos](https://ciencias-basicas.com/matematica/superior/teoria-de-conjuntos/relacion-de-conjuntos/) sucede cuando existen ciertos conjuntos que tiene algo en común y que cumplen una propiedad específica en común o como también puede ser por el número de elementos que pueden tener los conjuntos que queremos comprar. \n",
        "\n",
        "La relación de conjuntos no es mas que una comparación entre conjuntos según las cualidades que le asignemos, si es que existen.\n",
        "\n",
        "Bajo este punto se puede clasificar tipos de conjuntos y una de ellas es la inclusión, también hay otras relaciones como conjuntos iguales o conjuntos equivalentes."
      ],
      "metadata": {
        "id": "2R_PfsfG9e9r"
      }
    },
    {
      "cell_type": "markdown",
      "source": [
        "\n",
        "El producto cartesiano $A × A$, \n",
        "* es el conjunto $A × A := \\{(x, y) : x ∈ A, y ∈ A \\}$,\n",
        "* y la relación $R$ es un subconjunto de $A × A$, \n",
        "* es decir, una relación de $A$ \n",
        "* donde los elementos de $R$ son pares ordenados de $A × A$."
      ],
      "metadata": {
        "id": "tNZmhtxCaij0"
      }
    },
    {
      "cell_type": "code",
      "source": [
        "# Crear el conjunto A\n",
        "A = {1, 2, 3, 4}"
      ],
      "metadata": {
        "id": "39TZ0L_3tUhe"
      },
      "execution_count": null,
      "outputs": []
    },
    {
      "cell_type": "code",
      "source": [
        "# Crear el conjunto B\n",
        "B = {3, 1, 4, 2}"
      ],
      "metadata": {
        "id": "kKGg2jIoY1S8"
      },
      "execution_count": null,
      "outputs": []
    },
    {
      "cell_type": "code",
      "source": [
        "A==B"
      ],
      "metadata": {
        "colab": {
          "base_uri": "https://localhost:8080/"
        },
        "id": "OAc9LCY4ZGil",
        "outputId": "160847b0-b576-443e-c5a2-13c0ea3bbe7e"
      },
      "execution_count": null,
      "outputs": [
        {
          "output_type": "execute_result",
          "data": {
            "text/plain": [
              "True"
            ]
          },
          "metadata": {},
          "execution_count": 4
        }
      ]
    },
    {
      "cell_type": "markdown",
      "source": [],
      "metadata": {
        "id": "rLSCw_hGahIr"
      }
    },
    {
      "cell_type": "code",
      "source": [
        "# Crear el arreglo C\n",
        "C = [1, 2, 3, 4]"
      ],
      "metadata": {
        "id": "t5DOqwa0ZU4K"
      },
      "execution_count": null,
      "outputs": []
    },
    {
      "cell_type": "code",
      "source": [
        "# Crear el arreglo D\n",
        "D = [3, 1, 4, 2]"
      ],
      "metadata": {
        "id": "KJFqCYSXZU4L"
      },
      "execution_count": null,
      "outputs": []
    },
    {
      "cell_type": "code",
      "source": [
        "C==D"
      ],
      "metadata": {
        "colab": {
          "base_uri": "https://localhost:8080/"
        },
        "outputId": "34fdb52d-222c-4ab1-ed56-7277a18584d0",
        "id": "McZTrZB6ZU4M"
      },
      "execution_count": null,
      "outputs": [
        {
          "output_type": "execute_result",
          "data": {
            "text/plain": [
              "False"
            ]
          },
          "metadata": {},
          "execution_count": 7
        }
      ]
    },
    {
      "cell_type": "code",
      "source": [
        "C.sort() == D.sort()"
      ],
      "metadata": {
        "colab": {
          "base_uri": "https://localhost:8080/"
        },
        "id": "oxoYPcmVZ_kv",
        "outputId": "ec93c140-df5d-451e-81e4-7209c8640877"
      },
      "execution_count": null,
      "outputs": [
        {
          "output_type": "execute_result",
          "data": {
            "text/plain": [
              "True"
            ]
          },
          "metadata": {},
          "execution_count": 8
        }
      ]
    },
    {
      "cell_type": "markdown",
      "source": [
        "### Relación Reflexiva\n",
        "\n",
        "Una relación es reflexiva si para todo elemento $x$ de $A$, vale que \n",
        "* el par ordenado $(x, x)$ esá en $R$, \n",
        "* o sea\n",
        "$(x, x) ∈ R$ para todo $x ∈ A$."
      ],
      "metadata": {
        "id": "hv4N2SNOajp3"
      }
    },
    {
      "cell_type": "code",
      "source": [
        "# construye una relación reflexiva (x,x) en un arreglo\n",
        "[(a, a) for a in A]"
      ],
      "metadata": {
        "colab": {
          "base_uri": "https://localhost:8080/"
        },
        "id": "PfutIf98cOh3",
        "outputId": "c904cb42-f4a9-4fcd-fb95-4430ff916203"
      },
      "execution_count": null,
      "outputs": [
        {
          "output_type": "execute_result",
          "data": {
            "text/plain": [
              "[(1, 1), (2, 2), (3, 3), (4, 4)]"
            ]
          },
          "metadata": {},
          "execution_count": 9
        }
      ]
    },
    {
      "cell_type": "code",
      "source": [
        "# construye una relación reflexiva (x,x) en un conjunto\n",
        "{(a, a) for a in A}"
      ],
      "metadata": {
        "colab": {
          "base_uri": "https://localhost:8080/"
        },
        "id": "043ZUxumdN3m",
        "outputId": "c92b06d0-1264-4503-cd08-d89317793065"
      },
      "execution_count": null,
      "outputs": [
        {
          "output_type": "execute_result",
          "data": {
            "text/plain": [
              "{(1, 1), (2, 2), (3, 3), (4, 4)}"
            ]
          },
          "metadata": {},
          "execution_count": 10
        }
      ]
    },
    {
      "cell_type": "code",
      "source": [
        "# Verifica si dado un conjunto A,\n",
        "# su relación R es reflexiva\n",
        "A = {1, 2, 3, 4}\n",
        "R = {(a, a) for a in A}"
      ],
      "metadata": {
        "id": "qLXP7_cEd28E"
      },
      "execution_count": null,
      "outputs": []
    },
    {
      "cell_type": "code",
      "source": [
        "# muestra la relación R\n",
        "print(R)"
      ],
      "metadata": {
        "colab": {
          "base_uri": "https://localhost:8080/"
        },
        "id": "uxDJ15F6mjG7",
        "outputId": "81bec563-5b9f-45de-9bf3-afeb4be69453"
      },
      "execution_count": null,
      "outputs": [
        {
          "output_type": "stream",
          "name": "stdout",
          "text": [
            "{(4, 4), (1, 1), (3, 3), (2, 2)}\n"
          ]
        }
      ]
    },
    {
      "cell_type": "code",
      "source": [
        "# verifica si existe una relación\n",
        "if len(A) > 0 and len(R) == 0:\n",
        "  # La relación esta definida sobre un conjunto vacio\n",
        "  print('No existe la relación.')\n",
        "else:\n",
        "  # La relación si existe, falta verificar que tipo es\n",
        "  print('Si existe la relación.')"
      ],
      "metadata": {
        "colab": {
          "base_uri": "https://localhost:8080/"
        },
        "id": "e1JAmEG1fXoI",
        "outputId": "38ae23f2-35fe-4aee-87bb-e36852e2a2f6"
      },
      "execution_count": null,
      "outputs": [
        {
          "output_type": "stream",
          "name": "stdout",
          "text": [
            "Si existe la relación.\n"
          ]
        }
      ]
    },
    {
      "cell_type": "code",
      "source": [
        "# Dado el conjunto A,\n",
        "# verifica si R es reflexiva\n",
        "reflexiva = True\n",
        "for x in A:\n",
        "  if (x, x) not in R:\n",
        "    reflexiva = False\n",
        "    print('No existe la tupla: ', (x, x))\n",
        "    break\n",
        "\n",
        "if reflexiva:\n",
        "  print(\"R es una relación reflexiva.\")\n",
        "else:\n",
        "  print(\"R no es una relación reflexiva.\")"
      ],
      "metadata": {
        "colab": {
          "base_uri": "https://localhost:8080/"
        },
        "id": "oavGrx9Jhui9",
        "outputId": "eeb265c3-824d-42e2-c010-4f62d9693373"
      },
      "execution_count": null,
      "outputs": [
        {
          "output_type": "stream",
          "name": "stdout",
          "text": [
            "R si es una relación reflexiva.\n"
          ]
        }
      ]
    },
    {
      "cell_type": "code",
      "source": [
        "# Dada R, verifica si es reflexiva\n",
        "reflexiva = True\n",
        "for tupla in R:\n",
        "  if tupla[0] != tupla[1]:\n",
        "    reflexiva = False\n",
        "    print('No existe la tupla: ', (x, x))\n",
        "    break\n",
        "\n",
        "if reflexiva:\n",
        "  print(\"R es una relación reflexiva.\")\n",
        "else:\n",
        "  print(\"R no es una relación reflexiva.\")"
      ],
      "metadata": {
        "colab": {
          "base_uri": "https://localhost:8080/"
        },
        "id": "RTR8id31j8oj",
        "outputId": "bec26af5-3674-4287-dcd1-3f6af8e9cbc7"
      },
      "execution_count": null,
      "outputs": [
        {
          "output_type": "stream",
          "name": "stdout",
          "text": [
            "R si es una relación reflexiva.\n"
          ]
        }
      ]
    },
    {
      "cell_type": "markdown",
      "source": [
        "### Relación Simétrica\n",
        "\n",
        "Una relación es simétrica, si para cada par ordenado $(x, y)$ en $R$, \n",
        "\n",
        "* vale que $(y, x)$ también está en $R$,\n",
        "* o sea; $(x, y) ∈ R ⇒ (y, x) ∈ R)$.\n",
        "\n"
      ],
      "metadata": {
        "id": "B9IYhDLpn30I"
      }
    },
    {
      "cell_type": "code",
      "source": [
        "## Simetría\n",
        "\n",
        "# construye dos conjuntos\n",
        "E = {1, 3}\n",
        "F = {5, 7}\n",
        "\n",
        "# construye una relación de simetría\n",
        "RS = {(x, y) for x in E for y in F}\n",
        "RS.update({(y, x) for y in F for x in E })"
      ],
      "metadata": {
        "id": "_EExEowCaV0n"
      },
      "execution_count": null,
      "outputs": []
    },
    {
      "cell_type": "code",
      "source": [
        "# muestra la relación\n",
        "print(RS)"
      ],
      "metadata": {
        "colab": {
          "base_uri": "https://localhost:8080/"
        },
        "id": "kYeToqijPbj3",
        "outputId": "00f3b032-1ea7-4ed2-fac1-f0b8aaf7c351"
      },
      "execution_count": null,
      "outputs": [
        {
          "output_type": "stream",
          "name": "stdout",
          "text": [
            "{(7, 1), (1, 5), (3, 7), (5, 1), (7, 3), (1, 7), (5, 3), (3, 5)}\n"
          ]
        }
      ]
    },
    {
      "cell_type": "code",
      "source": [
        "# verifica si RS es simétrica\n",
        "simetrica = True\n",
        "for tupla in RS:\n",
        "  if (tupla[1], tupla[0]) not in RS:\n",
        "    simetrica = False\n",
        "    print('No existe la tupla: ', (tupla[1], tupla[0]))\n",
        "    break\n",
        "\n",
        "if simetrica:\n",
        "  print(\"RS es una relación simetrica.\")\n",
        "else:\n",
        "  print(\"RS no es una relación simetrica.\")"
      ],
      "metadata": {
        "colab": {
          "base_uri": "https://localhost:8080/"
        },
        "id": "wfUWwkuPTfXk",
        "outputId": "c2fcb47f-b277-4514-9a4c-dc6c5e167727"
      },
      "execution_count": null,
      "outputs": [
        {
          "output_type": "stream",
          "name": "stdout",
          "text": [
            "RS es una relación simetrica.\n"
          ]
        }
      ]
    },
    {
      "cell_type": "markdown",
      "source": [
        "### Relación Antisimétrica\n",
        "\n",
        "Una relación es antisimétrica, si para cada par ordenado $(x, y)$ en $R$ tal que \n",
        "\n",
        "* $x \\neq  y$, vale que $(y, x)$ no está en $R$, \n",
        "* o sea $(x, y) ∈ R$ tales que $x \\neq y ⇒ (y, x) ∈ R$. \n",
        "\n",
        "Equivalentemente, $R$ se dice antisimétrica si \n",
        "  * $(x, y) ∈ R$, y \n",
        "  * $(y, x) ∈ R ⇒ x \\neq y$\n",
        "\n",
        "Ejemplo: \n",
        "* $A = \\{ 1, 2, 3, 4 \\}$ \n",
        "* $R = \\{ (1, 2), (1, 3), (2, 3), (3, 4), (4, 4) \\}$"
      ],
      "metadata": {
        "id": "4YnJ9ILNW16C"
      }
    },
    {
      "cell_type": "code",
      "source": [
        "## Antsimetría\n",
        "\n",
        "# construye dos conjuntos\n",
        "G = {1, 2}\n",
        "H = {3, 4}\n",
        "\n",
        "# construye una relación de antisimetría\n",
        "RA = {(x, y) for y in H for x in G }\n",
        "RA.update({(1,1)})"
      ],
      "metadata": {
        "id": "QDH6w34eZ_eg"
      },
      "execution_count": null,
      "outputs": []
    },
    {
      "cell_type": "code",
      "source": [
        "print(RA)"
      ],
      "metadata": {
        "colab": {
          "base_uri": "https://localhost:8080/"
        },
        "id": "ha-oWyptaMfV",
        "outputId": "958afef8-9f61-4c00-f07d-f8a3f2d6c22d"
      },
      "execution_count": null,
      "outputs": [
        {
          "output_type": "stream",
          "name": "stdout",
          "text": [
            "{(2, 3), (2, 4), (1, 1), (1, 3), (1, 4)}\n"
          ]
        }
      ]
    },
    {
      "cell_type": "code",
      "source": [
        "# verifica si RA es antisimétrica\n",
        "antisimetrica = True\n",
        "for tupla in RA:\n",
        "  if tupla[0] != tupla[1]:\n",
        "    if (tupla[1], tupla[0]) in RA:\n",
        "      antisimetrica = False\n",
        "      print('Existen las tuplas: ', (tupla[1], tupla[0]), ' y ', (tupla[0], tupla[1]))\n",
        "      break\n",
        "\n",
        "if antisimetrica:\n",
        "  print(\"RA es una relación antisimétrica.\")\n",
        "else:\n",
        "  print(\"RA no es una relación antisimétrica.\")"
      ],
      "metadata": {
        "colab": {
          "base_uri": "https://localhost:8080/"
        },
        "id": "EBIUq_tDaMc-",
        "outputId": "b47bd50b-0019-4281-e609-3a7de2f8a2de"
      },
      "execution_count": null,
      "outputs": [
        {
          "output_type": "stream",
          "name": "stdout",
          "text": [
            "RA es una relación antisimétrica.\n"
          ]
        }
      ]
    },
    {
      "cell_type": "markdown",
      "source": [
        "### Relación Transitiva\n",
        "\n",
        "Una relación es transitiva, si cada vez que \n",
        "* $(x, y) ∈ R$ y $(y, z) ∈ R$ \n",
        "* entonces $(x, z) ∈ R$ \n",
        "* o sea $(x, y),(y, z) ∈ R ⇒ (x, z) ∈ R)$.\n",
        "\n",
        "Considera por ejemplo el conjunto $A = {a, b, c}$\n",
        "\n",
        "* $R = \\{(a, b), (b, c), (a, c)\\}$ es una relación transitiva, pero \n",
        "\n",
        "* $ R = \\{(a, b), (b, c)\\}$ no es una relación transitiva."
      ],
      "metadata": {
        "id": "FRsgq4QdvkXF"
      }
    },
    {
      "cell_type": "markdown",
      "source": [
        "Así por ejemplo dado el conjunto $N$ de los números naturales y la relación de orden \"menor o igual que\" vemos que es transitiva:\n",
        "\n",
        "* $ \\forall a,b,c \\in \\mathbb{N} : \\quad a\\leq b\\quad \\land \\quad b\\leq c\\longrightarrow \\quad a\\leq c$\n",
        "\n",
        "Así, puesto que:\n",
        "\n",
        "* $2,5,7 \\in \\mathbb{N} : \\quad 2\\leq 5\\quad \\land \\quad 5\\leq 7\\longrightarrow \\quad 2\\leq 7$"
      ],
      "metadata": {
        "id": "KhTuxCN3z6WV"
      }
    },
    {
      "cell_type": "code",
      "source": [
        "## Transitividad\n",
        "\n",
        "# construye tres conjuntos\n",
        "I = {1}\n",
        "J = {30}\n",
        "K = {500}\n",
        "\n",
        "# construye una relación de transitividad\n",
        "RT = { (x, y) for x in I for y in J }\n",
        "RT.update({(y, z) for y in J for z in K})\n",
        "RT.update({(x, z) for x in I for z in K})"
      ],
      "metadata": {
        "id": "MKl4e91lYkk7"
      },
      "execution_count": 53,
      "outputs": []
    },
    {
      "cell_type": "code",
      "source": [
        "# muestra la relación\n",
        "print(RT)"
      ],
      "metadata": {
        "colab": {
          "base_uri": "https://localhost:8080/"
        },
        "id": "fRQMuFBFYkik",
        "outputId": "9ee0e911-9c8e-4f83-d835-c7966fa3e901"
      },
      "execution_count": 54,
      "outputs": [
        {
          "output_type": "stream",
          "name": "stdout",
          "text": [
            "{('b', 500), (1, 'b'), (1, 500)}\n"
          ]
        }
      ]
    },
    {
      "cell_type": "code",
      "source": [
        "# verifica si RT es transitiva\n",
        "transitiva = True\n",
        "for x,y1 in RT:\n",
        "  for y2,z in RT:\n",
        "    if y1 == y2 and ((x,z) not in RT):\n",
        "      #print((x,y1),(y2,z))\n",
        "      transitiva = False\n",
        "      print('Existe la tupla: ', (x,y1))\n",
        "\n",
        "if transitiva:\n",
        "  print(\"RT es una relación transitiva.\")\n",
        "else:\n",
        "  print(\"RT no es una relación transitiva.\")"
      ],
      "metadata": {
        "colab": {
          "base_uri": "https://localhost:8080/"
        },
        "id": "FRtKn784xHiy",
        "outputId": "ebd9da7e-4ac1-414f-e0f9-c232c32054bd"
      },
      "execution_count": 48,
      "outputs": [
        {
          "output_type": "stream",
          "name": "stdout",
          "text": [
            "RT es una relación transitiva.\n"
          ]
        }
      ]
    },
    {
      "cell_type": "code",
      "source": [
        "A={'a','b','c'}"
      ],
      "metadata": {
        "id": "9c5nVwV__Lou"
      },
      "execution_count": 51,
      "outputs": []
    },
    {
      "cell_type": "code",
      "source": [
        "print(A)"
      ],
      "metadata": {
        "colab": {
          "base_uri": "https://localhost:8080/"
        },
        "id": "Hri8a-wa_P2f",
        "outputId": "0dcbea89-ac02-431e-d0ed-a9172806d20e"
      },
      "execution_count": 52,
      "outputs": [
        {
          "output_type": "stream",
          "name": "stdout",
          "text": [
            "{'a', 'b', 'c'}\n"
          ]
        }
      ]
    },
    {
      "cell_type": "markdown",
      "source": [
        "## Ejercicio\n",
        "\n",
        "* Utiliza el código de los ejemplos para construir una clase del tipo: \"class Relacion:\", que contenga todas las relaciones vistas en los ejemplos.\n",
        "\n",
        "* Prueba que funcione bien el código.\n",
        "* Utiliza contraejemplos donde no se cumpla la relación para probar el buen funcionamiento del código.\n",
        "* Utiliza los siguientes conjuntos para construir relaciones entre ellos: \n",
        "  * $N=\\{1,2,3\\}$, y \n",
        "  * $A=\\{a,b,c\\}$\n",
        "\n",
        "* Para los siguientes conjuntos verifica que relaciones tienen sus elementos (tuplas), pruebalos con tu código y argumenta (escribe) las razones por la cual tienen o no tienen una relación de las esudiadas en los ejemplos anteriores.\n",
        "  * $B=\\{(0,0),(1,1),(2,2), (4,4), (6,6), (0,1), (1,2),\n",
        "  (2,4),(4,6)\\}$\n",
        "  * $C =\\{(0,0),(1,1),(2,2),(4,4),(6,6),(4,6),(6,4)\\}$\n",
        "  * $D = \\{(0,1),(1,0),(2,4),(4,2),(4,6),(6,4)\\}$\n",
        "  * $E = \\{(0,0),(1,1),(2,2),(3,3),(4,4),(5,5)\\}$"
      ],
      "metadata": {
        "id": "m7RLObM6awPl"
      }
    }
  ]
}