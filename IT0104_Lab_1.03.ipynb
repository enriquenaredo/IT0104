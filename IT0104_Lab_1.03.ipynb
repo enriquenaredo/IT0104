{
  "nbformat": 4,
  "nbformat_minor": 0,
  "metadata": {
    "colab": {
      "provenance": []
    },
    "kernelspec": {
      "name": "python3",
      "display_name": "Python 3"
    },
    "language_info": {
      "name": "python"
    }
  },
  "cells": [
    {
      "cell_type": "markdown",
      "source": [
        "#IT0104 - Matemáticas Discretas\n",
        "\n",
        "### Primavera 2023\n",
        "\n",
        "### IT0104_Lab-03\n",
        "\n",
        "**Profesor Enrique Naredo García**\n",
        "\n",
        " <font size = 2> \n",
        "©️ Todos los derechos reservados. All rights reserved.\n",
        "\n",
        "*Nota: El presente documento es una herramienta diseñada única y exclusivamente para los estudiantes de la asignatura arriba mencionada. Queda prohibido compartir este documento entre otros estudiantes, aún siendo de la misma clase, grupo o de la Universidad sin consentimiento del autor. Queda prohibida la reproducción total o parcial de este documento por cualquier medio o procedimiento, ya sea electrónico o mecánico, el tratamiento informático, el alquiler o cualquier otra forma de cesión sin la autorización previa y por escrito del titular del copyright.*\n",
        "</font>"
      ],
      "metadata": {
        "id": "DTzBdXqHVHMD"
      }
    },
    {
      "cell_type": "markdown",
      "source": [
        "### Proposiciones compuestas\n",
        "\n",
        "Para encontrar valores de verdad de proposiciones compuestas, es útil dividirlas en partes más pequeñas."
      ],
      "metadata": {
        "id": "kdu12YIBStmF"
      }
    },
    {
      "cell_type": "markdown",
      "source": [
        "**Ejemplo**\n",
        "\n",
        "El siguiente código revela la tabla de verdad de la proposición compuesta:\n",
        "\n",
        "$$(p∧q)∨¬q $$\n",
        "\n",
        "     Recuerde que $¬q$ es una abreviatura matemática para no $q$."
      ],
      "metadata": {
        "id": "LcbBDZLZSyZ1"
      }
    },
    {
      "cell_type": "code",
      "source": [
        "## Proposición compuesta\n",
        "\n",
        "# conjuncion\n",
        "def conjuncion(p, q):\n",
        "    return p and q\n",
        "\n",
        "# disjuncion\n",
        "def disjuncion(p, q):\n",
        "    return p or q\n",
        "\n",
        "print(\"p    q    a\")\n",
        "for p in [True, False]:\n",
        "    for q in [True, False]:\n",
        "        # proposición compuesta\n",
        "        a = disjuncion(conjuncion(p, q), not q)\n",
        "        print(p, q, a)"
      ],
      "metadata": {
        "id": "nYHCKfWPR_HV",
        "colab": {
          "base_uri": "https://localhost:8080/"
        },
        "outputId": "49898550-1a2b-4f8d-fcd3-0804a2af383d"
      },
      "execution_count": 1,
      "outputs": [
        {
          "output_type": "stream",
          "name": "stdout",
          "text": [
            "p    q    a\n",
            "True True True\n",
            "True False True\n",
            "False True False\n",
            "False False True\n"
          ]
        }
      ]
    },
    {
      "cell_type": "markdown",
      "source": [
        "**Ejercicio**\n",
        "\n",
        "Edite el código anterior para revelar el valor de verdad de la proposición compuesta:\n",
        "\n",
        "$$(p∨¬q)∧¬p$$"
      ],
      "metadata": {
        "id": "OwmlDc4dTXiv"
      }
    },
    {
      "cell_type": "code",
      "source": [
        "## Dale nombre a tu método\n",
        "\n",
        "# aquí pon tu código\n",
        "\n",
        "\n",
        "\n",
        "\n"
      ],
      "metadata": {
        "id": "WXUWsW5AWbY4"
      },
      "execution_count": null,
      "outputs": []
    },
    {
      "cell_type": "markdown",
      "source": [
        "* Al crear su propia tabla de verdad, es crucial ser sistemático para asegurarse de tener todos los valores de verdad posibles para cada una de las proposiciones simples.\n",
        "\n",
        "* Cada proposición simple tiene dos posibles valores de verdad, por lo que el número de filas en la tabla debe ser $2n$ donde $n$ es el número de proposiciones.\n",
        "\n",
        "* También debe considerar dividir proposiciones complejas en partes más pequeñas."
      ],
      "metadata": {
        "id": "26wo_F8ATxgv"
      }
    },
    {
      "cell_type": "markdown",
      "source": [
        "**Ejercicio**\n",
        "\n",
        "Crea una tabla de verdad para la proposición compuesta:\n",
        "\n",
        "$$(p∧q)⟹(p∧r)$$\n",
        "\n",
        "para todos los valores de $p,q,r$.\n",
        "\n",
        "     Nota: Debe tener 8 filas, ya que hay tres proposiciones simples y cada una tiene dos posibles valores de verdad.\n"
      ],
      "metadata": {
        "id": "APKIMFJkT6vS"
      }
    },
    {
      "cell_type": "markdown",
      "source": [
        "Usa este formato para crear tu tabla.\n",
        "\n",
        "|    p    |    q \t   |   r     |\t p∧q   |   p∧r    | (p∧q)⟹(p∧r) |\n",
        "| :-----: | :------: |:------: | :-----: | :------: |:------:|\n",
        "|         |          |         |         |          |        |\n"
      ],
      "metadata": {
        "id": "tYN9xfRIVbE7"
      }
    },
    {
      "cell_type": "markdown",
      "source": [
        "##Traducciones lógicas\n",
        "\n",
        "Hace mucho tiempo, los filósofos descubrieron que podíamos poner nuestros pensamientos en símbolos y seguir líneas de razonamiento más fácilmente.\n",
        "\n",
        "Este fue un paso importante en el eventual desarrollo de nuestra sociedad tecnológica moderna y nuestro uso de computadoras digitales.\n",
        "\n",
        "Antes de que las computadoras puedan funcionar, tenemos que poner nuestros pensamientos en ellas.\n",
        "\n",
        "Pero, el idioma español es amplio y usamos muchas frases diferentes para representar las mismas declaraciones lógicas.\n",
        "\n",
        "Traducir declaraciones de oraciones en inglés a símbolos y viceversa es una habilidad que requiere mucha práctica"
      ],
      "metadata": {
        "id": "7SLETzDjXnU_"
      }
    },
    {
      "cell_type": "markdown",
      "source": [
        "###Equivalencias de proposiciones\n",
        "\n",
        "Dos proposiciones se consideran lógicamente equivalentes (o simplemente equivalentes) si tienen los mismos valores de verdad en todos los casos.\n",
        "\n",
        "A menudo es más fácil ver esto construyendo una tabla de verdad para las dos proposiciones y comparando.\n"
      ],
      "metadata": {
        "id": "fBk-81hwYCAY"
      }
    },
    {
      "cell_type": "markdown",
      "source": [
        "**Ejemplo**\n",
        "\n",
        "Considere las proposiciones $¬p∨q$ versus $p⟹q$.\n"
      ],
      "metadata": {
        "id": "xe8ghxbTYQJa"
      }
    },
    {
      "cell_type": "markdown",
      "source": [
        "|    $p$  |  $q$     | $¬p ∨ q$ |  $p⟹q$ | \n",
        "| :-----: | :------: |:------: |:------: |\n",
        "| True    | True     | True    | True    |\n",
        "| True    | False    | False   | False   |\n",
        "| False   | True     | True    | True    |\n",
        "| False   | False    | True    | True    |\n",
        "\n",
        "\n",
        "Dado que la tabla de verdad en todas las filas es la misma para las dos proposiciones compuestas, son equivalentes.\n"
      ],
      "metadata": {
        "id": "qUxnYc4eYLOX"
      }
    },
    {
      "cell_type": "markdown",
      "source": [
        "**Ejemplo**\n",
        "\n",
        "Considere tres proposiciones compuestas:\n",
        "\n",
        "1. (p∧q)⟹r\n",
        "2. (p⟹q)∧(p⟹r)\n",
        "3. p⟹(q∧r)\n",
        "\n",
        "El siguiente código revela la tabla de verdad para 1. \n",
        "\n",
        "Modifíquela para 2 y 3 para determinar qué conjunto de proposiciones compuestas son equivalentes."
      ],
      "metadata": {
        "id": "8q-hJjRxZuiI"
      }
    },
    {
      "cell_type": "code",
      "source": [
        "# (p∧q)⟹r\n",
        "def conjunction(p, q):\n",
        "    return p and q\n",
        "\n",
        "def implication(p, q):\n",
        "    return not p or q\n",
        "\n",
        "print(\"p    q    r    a\")\n",
        "for p in [True, False]:\n",
        "    for q in [True, False]:\n",
        "        for r in [True, False]:\n",
        "            a = implication(conjunction(p, q), r)\n",
        "            print(p, q, r, a)"
      ],
      "metadata": {
        "id": "CbV80Y2zVaqp"
      },
      "execution_count": null,
      "outputs": []
    },
    {
      "cell_type": "code",
      "source": [
        "# 2. (p⟹q)∧(p⟹r)\n",
        "# Aquí pon tu código\n",
        "\n",
        "\n",
        "\n",
        "\n",
        "\n"
      ],
      "metadata": {
        "id": "ZjiOEhera214"
      },
      "execution_count": null,
      "outputs": []
    },
    {
      "cell_type": "code",
      "execution_count": null,
      "metadata": {
        "id": "lAbHdYTKVFZs"
      },
      "outputs": [],
      "source": [
        "# 3. p⟹(q∧r)\n",
        "# Aquí pon tu código\n",
        "\n",
        "\n",
        "\n",
        "\n",
        "\n"
      ]
    }
  ]
}
