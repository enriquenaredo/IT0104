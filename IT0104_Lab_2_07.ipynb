{
  "nbformat": 4,
  "nbformat_minor": 0,
  "metadata": {
    "colab": {
      "provenance": []
    },
    "kernelspec": {
      "name": "python3",
      "display_name": "Python 3"
    },
    "language_info": {
      "name": "python"
    }
  },
  "cells": [
    {
      "cell_type": "markdown",
      "source": [
        "#IT0104 - Matemáticas Discretas\n",
        "\n",
        "### Primavera 2023\n",
        "\n",
        "### IT0104_Lab-2.07\n",
        "\n",
        "**Profesor Enrique Naredo García**\n",
        "\n",
        " <font size = 2> \n",
        "©️ Todos los derechos reservados. All rights reserved.\n",
        "\n",
        "*Nota: El presente documento es una herramienta diseñada única y exclusivamente para los estudiantes de la asignatura arriba mencionada. Queda prohibido compartir este documento entre otros estudiantes, aún siendo de la misma clase, grupo o de la Universidad sin consentimiento del autor. Queda prohibida la reproducción total o parcial de este documento por cualquier medio o procedimiento, ya sea electrónico o mecánico, el tratamiento informático, el alquiler o cualquier otra forma de cesión sin la autorización previa y por escrito del titular del copyright.*\n",
        "</font>"
      ],
      "metadata": {
        "id": "3Vof2PqpgPwt"
      }
    },
    {
      "cell_type": "markdown",
      "source": [
        "##Teoría de conjuntos\n",
        "\n",
        "La [teoría de conjuntos](https://es.wikipedia.org/wiki/Teor%C3%ADa_de_conjuntos) es una rama de la lógica matemática que estudia las propiedades y relaciones de los conjuntos: colecciones abstractas de objetos, consideradas como objetos en sí mismas. \n",
        "\n",
        "* Los conjuntos y sus operaciones más elementales son una herramienta básica que permite formular de cualquier otra teoría matemática.\n",
        "\n",
        "\n",
        "* Aquí encontraran una buena [introducción a la teoría de conjuntos.](https://medium.com/@matematicasdiscretaslibro/cap%C3%ADtulo-7-teoria-de-conjuntos-5ef84ea70025) \n",
        "\n",
        "\n",
        "* Este es un buen recurso para la representación gráfica de conjuntos en linea utilizando[Diagramas de Venn Online.](https://wolframalpha0.blogspot.com/2014/01/como-hacer-diagramas-de-venn-online.html)\n",
        "\n",
        "* Aqui tienes dos videos que te muestran como agregar imágenes en Jupyter notebooks\n",
        "  * [Como cargar imagen en Python + Colab](https://www.youtube.com/watch?v=Lq9uLomT3pw), \n",
        "  * [Agregar imágenes celda colab](https://www.youtube.com/watch?v=dZtWnCONt6w)."
      ],
      "metadata": {
        "id": "RR7ZkBDDmmxZ"
      }
    },
    {
      "cell_type": "markdown",
      "source": [
        "##Ejercicios\n",
        "\n",
        "Aquí tienes una lista de ejercicios que te ayudarán a desarrollar tus habilidades en cuanto a los conjuntos y las operaciones entre ellos.\n",
        "\n",
        "* Aquí tienes recursos  \n",
        "  * para [operaciones Booleanas](https://wolframalpha0.blogspot.com/2014/01/como-hacer-diagramas-de-venn-online.html), y\n",
        "  * [una calculadora de conjuntos.](https://www.disfrutalasmatematicas.com/conjuntos/calculadora-conjuntos.html) para verificar tus operaciones. \n",
        "\n",
        "* Aquí tienes un recurso usando Geogebra para la [visualización de los diagramas de Venn](https://www.geogebra.org/m/thabw3up).\n"
      ],
      "metadata": {
        "id": "A98R26qng9Py"
      }
    },
    {
      "cell_type": "markdown",
      "source": [
        "1. Considera como conjunto universal, el conjunto de las letras minúsculas del alfabeto (español),\n",
        "* U=\\{a,b,c,…,v,w,x,y,z\\}, y los conjuntos\n",
        "\n",
        "* A=\\{a,b,c,d,e,f,g,h\\},\n",
        "* B=\\{f,g,h,i,j,k\\}, y\n",
        "* C=\\{x,y,z\\}.\n",
        "\n",
        "Para los conjuntos que se indican a continuación:\n",
        "\n",
        "* a) Encuentra los elementos obtenidos de las siguientes operaciones de conjuntos enlistadas abajo (utiliza llaves), y\n",
        "\n",
        "* b) Dibuja diagramas de Venn para cada uno de los conjuntos\n",
        "\n",
        "  * i. $A∪B$\n",
        "\n",
        "  * ii. $A∩B$\n",
        "\n",
        "  * iii. $A∪C$\n",
        "\n",
        "  * iv. $A∩C$\n",
        "\n",
        "  * v. $A∖B$\n",
        "\n",
        "  * vi. $B∖A$\n",
        "\n",
        "  * vii. $A∖C$\n",
        "\n",
        "  * viii. $C∖A$\n",
        "\n",
        "  * ix. $A∪C$\n",
        "\n",
        "  * x. $A∩C$\n",
        "\n",
        "  * xi. $\\overline{A}$\n",
        "\n",
        "  * xii. $\\overline{B}$\n",
        "\n",
        "  * xiii. $\\overline{C}$\n",
        "\n",
        "  * xiv. $\\overline{B∩C}$\n",
        "\n",
        "  * xv. $\\overline{(A∩B)∪(B∩C)}$"
      ],
      "metadata": {
        "id": "uiCNyLszhL6_"
      }
    },
    {
      "cell_type": "markdown",
      "source": [
        "2. Usa diagramas de Venn y determina cuáles de las siguientes operaciones son equivalentes\n",
        "\n",
        "* a) $A∖(A∖B))$,\n",
        "\n",
        "  * $A∪B$,\n",
        "\n",
        "  * $A∩B$.\n",
        "\n",
        "* b) $A∪\\overline{A}$,\n",
        "\n",
        "  * $A∩\\overline{A}$,\n",
        "\n",
        "  * $U$,\n",
        "\n",
        "  * $∅$.\n",
        "\n",
        "* c) $\\overline{A}∩\\overline{B}$,\n",
        "\n",
        "  * $\\overline{A∩B}$,\n",
        "\n",
        "  * $\\overline{A}∪\\overline{B}$,\n",
        "\n",
        "  * $\\overline{A∪B}$.\n",
        "\n",
        "* d) $A∪(B∩C)$,\n",
        "\n",
        "  * $A∩(B∪C)$,\n",
        "\n",
        "  * $(A∩B)∪(A∩C)$,\n",
        "\n",
        "  * $(A∪B)∩(A∪C)$.\n",
        "\n",
        "* e) $\\overline{\\overline{A}∪(C∖B)}$,\n",
        "\n",
        "  * $A∩(B∪\\overline{C})$,\n",
        "\n",
        "  * $A∖(C∖B)$."
      ],
      "metadata": {
        "id": "tXCfDTdVkAKR"
      }
    },
    {
      "cell_type": "markdown",
      "source": [
        "3. Escribe cada uno de los conjuntos en notación de consrucción de conjuntos\n",
        "\n",
        "* a) $\\{…,−9,−7,−5,−3,−2,−1,1,3,5,7,9,…\\}$\n",
        "\n",
        "* b) $\\{…,−8,−6,−4,−2,0,2,4,6,8,10, …\\}$\n",
        "\n",
        "* c) $\\{1,2,3,4,5,6,7,8,9,10\\}$\n",
        "\n",
        "* d) $\\{1,\\frac{1}{2},\\frac{1}{3},\\frac{1}{4},\\frac{1}{5},…\\}$\n",
        "\n",
        "* e) $\\{0,1,4,9,16,25,36,49,…\\}$\n",
        "\n",
        "* f) $\\{…,−10,−6,−2,2,6,10,14,18,22,…\\}$\n",
        "\n",
        "* g) $\\{3,9,27,81,243,…\\}$\n",
        "\n",
        "* h) $\\{1,9,25,49,81,…\\}$"
      ],
      "metadata": {
        "id": "6_LaKue7KsDM"
      }
    },
    {
      "cell_type": "markdown",
      "source": [
        "4. Escribe cada uno de los siguientes conjuntos en forma de lista, utiliza llaves y dentro de ellas escribe los elementos que se describen en la notación generadora de conjuntos.\n",
        "\n",
        "* a) $\\{x∈ℝ:|2x+5|=7\\}$\n",
        "\n",
        "* b) $\\{10n:n∈ℕ\\}$\n",
        "\n",
        "* c) $\\{10n:n∈ℤ\\}$\n",
        "\n",
        "* d) $\\{2^n:n∈ℕ\\}$\n",
        "\n",
        "* e) $\\{2^n:n∈ℤ\\}$\n",
        "\n",
        "* f) $\\{x∈ℝ:x^2=4\\}$\n",
        "\n",
        "* g) $\\{x∈ℝ:x^3=64\\}$\n",
        "\n",
        "* h) $\\{x∈ℤ:x^2=5\\}$\n",
        "\n",
        "* i) $\\{x∈ℝ:x^2=−4\\}$\n",
        "\n",
        "* j) $\\{x∈ℤ:|x−5|=3\\}$\n",
        "\n",
        "* k) $\\{3n+4:n∈ℕ\\}$\n",
        "\n",
        "* l) $\\{3n+4:n∈ℤ\\}$\n",
        "\n",
        "* m) $\\{i^n:n∈ℕ\\}$, donde $i$ es tal que $i^2=−1$ (la unidad imaginaria). "
      ],
      "metadata": {
        "id": "PlS83SW2Lgdv"
      }
    },
    {
      "cell_type": "markdown",
      "source": [
        "5. Considera los siguientes conjuntos \n",
        "\n",
        "  * $A=\\{1,3,5,7,9,11,13,15,17\\}$, \n",
        "  * $B=\\{2,5,7,11\\}$, and \n",
        "  * $C=\\{1,2,3\\}$.\n",
        "\n",
        "  **Nota:** Aquí encontraras una descripción de un [conjunto potencia](https://es.wikipedia.org/wiki/Conjunto_potencia).\n",
        "\n",
        "* a) Determina la [cardinalidad](https://es.wikipedia.org/wiki/Cardinalidad) de los siguientes conjuntos,\n",
        "\n",
        "  * i. $|A|$\n",
        "\n",
        "  * ii. $|A∪B|$\n",
        "\n",
        "  * iii. $|A∩C|$\n",
        "\n",
        "  * iv. $|P(A)|$ \n",
        "\n",
        "  * v. $|P(B)|$\n",
        "\n",
        "  * vi. $|P(C)|$\n",
        "\n",
        "* b) Proporciona los conjuntos potencia siguientes,\n",
        "\n",
        "   * i. $P(B)$\n",
        "\n",
        "   * ii. $P(C)$"
      ],
      "metadata": {
        "id": "B7oU1LqdNGCj"
      }
    },
    {
      "cell_type": "markdown",
      "source": [
        "6. Determina la [cardinalidad](https://es.wikipedia.org/wiki/Cardinalidad) de los siguientes conjuntos,\n",
        "\n",
        "* a) $\\{n∈ℤ:|n|≤10\\}$\n",
        "\n",
        "* b) $\\{A,B,∅,\\{2,5,6\\}\\}$\n",
        "\n",
        "* c) $\\{\\{A,B\\},\\{\\},\\{\\{2,5,6\\}\\},\\{\\{2,5,6\\},C\\},\\{A,B,C\\}\\}$\n",
        "\n",
        "* d) $\\{\\{\\{A,B\\},∅,\\{\\{2,5,6\\},C\\},\\{A,B,C\\}\\}\\}$"
      ],
      "metadata": {
        "id": "VKua9t0aO94C"
      }
    },
    {
      "cell_type": "markdown",
      "source": [
        "7. Considera los conjuntos, \n",
        "  * $B=\\{0,1\\}$, \n",
        "  * $S=\\{$primavera, verano, otoño, invierno$\\}$, y \n",
        "  * $C=\\{a,b,c,d,e\\}$. \n",
        "\n",
        "* Para cada uno de los siguientes conjuntos:\n",
        "\n",
        "* a) Determina los siguientes productos cartesianos.\n",
        "\n",
        "* b) Calcula la [cardinalidad](https://es.wikipedia.org/wiki/Cardinalidad) de cada uno de los productos cartesianos.\n",
        "\n",
        "  * i. $B×S$\n",
        "\n",
        "  * ii. $S×B$\n",
        "\n",
        "  * iii. $B×C$\n",
        "\n",
        "  * iv. $C×B$\n",
        "\n",
        "  * v. $B×B×B×B$\n",
        "\n",
        "  * vi. $S×B×B$\n"
      ],
      "metadata": {
        "id": "GqpNiB4HQLup"
      }
    },
    {
      "cell_type": "markdown",
      "source": [
        "8. Determina  los siguientes conjuntos potencia,\n",
        "\n",
        "* a) $P(\\{$Chiapas, QuintanaRoo, Yucatán, Campeche$\\})$\n",
        "\n",
        "* b)$P(∅)$\n",
        "\n",
        "* c) $P(\\{∅\\})$\n",
        "\n",
        "* d) $P(\\{$ Chiapas $\\})$\n",
        "\n",
        "* e) $P(\\{$ Chiapas,QuintanaRoo,Yucatán $\\})$\n",
        "\n",
        "* f) $P(\\{\\{$ Chiapas,QuintanaRoo $\\}$,$\\{$Yucatán$\\}\\})$"
      ],
      "metadata": {
        "id": "4025xXE5WY2F"
      }
    },
    {
      "cell_type": "markdown",
      "source": [
        "9. Analiza cada una de los siguientes diagramas de Venn, \n",
        "  * identifica las áreas sombreadas y \n",
        "  * escribe la notación de conjuntos correcta para obtener dicha(s) área(s).\n",
        "\n",
        "* a) \n",
        "\n",
        "<img src=\"https://drive.google.com/uc?export=view&id=1jhymKdTSjghn-fXhsoDZ_G3A6N3bqHEw\" \n",
        "     width=\"250\" \n",
        "     height=\"200\" />\n",
        "\n",
        "* b) \n",
        "\n",
        "<img src=\"https://drive.google.com/uc?export=view&id=14A5-xu1mNY1Y8YMb63nU7KKEdlbJFNgC\" \n",
        "     width=\"250\" \n",
        "     height=\"200\" />\n",
        "\n",
        "\n",
        "* c) \n",
        "\n",
        "<img src=\"https://drive.google.com/uc?export=view&id=1xdGnAQA4k_DegoWohpdNKRXPwkXykfAK\" \n",
        "     width=\"250\" \n",
        "     height=\"200\" />\n",
        "\n",
        "* d) \n",
        "\n",
        "<img src=\"https://drive.google.com/uc?export=view&id=1DrbYMKAEiwrmFFZTB1SIm6Ct3KcQM-CC\" \n",
        "     width=\"250\" \n",
        "     height=\"200\" />\n",
        "\n",
        "\n",
        "* e)\n",
        "\n",
        "<img src=\"https://drive.google.com/uc?export=view&id=1R7myUvQ9DZyxE-g6gz4lc7_CVkCA8Y99\" \n",
        "     width=\"250\" \n",
        "     height=\"200\" />\n",
        "\n",
        "\n",
        "* f)\n",
        "\n",
        "<img src=\"https://drive.google.com/uc?export=view&id=1u5nI-22AB8wRdYoKU2oaKbem8OOfWxKD\" \n",
        "     width=\"250\" \n",
        "     height=\"200\" />\n",
        "\n",
        "\n",
        "\n",
        "* g) \n",
        "\n",
        "<img src=\"https://drive.google.com/uc?export=view&id=13L1JI56_TMnAm14onoU3b7cngG9q9wa7\" \n",
        "     width=\"250\" \n",
        "     height=\"200\" />\n",
        "\n",
        "\n",
        "* h)\n",
        "\n",
        "<img src=\"https://drive.google.com/uc?export=view&id=11VsUZDstC0UxtJgn4pBqGeTXm-C9EGsX\" \n",
        "     width=\"250\" \n",
        "     height=\"200\" />\n"
      ],
      "metadata": {
        "id": "jQbqY_fVXi-k"
      }
    },
    {
      "cell_type": "markdown",
      "source": [
        "10. Determina si cada uno de las siguientes operaciones son falsas o verdaderas y explica tu razonamiento.\n",
        "\n",
        "**Nota:** Aquí encontraras ejemplos de [conjuntos numéricos](https://www.superprof.es/diccionario/matematicas/aritmetica/conjuntos-numericos.html).\n",
        "\n",
        "\n",
        "* $\\{7,4,6,2,11,3,5\\}⊆\\{1,2,3,4,5,6,7,8,9,10,11,12,13\\}$\n",
        "\n",
        "* $\\{1,2,3,4,5,6,7,8,9,10,11,12,13\\}⊆\\{7,4,6,2,11,3,5\\}$\n",
        "\n",
        "* $\\{7,4,6,2,11,3,5\\}⊆\\{7,4,6,2,11,3,5\\}$\n",
        "\n",
        "* $\\{3,8\\}⊈\\{7,4,6,2,11,3,5\\}$\n",
        "\n",
        "* $\\{3n+4:n∈ℕ\\}⊈ℤ$\n",
        "\n",
        "* $ℕ⊆ℤ⊆ℚ⊆ℝ$\n",
        "\n",
        "* $\\{x∈ℝ:|x|<3\\}⊆\\{x∈ℝ||x|<5\\}$\n",
        "\n",
        "* $\\{x∈ℝ:|x|>3\\}⊆\\{x∈ℝ||x|>5\\}$"
      ],
      "metadata": {
        "id": "FZZ7LFw3XkKU"
      }
    }
  ]
}