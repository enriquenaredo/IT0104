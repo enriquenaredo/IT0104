{
  "nbformat": 4,
  "nbformat_minor": 0,
  "metadata": {
    "colab": {
      "provenance": []
    },
    "kernelspec": {
      "name": "python3",
      "display_name": "Python 3"
    },
    "language_info": {
      "name": "python"
    }
  },
  "cells": [
    {
      "cell_type": "markdown",
      "source": [
        "#ID0205 - Geometría Computacional\n",
        "\n",
        "### Primavera 2023\n",
        "\n",
        "### IT0104_Lab-2.05\n",
        "\n",
        "**Profesor Enrique Naredo García**\n",
        "\n",
        "<font size = 2> \n",
        "©️ Todos los derechos reservados. All rights reserved.\n",
        "\n",
        "*Nota: El presente documento es una herramienta diseñada única y exclusivamente para los estudiantes de la asignatura arriba mencionada. Queda prohibido compartir este documento entre otros estudiantes, aún siendo de la misma clase, grupo o de la Universidad sin consentimiento del autor. Queda prohibida la reproducción total o parcial de este documento por cualquier medio o procedimiento, ya sea electrónico o mecánico, el tratamiento informático, el alquiler o cualquier otra forma de cesión sin la autorización previa y por escrito del titular del copyright.*\n",
        "</font>"
      ],
      "metadata": {
        "id": "aQJiuqjbkV3H"
      }
    },
    {
      "cell_type": "markdown",
      "source": [
        "##[Teoria de Conjuntos](https://es.wikipedia.org/wiki/Teor%C3%ADa_de_conjuntos)\n",
        "\n",
        "La teoría de conjuntos es una rama de la lógica matemática que estudia las propiedades y relaciones de los conjuntos: colecciones abstractas de objetos, consideradas como objetos en sí mismas. \n",
        "\n",
        "Los conjuntos y sus operaciones más elementales son una herramienta básica que permite formular de cualquier otra teoría matemática.\n"
      ],
      "metadata": {
        "id": "aqkr4N0Wk8AK"
      }
    },
    {
      "cell_type": "markdown",
      "source": [
        "##Ejemplos en Python\n"
      ],
      "metadata": {
        "id": "uDQYqtKrlRGc"
      }
    },
    {
      "cell_type": "markdown",
      "source": [
        "Conjunto de lenguajes de programación"
      ],
      "metadata": {
        "id": "dijnC2t9lnhd"
      }
    },
    {
      "cell_type": "code",
      "source": [
        "# declaramos un conjunto de lenguajes de programación\n",
        "set1 = {'Python','C','C++','JavaScript'}\n",
        "\n",
        "print(set1)"
      ],
      "metadata": {
        "colab": {
          "base_uri": "https://localhost:8080/"
        },
        "id": "JO84Uz2hbdsu",
        "outputId": "a1450555-1aaf-4bc9-bc31-5eab3936a021"
      },
      "execution_count": null,
      "outputs": [
        {
          "output_type": "stream",
          "name": "stdout",
          "text": [
            "{'C++', 'C', 'JavaScript', 'Python'}\n"
          ]
        }
      ]
    },
    {
      "cell_type": "code",
      "source": [
        "# verificamos el tipo\n",
        "type(set1)\n",
        "\n"
      ],
      "metadata": {
        "colab": {
          "base_uri": "https://localhost:8080/"
        },
        "id": "JVTY1WMqltld",
        "outputId": "bfe024da-b3ce-4817-eca9-8ef762979f3d"
      },
      "execution_count": null,
      "outputs": [
        {
          "output_type": "execute_result",
          "data": {
            "text/plain": [
              "set"
            ]
          },
          "metadata": {},
          "execution_count": 4
        }
      ]
    },
    {
      "cell_type": "markdown",
      "source": [
        "Podemos declarar un conjunto vacio"
      ],
      "metadata": {
        "id": "U8ibyVbjlmir"
      }
    },
    {
      "cell_type": "code",
      "source": [
        "set2 = {}\n",
        "print(set2)\n"
      ],
      "metadata": {
        "colab": {
          "base_uri": "https://localhost:8080/"
        },
        "id": "FOI8mz65bhEw",
        "outputId": "4ee3cc15-4f3d-4e44-d77a-0c8e1cfd4b50"
      },
      "execution_count": null,
      "outputs": [
        {
          "output_type": "stream",
          "name": "stdout",
          "text": [
            "{}\n"
          ]
        }
      ]
    },
    {
      "cell_type": "code",
      "source": [
        "# verificamos el tipo\n",
        "type(set2)\n"
      ],
      "metadata": {
        "colab": {
          "base_uri": "https://localhost:8080/"
        },
        "id": "0rEL4tFGmI4W",
        "outputId": "c765409f-7f57-43c3-a197-478002b68790"
      },
      "execution_count": null,
      "outputs": [
        {
          "output_type": "execute_result",
          "data": {
            "text/plain": [
              "dict"
            ]
          },
          "metadata": {},
          "execution_count": 8
        }
      ]
    },
    {
      "cell_type": "code",
      "source": [
        "# declaramos otro conjunto\n",
        "# y verficamos su tipo\n",
        "set3 = set()\n",
        "type(set3)\n"
      ],
      "metadata": {
        "colab": {
          "base_uri": "https://localhost:8080/"
        },
        "id": "9bGkNXZFbmCs",
        "outputId": "dd693070-744e-47d7-829b-9222daf75a85"
      },
      "execution_count": null,
      "outputs": [
        {
          "output_type": "execute_result",
          "data": {
            "text/plain": [
              "set"
            ]
          },
          "metadata": {},
          "execution_count": 9
        }
      ]
    },
    {
      "cell_type": "code",
      "source": [
        "# declaramos una lista\n",
        "list_1 = ['Python','C','C++','JavaScript','C']\n",
        "\n",
        "# checa como si se repite 'C'\n",
        "print(list_1)"
      ],
      "metadata": {
        "colab": {
          "base_uri": "https://localhost:8080/"
        },
        "id": "wexP7tkzbqdx",
        "outputId": "f26649e5-53c9-420c-9ce8-2b1490707938"
      },
      "execution_count": null,
      "outputs": [
        {
          "output_type": "stream",
          "name": "stdout",
          "text": [
            "['Python', 'C', 'C++', 'JavaScript', 'C']\n"
          ]
        }
      ]
    },
    {
      "cell_type": "code",
      "source": [
        "# convertimos la lista en conjunto\n",
        "set4 = set(list_1)\n",
        "\n",
        "# checa como no se repite 'C'\n",
        "print(set4)"
      ],
      "metadata": {
        "colab": {
          "base_uri": "https://localhost:8080/"
        },
        "id": "QplUtaZrmrx1",
        "outputId": "c00b8c1a-2787-487d-d2f6-f8a0a8300a04"
      },
      "execution_count": null,
      "outputs": [
        {
          "output_type": "stream",
          "name": "stdout",
          "text": [
            "{'C++', 'C', 'JavaScript', 'Python'}\n"
          ]
        }
      ]
    },
    {
      "cell_type": "code",
      "source": [
        "# verificamos el tipo de set4\n",
        "type(set4)\n"
      ],
      "metadata": {
        "colab": {
          "base_uri": "https://localhost:8080/"
        },
        "id": "eP8q4sAum0V2",
        "outputId": "ed4d45e0-e517-43de-f900-9bbf1ee191b5"
      },
      "execution_count": null,
      "outputs": [
        {
          "output_type": "execute_result",
          "data": {
            "text/plain": [
              "set"
            ]
          },
          "metadata": {},
          "execution_count": 15
        }
      ]
    },
    {
      "cell_type": "code",
      "source": [
        "# declaramos un conjunto vacio\n",
        "set5 = set()\n",
        "\n",
        "# verificamos su tamaño\n",
        "len(set5) "
      ],
      "metadata": {
        "id": "cjkuvZrfbui1",
        "colab": {
          "base_uri": "https://localhost:8080/"
        },
        "outputId": "a6c69a77-4370-4770-c7fa-21fde551823b"
      },
      "execution_count": null,
      "outputs": [
        {
          "output_type": "execute_result",
          "data": {
            "text/plain": [
              "0"
            ]
          },
          "metadata": {},
          "execution_count": 16
        }
      ]
    },
    {
      "cell_type": "code",
      "source": [
        "# agregamos un elemento al conjunto vacio\n",
        "set5.add('Python')\n",
        "\n",
        "# verificamos nuevamente el conjunto\n",
        "print(set5)"
      ],
      "metadata": {
        "colab": {
          "base_uri": "https://localhost:8080/"
        },
        "id": "M6UobKswb0PV",
        "outputId": "8cb7b156-97e3-4b50-9a6f-4dad72f812d6"
      },
      "execution_count": null,
      "outputs": [
        {
          "output_type": "stream",
          "name": "stdout",
          "text": [
            "{'Python'}\n"
          ]
        }
      ]
    },
    {
      "cell_type": "code",
      "source": [
        "# agregamos otro elemento al conjunto\n",
        "set5.add('C++')\n",
        "\n",
        "# verificamos nuevamente el conjunto\n",
        "print(set5)"
      ],
      "metadata": {
        "colab": {
          "base_uri": "https://localhost:8080/"
        },
        "id": "B41sXQuRb3wu",
        "outputId": "b5fbd46e-ca0d-41b2-ce4e-92711d2ae4b9"
      },
      "execution_count": null,
      "outputs": [
        {
          "output_type": "stream",
          "name": "stdout",
          "text": [
            "{'C++', 'Python'}\n"
          ]
        }
      ]
    },
    {
      "cell_type": "code",
      "source": [
        "# agregamos ahora varios elementos al conjunto\n",
        "set5.add('JavaScript')\n",
        "set5.add('Rust')\n",
        "set5.add('C')\n",
        "\n",
        "# verificamos nuevamente el conjunto\n",
        "print(set5)\n",
        "\n",
        "# verificamos su tamaño\n",
        "print(len(set5))"
      ],
      "metadata": {
        "colab": {
          "base_uri": "https://localhost:8080/"
        },
        "id": "7oCfy8TLoFoK",
        "outputId": "b5ec2e83-b0eb-4293-e09e-7012a53f3415"
      },
      "execution_count": null,
      "outputs": [
        {
          "output_type": "stream",
          "name": "stdout",
          "text": [
            "{'JavaScript', 'Rust', 'C++', 'Python', 'C'}\n",
            "5\n"
          ]
        }
      ]
    },
    {
      "cell_type": "code",
      "source": [
        "# podemos eliminar un elemento\n",
        "set5.remove('C')\n",
        "print(set5)\n",
        "\n",
        "# verificamos su tamaño\n",
        "print(len(set5))\n",
        "\n",
        "# Nota importante\n",
        "# este código no se puede\n",
        "# correr más de una vez\n",
        "# porque ya no existe el elemento\n"
      ],
      "metadata": {
        "colab": {
          "base_uri": "https://localhost:8080/"
        },
        "id": "vPY5VSmzcGeC",
        "outputId": "83c38584-338d-4f23-f22a-643f5581c3a7"
      },
      "execution_count": null,
      "outputs": [
        {
          "output_type": "stream",
          "name": "stdout",
          "text": [
            "{'JavaScript', 'Rust', 'C++', 'Python'}\n",
            "4\n"
          ]
        }
      ]
    },
    {
      "cell_type": "code",
      "source": [
        "# podemos imprimir cada uno de los elementos\n",
        "\n",
        "for lenguaje in set5:\n",
        "  print(lenguaje)\n"
      ],
      "metadata": {
        "colab": {
          "base_uri": "https://localhost:8080/"
        },
        "id": "fGVHxDHBcVRf",
        "outputId": "6ba1e60b-9a88-4cde-bb96-e98ee63a88e7"
      },
      "execution_count": null,
      "outputs": [
        {
          "output_type": "stream",
          "name": "stdout",
          "text": [
            "JavaScript\n",
            "Rust\n",
            "C++\n",
            "Python\n"
          ]
        }
      ]
    },
    {
      "cell_type": "markdown",
      "source": [
        "##Operaciones con conjuntos"
      ],
      "metadata": {
        "id": "CQ_esbRFcpCp"
      }
    },
    {
      "cell_type": "markdown",
      "source": [
        "###Unión de Conjuntos\n",
        "\n",
        "En la teoría de conjuntos, la unión de dos conjuntos es el conjunto de todos los elementos en al menos uno de los dos conjuntos. Si hay dos conjuntos, A y B, entonces la unión contiene elementos que están presentes solo en A, solo en B, y los elementos presentes tanto en A como en B."
      ],
      "metadata": {
        "id": "NRK2UbTdc56g"
      }
    },
    {
      "cell_type": "code",
      "source": [
        "# definimos dos conjuntos\n",
        "setA = {1,3,5,7,9}\n",
        "setB = {2,4,6,8,9}"
      ],
      "metadata": {
        "colab": {
          "base_uri": "https://localhost:8080/"
        },
        "id": "H2tqc7BvctH_",
        "outputId": "980764fa-7e02-4059-f116-d222aca472d2"
      },
      "execution_count": null,
      "outputs": [
        {
          "output_type": "stream",
          "name": "stdout",
          "text": [
            "{1, 2, 3, 4, 5, 6, 7, 8, 9}\n",
            "{1, 2, 3, 4, 5, 6, 7, 8, 9}\n"
          ]
        }
      ]
    },
    {
      "cell_type": "code",
      "source": [
        "# unimos los dos cojuntos usando\n",
        "# el operador: \"|\"\n",
        "print(setA | setB)\n"
      ],
      "metadata": {
        "id": "aDHQf4ouqGMs"
      },
      "execution_count": null,
      "outputs": []
    },
    {
      "cell_type": "code",
      "source": [
        "# unimos los dos cojuntos usando\n",
        "# el operador: \".union\"\n",
        "print(setA.union(setB))"
      ],
      "metadata": {
        "id": "xEX4MqaiqHsp"
      },
      "execution_count": null,
      "outputs": []
    },
    {
      "cell_type": "code",
      "source": [
        "# tambi[]\n",
        "setB.union(setA)\n",
        "\n",
        "# Output\n",
        "{1, 2, 3, 4, 5, 6, 7, 8, 9}"
      ],
      "metadata": {
        "colab": {
          "base_uri": "https://localhost:8080/"
        },
        "id": "NIVJrh4ocz0w",
        "outputId": "87dc42b9-6d84-40f3-c364-cce3162eab34"
      },
      "execution_count": null,
      "outputs": [
        {
          "output_type": "execute_result",
          "data": {
            "text/plain": [
              "{1, 2, 3, 4, 5, 6, 7, 8, 9}"
            ]
          },
          "metadata": {},
          "execution_count": 14
        }
      ]
    },
    {
      "cell_type": "markdown",
      "source": [
        "###Intersección de Conjuntos\n",
        "\n",
        "Otra operación conjunta de conjuntos es esta intersección de dos conjuntos, A y B. \n",
        "\n",
        "* La operación de intersección de conjuntos devuelve un conjunto que contiene todos los elementos presentes tanto en A como en B.\n",
        "\n",
        "* Para calcular la intersección, puede usar el & operador o el método '.intersection()'."
      ],
      "metadata": {
        "id": "jJvh_1Pic8Va"
      }
    },
    {
      "cell_type": "code",
      "source": [
        "# intersección usando: '&'\n",
        "print(setA & setB)\n",
        "\n",
        "# intersección usando: '.intersection'\n",
        "setA.intersection(setB)"
      ],
      "metadata": {
        "colab": {
          "base_uri": "https://localhost:8080/"
        },
        "id": "Aqy3VWkadC8K",
        "outputId": "c476c7e6-9596-4ee7-8f80-8b8ab016638b"
      },
      "execution_count": null,
      "outputs": [
        {
          "output_type": "stream",
          "name": "stdout",
          "text": [
            "{9}\n"
          ]
        },
        {
          "output_type": "execute_result",
          "data": {
            "text/plain": [
              "{9}"
            ]
          },
          "metadata": {},
          "execution_count": 36
        }
      ]
    },
    {
      "cell_type": "markdown",
      "source": [
        "###Diferencia de conjuntos\n",
        "\n",
        "Dados dos conjuntos cualesquiera, la unión y la intersección nos ayudan a encontrar los elementos presentes en ambos y al menos en uno de los conjuntos, respectivamente. \n",
        "\n",
        "* Por otra parte, establecer diferencia nos ayuda a encontrar los elementos presentes en un conjunto pero no en el otro."
      ],
      "metadata": {
        "id": "yrG3GWvsdK9z"
      }
    },
    {
      "cell_type": "code",
      "source": [
        "# diferencia de setA y setB\n",
        "print(setA - setB)\n",
        "\n",
        "# diferencia de setB y setA\n",
        "print(setB - setA)\n",
        "\n",
        "# se puede notar que las operaciones\n",
        "# dan diferente resultados"
      ],
      "metadata": {
        "colab": {
          "base_uri": "https://localhost:8080/"
        },
        "id": "CI4L0f-edN9j",
        "outputId": "c290cf45-32a9-455e-b612-867d70f8d196"
      },
      "execution_count": null,
      "outputs": [
        {
          "output_type": "stream",
          "name": "stdout",
          "text": [
            "{1, 3, 5, 7}\n",
            "{8, 2, 4, 6}\n"
          ]
        }
      ]
    },
    {
      "cell_type": "markdown",
      "source": [
        "###Igualdad de dos conjuntos en Python\n",
        "\n",
        "\n",
        "**Ejercicio**\n",
        "\n",
        "Veamos un ejercicio sobre la igualdad de dos conjuntos en Python.\n",
        "\n",
        "\n",
        "Tenemos los siguientes conjuntos:\n",
        "\n",
        "* $A = \\{2, 4\\}$\n",
        "\n",
        "* $B = \\{x / x $ es un entero par; $0 < x < 6\\}$ \n",
        "\n",
        "\n",
        "¿El conjunto $A$ y $B$ son iguales?"
      ],
      "metadata": {
        "id": "5wUhTfKYdvpQ"
      }
    },
    {
      "cell_type": "code",
      "source": [
        "#igualdad de dos conjuntos en Python\n",
        "import numpy as np\n",
        "\n",
        "# conjunto A\n",
        "A = {2, 4}\n",
        "\n",
        "# conjunto B\n",
        "B = {x for x in np.arange (1, 6, 1) if x % 2 == 0}"
      ],
      "metadata": {
        "id": "8vGT1zmSd_em"
      },
      "execution_count": null,
      "outputs": []
    },
    {
      "cell_type": "code",
      "source": [
        "#igualdad de dos conjuntos en Python\n",
        "print (A)\n",
        "print (B)"
      ],
      "metadata": {
        "colab": {
          "base_uri": "https://localhost:8080/"
        },
        "id": "9md32NyCeCn7",
        "outputId": "21f2bbcd-ed15-4791-e465-16cf3bd2ae7c"
      },
      "execution_count": null,
      "outputs": [
        {
          "output_type": "stream",
          "name": "stdout",
          "text": [
            "{2, 4}\n",
            "{2, 4}\n"
          ]
        }
      ]
    },
    {
      "cell_type": "code",
      "source": [
        "# Podemos comprobar si ambos conjuntos\n",
        "# son iguales del siguiente modo:\n",
        "A == B"
      ],
      "metadata": {
        "colab": {
          "base_uri": "https://localhost:8080/"
        },
        "id": "_m9zB1mJeGCl",
        "outputId": "946b5bdf-5087-417a-88b3-873a148773ca"
      },
      "execution_count": null,
      "outputs": [
        {
          "output_type": "execute_result",
          "data": {
            "text/plain": [
              "True"
            ]
          },
          "metadata": {},
          "execution_count": 43
        }
      ]
    },
    {
      "cell_type": "markdown",
      "source": [
        "###Suma\n",
        "\n",
        "La suma de conjuntos es exactamente igual que la suma de enteros o de cualquier otro tipo de valor.\n",
        "\n",
        "* Al igual que con las listas, podemos realizar la suma de sus elementos usando sum:"
      ],
      "metadata": {
        "id": "ul_Z8dqleaJT"
      }
    },
    {
      "cell_type": "code",
      "source": [
        "# definimos un conjunto\n",
        "C = {10, 20, 10, 50}\n",
        "print (C)"
      ],
      "metadata": {
        "colab": {
          "base_uri": "https://localhost:8080/"
        },
        "id": "4g3p2ZxFeeUt",
        "outputId": "84def5ae-d0b4-43c9-88df-f99922a64830"
      },
      "execution_count": null,
      "outputs": [
        {
          "output_type": "stream",
          "name": "stdout",
          "text": [
            "{10, 20, 50}\n"
          ]
        }
      ]
    },
    {
      "cell_type": "code",
      "source": [
        "# se aplica la suma a cada elemento\n",
        "sum(C)"
      ],
      "metadata": {
        "colab": {
          "base_uri": "https://localhost:8080/"
        },
        "id": "H86qPA1yehPr",
        "outputId": "b5ee52a8-07f3-47f3-dfa4-15605f76a8ab"
      },
      "execution_count": null,
      "outputs": [
        {
          "output_type": "execute_result",
          "data": {
            "text/plain": [
              "80"
            ]
          },
          "metadata": {},
          "execution_count": 48
        }
      ]
    },
    {
      "cell_type": "markdown",
      "source": [
        "###Unión\n",
        "\n",
        "La unión de dos conjuntos A y B es un nuevo conjunto que contiene los elementos que pertenecen a A y/o a B.\n",
        "\n",
        "* $A ∪ B = \\{x / x ∈ A$ o $x ∈ B\\}$\n",
        "\n",
        "Hay distintas formas de notar esto en Python; una es con la barra vertical.\n",
        "\n"
      ],
      "metadata": {
        "id": "8n_pgWTxelQ1"
      }
    },
    {
      "cell_type": "code",
      "source": [
        "# una forma de unir conjuntos es\n",
        "{3, 4, 5} | {5, 6, 8}"
      ],
      "metadata": {
        "colab": {
          "base_uri": "https://localhost:8080/"
        },
        "id": "5imweD16ew_e",
        "outputId": "dc3d8cb6-a325-4fd5-b1df-a567cb9a1e6d"
      },
      "execution_count": null,
      "outputs": [
        {
          "output_type": "execute_result",
          "data": {
            "text/plain": [
              "{3, 4, 5, 6, 8}"
            ]
          },
          "metadata": {},
          "execution_count": 49
        }
      ]
    },
    {
      "cell_type": "markdown",
      "source": [
        "Recordemos que en estas operaciones solo obtenemos los valores únicos, por tanto el 5 solo nos aparece una vez."
      ],
      "metadata": {
        "id": "uvjIdxZqe-Mg"
      }
    },
    {
      "cell_type": "code",
      "source": [
        "# otra forma de unir conjuntos es\n",
        "a = {3, 4, 5}\n",
        "b = {5, 6, 8}\n",
        "\n",
        "a.union (b)"
      ],
      "metadata": {
        "colab": {
          "base_uri": "https://localhost:8080/"
        },
        "id": "A0gyyCcHe4yr",
        "outputId": "bdd172a2-8846-4968-931c-c7eb211974d8"
      },
      "execution_count": null,
      "outputs": [
        {
          "output_type": "execute_result",
          "data": {
            "text/plain": [
              "{3, 4, 5, 6, 8}"
            ]
          },
          "metadata": {},
          "execution_count": 50
        }
      ]
    },
    {
      "cell_type": "markdown",
      "source": [
        "###Intersección de conjuntos\n",
        "\n",
        "La intersección de conjuntos A y B es un nuevo conjunto que contiene los elementos que pertenecen a $A$ y a $B$ (a ambos a la vez).\n",
        "\n",
        "* $A ∩ B = \\{x / x ∈ A$, y $x ∈ B\\}$"
      ],
      "metadata": {
        "id": "6kSYu1RAfCWO"
      }
    },
    {
      "cell_type": "code",
      "source": [
        "# intersección de dos cojuntos\n",
        "a.intersection (b)"
      ],
      "metadata": {
        "colab": {
          "base_uri": "https://localhost:8080/"
        },
        "id": "6b5kXx95fRXv",
        "outputId": "d5159a01-7f2f-4f5e-a1f0-2a07f2605f8b"
      },
      "execution_count": null,
      "outputs": [
        {
          "output_type": "execute_result",
          "data": {
            "text/plain": [
              "{5}"
            ]
          },
          "metadata": {},
          "execution_count": 51
        }
      ]
    },
    {
      "cell_type": "code",
      "source": [
        "# intersección de dos cojuntos\n",
        "a & b"
      ],
      "metadata": {
        "colab": {
          "base_uri": "https://localhost:8080/"
        },
        "id": "SlBVqSQGffed",
        "outputId": "741d8956-5d5d-4a9e-ebcd-bf9f3dd171b6"
      },
      "execution_count": null,
      "outputs": [
        {
          "output_type": "execute_result",
          "data": {
            "text/plain": [
              "{5}"
            ]
          },
          "metadata": {},
          "execution_count": 52
        }
      ]
    },
    {
      "cell_type": "markdown",
      "source": [
        "Si $A ∩ B = ∅$,\n",
        "\n",
        " entonces A y B son conjuntos disjuntos o ajenos, es decir, no tienen ningún elemento en común."
      ],
      "metadata": {
        "id": "YUzfmxs3fjaT"
      }
    },
    {
      "cell_type": "code",
      "source": [
        "# intersección de dos conjuntos\n",
        "{3, 4, 5} & {6, 7}\n",
        "\n",
        "# nota que el resultado es un conjunto vacio"
      ],
      "metadata": {
        "colab": {
          "base_uri": "https://localhost:8080/"
        },
        "id": "HdS-SA0Kfl9b",
        "outputId": "f8aacde2-ec71-48d2-ce66-333be2d6b192"
      },
      "execution_count": null,
      "outputs": [
        {
          "output_type": "execute_result",
          "data": {
            "text/plain": [
              "set()"
            ]
          },
          "metadata": {},
          "execution_count": 54
        }
      ]
    },
    {
      "cell_type": "markdown",
      "source": [
        "###Ejemplos con caracteres como conjuntos "
      ],
      "metadata": {
        "id": "mwzHm4Gu1Xe2"
      }
    },
    {
      "cell_type": "code",
      "source": [
        "# definimos tres conjuntos\n",
        "grupo_a = set(['Ana', 'Marcos', 'Carlos', 'Mario'])\n",
        "grupo_b = {'Ana', 'Pedro', 'Carlos', 'Antonio'}\n",
        "grupo_c = {'Ana', 'Antonio', 'Marcos', 'Pepe'}"
      ],
      "metadata": {
        "id": "vLVMZPHT1fS4"
      },
      "execution_count": null,
      "outputs": []
    },
    {
      "cell_type": "code",
      "source": [
        "# imprimimos los conjuntos\n",
        "print(grupo_a)\n",
        "print(grupo_b)\n",
        "print(grupo_c)"
      ],
      "metadata": {
        "colab": {
          "base_uri": "https://localhost:8080/"
        },
        "id": "pCObphDP10W_",
        "outputId": "6a4cf804-ab77-4b22-f8ec-f9e5f77356fb"
      },
      "execution_count": null,
      "outputs": [
        {
          "output_type": "stream",
          "name": "stdout",
          "text": [
            "{'Carlos', 'Mario', 'Ana', 'Marcos'}\n",
            "{'Carlos', 'Antonio', 'Ana', 'Pedro'}\n",
            "{'Antonio', 'Pepe', 'Ana', 'Marcos'}\n"
          ]
        }
      ]
    },
    {
      "cell_type": "code",
      "source": [
        "# creamos la unión de conjuntos\n",
        "todos = grupo_a.union(grupo_b).union(grupo_c)\n",
        "print(todos)"
      ],
      "metadata": {
        "colab": {
          "base_uri": "https://localhost:8080/"
        },
        "id": "szDgwKmu2AWr",
        "outputId": "3cf5d8fa-9288-4b01-83f1-a0e6c30eb242"
      },
      "execution_count": null,
      "outputs": [
        {
          "output_type": "stream",
          "name": "stdout",
          "text": [
            "{'Pepe', 'Ana', 'Marcos', 'Carlos', 'Pedro', 'Mario', 'Antonio'}\n"
          ]
        }
      ]
    },
    {
      "cell_type": "code",
      "source": [
        "# intersección de conjuntos\n",
        "a_and_b = grupo_a.intersection(grupo_b)\n",
        "print(a_and_b)"
      ],
      "metadata": {
        "colab": {
          "base_uri": "https://localhost:8080/"
        },
        "id": "DeCD72_G2TjE",
        "outputId": "e6151a91-5467-408e-b046-fb91a5371973"
      },
      "execution_count": null,
      "outputs": [
        {
          "output_type": "stream",
          "name": "stdout",
          "text": [
            "{'Carlos', 'Ana'}\n"
          ]
        }
      ]
    },
    {
      "cell_type": "code",
      "source": [
        "# intersección de conjuntos\n",
        "a_and_c = grupo_a.intersection(grupo_c)\n",
        "print(a_and_c)"
      ],
      "metadata": {
        "id": "SOl1f0T12jA3"
      },
      "execution_count": null,
      "outputs": []
    },
    {
      "cell_type": "code",
      "source": [
        "# intersección de conjuntos\n",
        "b_and_c = grupo_b.intersection(grupo_c)\n",
        "print(a_and_c)"
      ],
      "metadata": {
        "id": "IkP5YvXM2x2J"
      },
      "execution_count": null,
      "outputs": []
    },
    {
      "cell_type": "code",
      "source": [
        "# intersección entre los tres conjuntos\n",
        "interTodos = grupo_a.intersection(grupo_b).intersection(grupo_c)\n",
        "print(interTodos)\n"
      ],
      "metadata": {
        "colab": {
          "base_uri": "https://localhost:8080/"
        },
        "id": "0kWOoHgg24P8",
        "outputId": "0765d873-dc94-4310-b345-c1c83186fea4"
      },
      "execution_count": null,
      "outputs": [
        {
          "output_type": "stream",
          "name": "stdout",
          "text": [
            "{'Ana'}\n"
          ]
        }
      ]
    },
    {
      "cell_type": "code",
      "source": [
        "# diferencia\n",
        "grupo_a.difference(grupo_b)\n"
      ],
      "metadata": {
        "colab": {
          "base_uri": "https://localhost:8080/"
        },
        "id": "pGgTSWKJ3qP-",
        "outputId": "c494b0c5-33e9-44d0-b393-44a432b1f888"
      },
      "execution_count": null,
      "outputs": [
        {
          "output_type": "execute_result",
          "data": {
            "text/plain": [
              "{'Marcos', 'Mario'}"
            ]
          },
          "metadata": {},
          "execution_count": 62
        }
      ]
    },
    {
      "cell_type": "code",
      "source": [
        "# verifica si es un conjunto disjunto\n",
        "grupo_a.isdisjoint(grupo_b)"
      ],
      "metadata": {
        "colab": {
          "base_uri": "https://localhost:8080/"
        },
        "id": "ktCt2ivW3yVb",
        "outputId": "91fe52f5-7f53-4621-afd3-bf2569d63574"
      },
      "execution_count": null,
      "outputs": [
        {
          "output_type": "execute_result",
          "data": {
            "text/plain": [
              "False"
            ]
          },
          "metadata": {},
          "execution_count": 64
        }
      ]
    },
    {
      "cell_type": "code",
      "source": [
        "# verifica si es un conjunto disjunto\n",
        "grupo_a.isdisjoint({1, 2})"
      ],
      "metadata": {
        "colab": {
          "base_uri": "https://localhost:8080/"
        },
        "id": "kHyhbQSG36i8",
        "outputId": "7d15cc28-aa0f-433c-acbc-0a3016d193a2"
      },
      "execution_count": null,
      "outputs": [
        {
          "output_type": "execute_result",
          "data": {
            "text/plain": [
              "True"
            ]
          },
          "metadata": {},
          "execution_count": 63
        }
      ]
    },
    {
      "cell_type": "code",
      "source": [
        "# verifica si es subconjunto\n",
        "grupo_a.issubset(grupo_b)"
      ],
      "metadata": {
        "colab": {
          "base_uri": "https://localhost:8080/"
        },
        "id": "XnR81D8e41E6",
        "outputId": "5f0eb2c3-f86f-457b-de4c-b4f2a9e0ac4e"
      },
      "execution_count": null,
      "outputs": [
        {
          "output_type": "execute_result",
          "data": {
            "text/plain": [
              "False"
            ]
          },
          "metadata": {},
          "execution_count": 66
        }
      ]
    },
    {
      "cell_type": "code",
      "source": [
        "# verifica si es subconjunto\n",
        "grupo_a.issubset(grupo_b)"
      ],
      "metadata": {
        "colab": {
          "base_uri": "https://localhost:8080/"
        },
        "id": "6td1n4ks49X0",
        "outputId": "f8f57830-5aba-43a4-94e1-bfb085bae94e"
      },
      "execution_count": null,
      "outputs": [
        {
          "output_type": "execute_result",
          "data": {
            "text/plain": [
              "False"
            ]
          },
          "metadata": {},
          "execution_count": 68
        }
      ]
    },
    {
      "cell_type": "code",
      "source": [
        "# verifica si es subconjunto\n",
        "grupo_a.issubset({'Marcos'})"
      ],
      "metadata": {
        "colab": {
          "base_uri": "https://localhost:8080/"
        },
        "id": "TbJC_G8w5BOg",
        "outputId": "7ec32881-1d05-4dea-98b1-ecdc06e5668d"
      },
      "execution_count": null,
      "outputs": [
        {
          "output_type": "execute_result",
          "data": {
            "text/plain": [
              "False"
            ]
          },
          "metadata": {},
          "execution_count": 67
        }
      ]
    },
    {
      "cell_type": "code",
      "source": [
        "# verifica si es subconjunto\n",
        "grupo_a.issubset(grupo_a)"
      ],
      "metadata": {
        "colab": {
          "base_uri": "https://localhost:8080/"
        },
        "id": "JHucH1fY5HGO",
        "outputId": "d39d6c07-80c4-4e37-d4ff-032311fdf993"
      },
      "execution_count": null,
      "outputs": [
        {
          "output_type": "execute_result",
          "data": {
            "text/plain": [
              "True"
            ]
          },
          "metadata": {},
          "execution_count": 69
        }
      ]
    }
  ]
}