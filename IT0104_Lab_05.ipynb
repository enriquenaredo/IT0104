{
  "nbformat": 4,
  "nbformat_minor": 0,
  "metadata": {
    "colab": {
      "provenance": []
    },
    "kernelspec": {
      "name": "python3",
      "display_name": "Python 3"
    },
    "language_info": {
      "name": "python"
    }
  },
  "cells": [
    {
      "cell_type": "markdown",
      "source": [
        "#IT0104 - Matemáticas Discretas\n",
        "\n",
        "### Primavera 2023\n",
        "\n",
        "### IT0104_Lab-05\n",
        "\n",
        "**Profesor Enrique Naredo García**\n",
        "\n",
        " <font size = 2> \n",
        "©️ Todos los derechos reservados. All rights reserved.\n",
        "\n",
        "*Nota: El presente documento es una herramienta diseñada única y exclusivamente para los estudiantes de la asignatura arriba mencionada. Queda prohibido compartir este documento entre otros estudiantes, aún siendo de la misma clase, grupo o de la Universidad sin consentimiento del autor. Queda prohibida la reproducción total o parcial de este documento por cualquier medio o procedimiento, ya sea electrónico o mecánico, el tratamiento informático, el alquiler o cualquier otra forma de cesión sin la autorización previa y por escrito del titular del copyright.*\n",
        "</font>"
      ],
      "metadata": {
        "id": "AeReoLbefWUo"
      }
    },
    {
      "cell_type": "markdown",
      "source": [
        "##Aplicaciones de la lógica\n",
        "\n",
        "En esta sección consideramos dos aplicaciones de la lógica a la tecnología de la información y la informática. \n",
        "\n",
        "* La primera involucra operaciones bit a bit, y la segunda diseña y analiza circuitos lógicos.\n"
      ],
      "metadata": {
        "id": "4NtreQ5Agvvv"
      }
    },
    {
      "cell_type": "markdown",
      "source": [
        "##1ra Aplicación: Operaciones bit a bit\n",
        "\n",
        "Una operación bit a bit es una operación booleana que opera en los bits individuales (0 o 1) de los operandos y posteriormente se resumen."
      ],
      "metadata": {
        "id": "-L8BadGAg4p9"
      }
    },
    {
      "cell_type": "markdown",
      "source": [
        "**Operaciones bit a bit**\n",
        "\n",
        "* El $AND$ bit a bit, denotado por \"$&$\", aplica el operador $∧$ a los bits correspondientes de cada operando.\n",
        "\n",
        "* El $OR$ bit a bit, denotado por \"$|$\", aplica el o $∨$ a los bits correspondientes de cada operando.\n",
        "\n",
        "* El $XOR$ bit a bit, denotado por \"$∧$\", aplica la disyuntiva o $⊕$ a los bits correspondientes de cada operando.\n",
        "\n",
        "* El $NOT$ bit a bit, denotado por \"$!$\", aplica la negación $¬\n",
        "($cambia $0⟷1)$, a los bits correspondientes de cada operando."
      ],
      "metadata": {
        "id": "5RUKSLe8g_fT"
      }
    },
    {
      "cell_type": "markdown",
      "source": [
        "Resumimos aquí las tablas de verdad para los operadores booleanos bit a bit:\n",
        "\n",
        "<img src=\"https://drive.google.com/uc?export=view&id=1IexK_osrWxhRl0Pu78vOfmlZaFg6uOEt\" \n",
        "     width=\"450\" \n",
        "     height=\"250\" />\n",
        "\n",
        "\n",
        "\n"
      ],
      "metadata": {
        "id": "9JsWcLceEQj0"
      }
    },
    {
      "cell_type": "markdown",
      "source": [
        "**Ejercicio: operaciones bit a bit**\n",
        "\n",
        "Encontrar el bit a bit $Y, O, XOR$, para los siguientes números binarios:\n",
        "\n",
        "* $A=111101$\n",
        "\n",
        "* $B=001111$"
      ],
      "metadata": {
        "id": "luE2y2lnGAMi"
      }
    },
    {
      "cell_type": "markdown",
      "source": [
        "##2da Aplicación: Circuitos Lógicos\n",
        "\n",
        "Los circuitos lógicos son importantes en el diseño de las unidades aritméticas y lógicas de un procesador de computadora.\n",
        "\n",
        "* Considere el problema de sumar dos números de $8$ bits en binario.\n",
        "\n",
        "* En binario $0+0=0$, y $1+0=0+1=1$, pero, como en la suma decimal $1+1=2$, en binario será $10$, es decir; una suma de $0$ y un acarreo de $1$ a la siguiente columna significativa a la izquierda.\n",
        "\n",
        "* Entonces podemos diseñar el sumador agregando una columna específica de dos dígitos binarios, digamos $A$ y $B$ que implica como entrada los dígitos $A,B$ y el arrastre de la columna anterior, digamos $Cin$.\n",
        "\n",
        "* La salida será la suma $S$ y se llevará a la siguiente columna, digamos $Cout$.\n",
        "\n",
        "* En resumen estos son los componentes básicos de lo que se llama un sumador binario.\n"
      ],
      "metadata": {
        "id": "hp5EdcsfGAI4"
      }
    },
    {
      "cell_type": "markdown",
      "source": [
        "**Sumador Binario**\n",
        "\n",
        "\n",
        "<img src=\"https://drive.google.com/uc?export=view&id=1jl3vyyERzspgd6NvdAhkV0oXm_e_4vq3\" \n",
        "     width=\"350\" \n",
        "     height=\"150\" />\n"
      ],
      "metadata": {
        "id": "Lx8fdXE-G3TZ"
      }
    },
    {
      "cell_type": "markdown",
      "source": [
        "La tabla lógica para la suma binaria basada en las entradas digitales $A,B,Cin$ y las salidas digitales $S$ y $Cout$ se resume en la siguiente tabla: \n",
        "\n",
        "<img src=\"https://drive.google.com/uc?export=view&id=1d3eXAbsXTexAWPU7tpnzTgK0LN93Qk3t\" \n",
        "     width=\"550\" \n",
        "     height=\"300\" />\n"
      ],
      "metadata": {
        "id": "fGA96DuaG3RU"
      }
    },
    {
      "cell_type": "markdown",
      "source": [
        "Se puede demostrar que la lógica para las salidas $S$ y $Cout$ está dada por las siguientes proposiciones:\n",
        "\n",
        "$$Cout=(A∧B)∨(B∧Cin)∨(A∧Cin)$$\n",
        "\n",
        "$$S=(∼A∧∼B∧Cin)∨(∼A∧B∧∼Cin)∨(A∧∼B∧∼Cin)∨(A∧B∧Cin)$$"
      ],
      "metadata": {
        "id": "S2UipklrG3Ou"
      }
    },
    {
      "cell_type": "markdown",
      "source": [
        "La implementación de estas salidas lógicas basadas en las entradas $(A,B,Cin)$, es mediante el uso de circuitos electrónicos llamados puertas lógicas.\n",
        "\n",
        "* Las puertas lógicas básicas, son la puerta Inverter o $Not$, la puerta $And$, la puerta $Or$ y la puerta $Xor$.\n",
        "\n",
        "* La representación gráfica de cada uno se muestra a continuación.\n",
        "\n",
        "\n"
      ],
      "metadata": {
        "id": "4kMMZaYpIat8"
      }
    },
    {
      "cell_type": "markdown",
      "source": [
        "<img src=\"https://drive.google.com/uc?export=view&id=1UNhPl-ZTfo3e85coEPWyfYf4Nq7NToP3\" \n",
        "     width=\"400\" \n",
        "     height=\"250\" />"
      ],
      "metadata": {
        "id": "db3Lbl_3Iayo"
      }
    },
    {
      "cell_type": "markdown",
      "source": [
        "**Ejemplos**\n",
        "\n",
        "Analizar circuitos lógicos para dar sus salidas en términos de sus variables de entrada y luego construir circuitos lógicos basados en declaraciones lógicas."
      ],
      "metadata": {
        "id": "8rtP_U1XJL3I"
      }
    },
    {
      "cell_type": "markdown",
      "source": [
        " **Ejemplo - Salida de un circuito lógico en términos de Entrada**\n",
        "\n",
        "Determinar la salida del siguiente circuito lógico en términos de las variables de entrada, $p,q$ y $r$.\n",
        "\n",
        "<img src=\"https://drive.google.com/uc?export=view&id=1HNnELGSo_NGBPc81ymsLVMttwQc3gNfE\" \n",
        "     width=\"300\" \n",
        "     height=\"300\" />\n"
      ],
      "metadata": {
        "id": "-Fro-qUJJagm"
      }
    },
    {
      "cell_type": "markdown",
      "source": [
        "**Solución**\n",
        "\n",
        "Procediendo de **izquierda a derecha**, determine primero la salida de las puertas más a la izquierda utilizando las salidas de puerta básicas.\n",
        "\n",
        "\n",
        "<img src=\"https://drive.google.com/uc?export=view&id=1QmpWe6qf7tuRdYMJooDd2O4xGXAya-ix\" \n",
        "     width=\"500\" \n",
        "     height=\"350\" />\n",
        "\n",
        "* La salida del circuito lógico es $(p∨q)∧(¬p∨¬q)$"
      ],
      "metadata": {
        "id": "RLg4ao0YJm2w"
      }
    },
    {
      "cell_type": "markdown",
      "source": [
        "En los siguientes dos ejemplos, diseñamos circuitos lógicos basados en proposiciones lógicas.\n",
        "\n",
        "* La idea es trabajar hacia atrás usando el orden de las operaciones de **derecha a izquierda**. "
      ],
      "metadata": {
        "id": "oByg5B_YN4fi"
      }
    },
    {
      "cell_type": "markdown",
      "source": [
        "**Ejemplo: diseñar un circuito lógico**\n",
        "\n",
        "Diseñar un circuito lógico para $(p ∨ ¬ q)∧ ¬ p$.\n",
        "\n",
        "\n",
        "**Solución**\n",
        "\n",
        "Trabajando hacia atrás de **derecha a izquierda** tenemos la siguiente secuencia de puertas\n",
        "\n",
        "* 1) Una puerta $AND$ $(p∨¬ q) \"∧\" ¬ p$.\n",
        "\n",
        "* 2) Las entradas a la compuerta AND son $(p∨¬ q)$ y $¬ p$.\n",
        "\n",
        "* 3) Estas entradas provienen de la salida de un INVERSOR, por $¬p$\n",
        "y una puerta OR $(p∨ \"¬\" q)$.\n",
        "\n",
        "* 4) Hay dos entradas a la puerta OR $(p∨ ¬ q)$, siendo $p$, y la salida de un INVERSOR, $¬ q$.\n",
        "\n",
        "Poniéndolos ahora en orden de **izquierda a derecha** obtenemos el siguiente circuito lógico.\n",
        "\n",
        "\n",
        "<img src=\"https://drive.google.com/uc?export=view&id=1jS90MktnEgM4KWPf2VXgf6uhu1McE28X\" \n",
        "     width=\"400\" \n",
        "     height=\"350\" />\n",
        "\n"
      ],
      "metadata": {
        "id": "O4k0nGbZN4c4"
      }
    },
    {
      "cell_type": "markdown",
      "source": [
        "\n",
        "**Ejemplo de diseño de un circuito lógico**\n",
        "\n",
        "Diseñar un circuito lógico para $r∧(p∨(r∧¬q))$.\n",
        "\n",
        "\n",
        "\n",
        "**Solución**\n",
        "\n",
        "Trabajando hacia atrás de derecha a izquierda tenemos la siguiente secuencia de puertas\n",
        "\n",
        "* 1) Una puerta $AND$ $r∧(p∨(r∧¬q))$.\n",
        "\n",
        "* 2) Las entradas a la puerta $AND$ son $r$ y $p∨(r∧¬q)$.\n",
        "\n",
        "* 3) La entrada, $p∨(r∧¬q)$, proviene de la salida de una puerta $OR$ para $p∨(r∧¬q)$.\n",
        "\n",
        "* 4) Las entradas a la puerta $OR$, $p∨(r∧¬q)$, son $p$ y $(r∧¬q)$, que es una puerta $AND$.\n",
        "\n",
        "* 5) Las entradas a la compuerta $AND$, $r∧¬q$, son $r$ y la salida de un INVERSOR, $¬q$.\n",
        "\n",
        "Poniéndolos ahora en orden de izquierda a derecha obtenemos el siguiente circuito lógico.\n",
        "\n",
        "\n",
        "\n",
        "<img src=\"https://drive.google.com/uc?export=view&id=1vaNpMkM9UHQDe6Fg-MT3MsnzvRcQigJ5\" \n",
        "     width=\"400\" \n",
        "     height=\"350\" />"
      ],
      "metadata": {
        "id": "JmV9Glx5N4af"
      }
    }
  ]
}