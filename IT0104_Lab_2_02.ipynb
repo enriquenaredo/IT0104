{
  "nbformat": 4,
  "nbformat_minor": 0,
  "metadata": {
    "colab": {
      "provenance": []
    },
    "kernelspec": {
      "name": "python3",
      "display_name": "Python 3"
    },
    "language_info": {
      "name": "python"
    }
  },
  "cells": [
    {
      "cell_type": "markdown",
      "source": [
        "#IT0104 - Matemáticas Discretas\n",
        "\n",
        "### Primavera 2023\n",
        "\n",
        "### IT0104_Lab-2.02\n",
        "\n",
        "**Profesor Enrique Naredo García**\n",
        "\n",
        " <font size = 2> \n",
        "©️ Todos los derechos reservados. All rights reserved.\n",
        "\n",
        "*Nota: El presente documento es una herramienta diseñada única y exclusivamente para los estudiantes de la asignatura arriba mencionada. Queda prohibido compartir este documento entre otros estudiantes, aún siendo de la misma clase, grupo o de la Universidad sin consentimiento del autor. Queda prohibida la reproducción total o parcial de este documento por cualquier medio o procedimiento, ya sea electrónico o mecánico, el tratamiento informático, el alquiler o cualquier otra forma de cesión sin la autorización previa y por escrito del titular del copyright.*\n",
        "</font>"
      ],
      "metadata": {
        "id": "aLkAWw70qPr3"
      }
    },
    {
      "cell_type": "markdown",
      "source": [
        "## [Conjuntos](http://newton.matem.unam.mx/calculo1/Conjuntos/c_conjuntos01_d.html)\n",
        "\n",
        "La teoría de los Conjuntos fue desarrollada de manera rigurosa en la segunda mitad del siglo XIX y principios del XX. \n",
        "\n",
        "* Su desarrollo se atribuye fundamentalmente al matemático alemán Georg Cantor (1845-1918) por sus investigaciones sobre conjuntos infinitos. \n",
        "\n",
        "* Sin embargo, han intervenido muchos otros matemáticos de gran talla, como Gottlob Frege, Bertrand Russel, Ernst Zermelo y Abraham Fraenkel, entre otros. \n",
        "\n",
        "* La importancia de esta teoría es que vino a dar a la matemática una mejor fundamentación y precisión en su lenguaje."
      ],
      "metadata": {
        "id": "HI1AWhDDbKwS"
      }
    },
    {
      "cell_type": "markdown",
      "source": [
        "**Conjuntos especiales de números**\n",
        "\n",
        "Hacemos uso frecuente de conjuntos especiales y estos se denotan con símbolos especiales.\n",
        "\n",
        "* $ℤ, \\{−2,−1,0,1,2,...\\},$ el conjunto de enteros\n",
        "\n",
        "* $ℤ+$ o $ℕ, \\{1,2,3,...\\}$, el conjunto de los números naturales o enteros positivos\n",
        "\n",
        "* $ℚ, \\{ab∣a∈ℤ,b∈ℤ,b≠0\\}$, el conjunto de números racionales de la forma $\\frac{a}{b}$, por ejemplo; $\\frac{2}{3}$\n",
        "\n",
        "* $ℝ$, el conjunto de los números reales\n",
        "\n",
        "* $ℝ+$, el conjunto de los números reales positivos\n",
        "\n",
        "* $ℂ$, $\\{a+ib|a∈ℝ,b∈ℝ,b≠0\\}$, el conjunto de números complejos de la forma $a+bi$, por ejemplo; $2+3i$."
      ],
      "metadata": {
        "id": "OuPrfzGSwtwo"
      }
    },
    {
      "cell_type": "markdown",
      "source": [
        "**Conjunto vacio**\n",
        "\n",
        "Considere el siguiente conjunto descrito usando la notación constructora de conjuntos: $\\{x∈ℤ:x^2=2\\}$.\n",
        "\n",
        "* Este es el conjunto de todos los enteros cuyo cuadrado es igual a $2$.\n",
        "\n",
        "* Sin embargo, tales enteros no existen.\n",
        "\n",
        "* Por lo tanto, usando el método de lista para describirlo, este es el conjunto $\\{\\}$.\n",
        "\n",
        "* Llamamos a este conjunto ${}$, el conjunto vacío y denotamos este conjunto por $∅$.\n",
        "\n",
        "* El conjunto vacío no tiene elementos."
      ],
      "metadata": {
        "id": "qZKnGBdoxqFO"
      }
    },
    {
      "cell_type": "markdown",
      "source": [
        "**Ejemplo 5 - Listado de elementos de un conjunto no vacío**\n",
        "\n",
        "Dado que Python interpreta $\\{\\}$ como un diccionario vacío, no podemos usar esta notación para el conjunto vacío.\n",
        "\n",
        "En su lugar, debemos escribir el conjunto vacío de la siguiente manera:\n",
        "\n",
        "$$set()$$\n",
        "\n",
        "* La función en el siguiente código verifica si un conjunto está vacío.\n",
        "\n",
        "* Si el conjunto no es vacío, se enumeran sus elementos.\n"
      ],
      "metadata": {
        "id": "pAFRyEq0x_dW"
      }
    },
    {
      "cell_type": "code",
      "source": [
        "## Función para verificar si un conjunto esta vacio\n",
        "def Elementos(conjunto):\n",
        "    if conjunto == set():\n",
        "        print(\"el conjunto esta vacio\")\n",
        "    else:\n",
        "        for x in conjunto:\n",
        "            print(x, \"es un elemento del conjunto\")"
      ],
      "metadata": {
        "id": "vGqzuxvbyPVU"
      },
      "execution_count": null,
      "outputs": []
    },
    {
      "cell_type": "code",
      "source": [
        "# probamos la función con el conjunto A\n",
        "Elementos(A)"
      ],
      "metadata": {
        "colab": {
          "base_uri": "https://localhost:8080/"
        },
        "id": "c8gE-WNiZVnB",
        "outputId": "3a28a0b6-6e50-43fe-a7af-8ebbae2c99b2"
      },
      "execution_count": null,
      "outputs": [
        {
          "output_type": "stream",
          "name": "stdout",
          "text": [
            "0 es un elemento del conjunto\n",
            "1 es un elemento del conjunto\n",
            "4 es un elemento del conjunto\n",
            "-2 es un elemento del conjunto\n"
          ]
        }
      ]
    },
    {
      "cell_type": "code",
      "source": [
        "# definimos C como conjunto vacío\n",
        "B = set()\n",
        "Elementos(B)"
      ],
      "metadata": {
        "colab": {
          "base_uri": "https://localhost:8080/"
        },
        "id": "BTRMH_BtZg4X",
        "outputId": "fe63d8d7-627e-4950-c5e8-9c6953dfe6ee"
      },
      "execution_count": null,
      "outputs": [
        {
          "output_type": "stream",
          "name": "stdout",
          "text": [
            "el conjunto esta vacio\n"
          ]
        }
      ]
    },
    {
      "cell_type": "markdown",
      "source": [
        "**Ejercicio**\n",
        "\n",
        "Utiliza el conjunto $C$ que definiste en el anterior Lab.\n",
        "\n",
        "* Define tu propia función para enlistar los elementos de tu conjunto y verifica si no esta vacio.\n",
        "\n",
        "* Define un conjunto $D$ que este vacio.\n",
        "\n",
        "* Puedes utilizar el código anterior como base para el tuyo.\n",
        "\n",
        "* Prueba tanto $C$ como $D$ en tu código.\n",
        "\n",
        "\n",
        "\n"
      ],
      "metadata": {
        "id": "7qcaFuwnb80f"
      }
    },
    {
      "cell_type": "markdown",
      "source": [
        "Es importante tener en cuenta que $\\{\\}$ y $∅$ son dos formas diferentes de escribir el conjunto vacío.\n",
        "\n",
        "* Sin embargo, el conjunto $\\{∅\\}$ no es el conjunto vacío; más bien, es un conjunto que contiene un solo elemento.\n",
        "\n",
        "* En este caso el único elemento contenido en el conjunto $\\{∅\\}$ es el conjunto vacío $∅$.\n",
        "\n",
        "* En general, el conjunto $A$ no es lo mismo que el conjunto $\\{A\\}$."
      ],
      "metadata": {
        "id": "eAwYb4usyT92"
      }
    },
    {
      "cell_type": "markdown",
      "source": [
        "###Cardinalidad\n",
        "\n",
        "Suponga que un conjunto $A$ contiene un número finito de elementos distintos.\n",
        "\n",
        "* Nos referimos al número de elementos de $A$ como la cardinalidad de $A$ y lo denotamos por $|A|$.\n",
        "\n",
        "* Si $A$ contiene un número **infinito** de elementos distintos, decimos que $A$ tiene cardinalidad infinita y escribimos $|A|=∞$.\n",
        "\n",
        "* Por lo tanto, vemos que la cardinalidad del conjunto; $|\\{0,1,2\\}|$ es $3$ \n",
        "\n",
        "* y la cardinalidad del conjunto $|ℤ|=∞$.\n",
        "\n",
        "* Además, toma en cuenta que $|∅|=0$."
      ],
      "metadata": {
        "id": "I11iT1DFyr7E"
      }
    },
    {
      "cell_type": "markdown",
      "source": [
        "**Ejemplo 6 - Cardinalidad en Python**\n",
        "\n",
        "La cardinalidad de un conjunto $A$ se puede calcular en Python de la siguiente manera:\n",
        "\n",
        "$$len(A)$$"
      ],
      "metadata": {
        "id": "Oy2MntySzIQ6"
      }
    },
    {
      "cell_type": "code",
      "source": [
        "# definimos tres conjuntos\n",
        "A = {2,3,5,8}\n",
        "B = set()\n",
        "C = {0}\n",
        "\n",
        "# verificamos su cardinalidad\n",
        "print(len(A))\n",
        "print(len(B))\n",
        "print(len(C))"
      ],
      "metadata": {
        "id": "sNt2XDTDzSO6",
        "colab": {
          "base_uri": "https://localhost:8080/"
        },
        "outputId": "9dbbf4d9-1871-4091-a13c-bfe89d238cc7"
      },
      "execution_count": null,
      "outputs": [
        {
          "output_type": "stream",
          "name": "stdout",
          "text": [
            "4\n",
            "0\n",
            "1\n"
          ]
        }
      ]
    },
    {
      "cell_type": "markdown",
      "source": [
        "Escriba un código en Python que verifique la cardinalidad de los siguientes conjuntos:\n",
        "\n",
        "* $D = \\{\\text{'yo'}, \\text{'tu'}, \\text{'el'} \\}$\n",
        "\n",
        "* $E = \\{\\text{'este es un conjunto vacio'} \\}$\n",
        "\n",
        "* $F = \\{ 0, 0, 0\\}$\n",
        "\n",
        "* $G = \\{ \\}$"
      ],
      "metadata": {
        "id": "cGNziI1Nb7Ev"
      }
    },
    {
      "cell_type": "code",
      "source": [
        "# definimos tres conjuntos\n",
        "\n",
        "\n",
        "\n",
        "\n",
        "# verificamos su cardinalidad\n",
        "\n",
        "\n",
        "\n"
      ],
      "metadata": {
        "id": "mOXQOoQ4c3_N"
      },
      "execution_count": null,
      "outputs": []
    }
  ]
}
