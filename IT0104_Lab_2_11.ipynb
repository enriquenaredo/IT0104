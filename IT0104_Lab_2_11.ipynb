{
  "nbformat": 4,
  "nbformat_minor": 0,
  "metadata": {
    "colab": {
      "provenance": []
    },
    "kernelspec": {
      "name": "python3",
      "display_name": "Python 3"
    },
    "language_info": {
      "name": "python"
    }
  },
  "cells": [
    {
      "cell_type": "markdown",
      "source": [
        "#IT0104 - Matemáticas Discretas\n",
        "\n",
        "### Primavera 2023\n",
        "\n",
        "### IT0104_Lab-2.11\n",
        "\n",
        "**Profesor Enrique Naredo García**\n",
        "\n",
        " <font size = 2> \n",
        "©️ Todos los derechos reservados. All rights reserved.\n",
        "\n",
        "*Nota: El presente documento es una herramienta diseñada única y exclusivamente para los estudiantes de la asignatura arriba mencionada. Queda prohibido compartir este documento entre otros estudiantes, aún siendo de la misma clase, grupo o de la Universidad sin consentimiento del autor. Queda prohibida la reproducción total o parcial de este documento por cualquier medio o procedimiento, ya sea electrónico o mecánico, el tratamiento informático, el alquiler o cualquier otra forma de cesión sin la autorización previa y por escrito del titular del copyright.*\n",
        "</font>"
      ],
      "metadata": {
        "id": "q_GUCdiWnp6_"
      }
    },
    {
      "cell_type": "markdown",
      "source": [
        "## [Series](https://es.khanacademy.org/math/ap-calculus-bc/bc-series-new)\n",
        "\n",
        "En matemática, una serie es la generalización de la noción de suma, aplicada a los infinitos términos de una sucesión \n",
        "\n",
        "$S = \\sum _{n=1}^{\\infty}a_{n}$\n",
        "\n",
        "\n",
        "$ S = a_1 + a_2 + a_3 + a_4 + a_5 + a_6 + \\cdots $"
      ],
      "metadata": {
        "id": "jFVu2015i0nJ"
      }
    },
    {
      "cell_type": "markdown",
      "source": [
        "### Ejemplo-1\n",
        "\n",
        "Definir una función para calcular el **seno** de un ángulo dado usando una serie infinita."
      ],
      "metadata": {
        "id": "rXeeZw0qt2WV"
      }
    },
    {
      "cell_type": "markdown",
      "source": [
        "$$ sen(x) \\simeq \\sum_{i=1}^{n} \\frac{(-1)^n}{2(n+1)!} \\; (x^{2n+1})  $$"
      ],
      "metadata": {
        "id": "hwwmdMQi_EQ5"
      }
    },
    {
      "cell_type": "code",
      "source": [
        "# importa librería\n",
        "import math"
      ],
      "metadata": {
        "id": "leMLndbS899n"
      },
      "execution_count": 11,
      "outputs": []
    },
    {
      "cell_type": "code",
      "source": [
        "# función para calcular el seno de un ángulo \n",
        "# usando una serie infinita\n",
        "\n",
        "# define x -> π/2\n",
        "x = math.pi / 2\n",
        "\n",
        "# inicializa variable para estimar seno\n",
        "est_seno = 0\n",
        "\n",
        "# número de iteraciones\n",
        "k = 50\n",
        "\n",
        "# estima en un rango de [0,50]\n",
        "for n in range(0, k):\n",
        "  est_seno += math.pow(-1, n) / math.factorial(2 * n + 1) * math.pow(x, 2*n + 1)\n",
        "\n",
        "# imprime el valor de seno \n",
        "print('El seno de pi/2 es igual a:', math.sin(x))\n",
        "\n",
        "# imprime la estimación de seno\n",
        "print('La estimación de seno de pi/2 es igual a:', est_seno)\n"
      ],
      "metadata": {
        "colab": {
          "base_uri": "https://localhost:8080/"
        },
        "id": "Exawjw-Ei1F0",
        "outputId": "fe622b1d-8ec0-410d-96ef-6a2120e16347"
      },
      "execution_count": 12,
      "outputs": [
        {
          "output_type": "stream",
          "name": "stdout",
          "text": [
            "El seno de pi/2 es igual a: 1.0\n",
            "La estimación de seno de pi/2 es igual a: 1.0000000000000002\n"
          ]
        }
      ]
    },
    {
      "cell_type": "markdown",
      "source": [
        "### Ejemplo-2\n",
        "\n",
        "Definir una función para calcular el **coseno** de un ángulo dado usando una serie infinita."
      ],
      "metadata": {
        "id": "asS9khyYwGBk"
      }
    },
    {
      "cell_type": "markdown",
      "source": [
        "$$ cos(x) \\simeq \\sum_{i=1}^{k} \\frac{(-1^{2k})(x^{2k})}{2k!} $$"
      ],
      "metadata": {
        "id": "bLbta4Y7jMe0"
      }
    },
    {
      "cell_type": "code",
      "source": [
        "# importa funciones matemáticas\n",
        "from math import cos, factorial, pi, pow"
      ],
      "metadata": {
        "id": "Kqe_I76Q9EBm"
      },
      "execution_count": 13,
      "outputs": []
    },
    {
      "cell_type": "code",
      "source": [
        "# función para calcular el coseno de un ángulo \n",
        "# usando una serie infinita\n",
        "\n",
        "# define x -> π/2\n",
        "x = pi / 2\n",
        "\n",
        "# inicializa variable para estimar coseno\n",
        "coseno = 0\n",
        "\n",
        "# estima en un rango de [0,50]\n",
        "for k in range(0, 50):\n",
        "  coseno += pow(-1, k)*pow(x, 2 * k) / factorial(2*k)\n",
        "\n",
        "# imprime la estimación de coseno\n",
        "print('Coseno de pi/2 calculado con una serie infinita:', coseno)\n",
        "# imprime el valor de coseno \n",
        "print('Coseno de pi/2 calculado la función cos():', cos(x))"
      ],
      "metadata": {
        "colab": {
          "base_uri": "https://localhost:8080/"
        },
        "id": "XdB74yQHjNLo",
        "outputId": "8c13bdd1-4fb1-4f5e-ca1f-0ec62b6f3bb6"
      },
      "execution_count": 14,
      "outputs": [
        {
          "output_type": "stream",
          "name": "stdout",
          "text": [
            "Coseno de pi/2 calculado con una serie infinita: 4.2539467343847745e-17\n",
            "Coseno de pi/2 calculado la función cos(): 6.123233995736766e-17\n"
          ]
        }
      ]
    },
    {
      "cell_type": "markdown",
      "source": [
        "### Ejemplo-3\n",
        "\n",
        "Definir una función para calcular el **tangente** de un ángulo dado usando una serie infinita."
      ],
      "metadata": {
        "id": "NJ6xG9h3wRvU"
      }
    },
    {
      "cell_type": "markdown",
      "source": [
        "$$ tan(x) \\simeq \\sum_{i=1}^{n} \\frac{ \\frac{(-1)^n}{2(n+1)!} \\; (x^{2n+1}) } { \\frac{(-1^{2n})(x^{2n})}{2n!} }$$"
      ],
      "metadata": {
        "id": "1eBTtMQtjlVO"
      }
    },
    {
      "cell_type": "code",
      "source": [
        "# tangente de un ángulo \n",
        "# usando series infinitas del seno y el coseno.\n",
        "\n",
        "# define x -> π/4\n",
        "x = math.pi / 4\n",
        "\n",
        "# inicializa variable para estimar seno\n",
        "seno = 0\n",
        "\n",
        "# estima en un rango de [0,50]\n",
        "for n in range(0, 50):\n",
        "  seno += math.pow(-1, n) / math.factorial(2 * n + 1) * math.pow(x, 2*n + 1)\n",
        "\n",
        "# inicializa variable para estimar coseno\n",
        "coseno = 0\n",
        "\n",
        "# estima en un rango de [0,50]\n",
        "for k in range(0, 50):\n",
        "  coseno += math.pow(-1, k)*math.pow(x, 2 * k) / math.factorial(2*k)\n",
        "\n",
        "# calcula la tangente con los valores estimados\n",
        "tangente = seno / coseno\n",
        "\n",
        "# imprime la estimación de la tangente\n",
        "print('La tangente calculada a partir de las series infinitas del seno y el coseno:', tangente)\n",
        "# imprime el valor de la tangente \n",
        "print('La tangente calculada a partir de la función math.tan():', math.tan(x))"
      ],
      "metadata": {
        "colab": {
          "base_uri": "https://localhost:8080/"
        },
        "id": "JwkwAFVujl0-",
        "outputId": "4bdd2163-28db-470c-fa35-ff92b2fce661"
      },
      "execution_count": 15,
      "outputs": [
        {
          "output_type": "stream",
          "name": "stdout",
          "text": [
            "La tangente calculada a partir de las series infinitas del seno y el coseno: 1.0\n",
            "La tangente calculada a partir de la función math.tan(): 0.9999999999999999\n"
          ]
        }
      ]
    },
    {
      "cell_type": "markdown",
      "source": [
        "### Ejemplo-4\n",
        "\n",
        "Definir una función para estimar la función **exponencial** usando una serie infinita de Taylor."
      ],
      "metadata": {
        "id": "yawSyskFwe_0"
      }
    },
    {
      "cell_type": "markdown",
      "source": [
        "$$ e^n \\simeq \\sum_{i=1}^{n} \\frac{x^n}{n!} $$"
      ],
      "metadata": {
        "id": "6o26ixSlj3U_"
      }
    },
    {
      "cell_type": "code",
      "source": [
        "# función exponencial \n",
        "# a partir de una serie infinita de Taylor\n",
        "\n",
        "\n",
        "# inicializa en cero la sumatoria\n",
        "suma = 0\n",
        "\n",
        "# valor de x\n",
        "x = 2\n",
        "\n",
        "# estima en un rango de [0,50]\n",
        "for n in range(0, 50):\n",
        "  # calcula la potencia y el factorial\n",
        "  suma += math.pow(x, n) / math.factorial(n)\n",
        "\n",
        "\n",
        "# imprime la estimación de la funcion_exponencial\n",
        "print('Resultado con la función funcion_exponencial:', suma)\n",
        "# imprime el valor de la funcion_exponencial \n",
        "print('Resultado con la función math.exp:', math.exp(x))\n"
      ],
      "metadata": {
        "colab": {
          "base_uri": "https://localhost:8080/"
        },
        "id": "aWL7sDumj3s7",
        "outputId": "54e59872-1c83-4b33-9494-f40fa3a194c7"
      },
      "execution_count": 16,
      "outputs": [
        {
          "output_type": "stream",
          "name": "stdout",
          "text": [
            "Resultado con la función funcion_exponencial: 7.389056098930649\n",
            "Resultado con la función math.exp: 7.38905609893065\n"
          ]
        }
      ]
    },
    {
      "cell_type": "markdown",
      "source": [
        "### Ejercicio\n",
        "\n",
        "* Utiliza los ejemplos anteriores y sustituye en los ciclos el 'for' por 'while'\n",
        "* Crea funciones para cada ejemplo.\n",
        "* Utiliza la instrucción de 'input' para recibir del usuario el valor de 'x' como dato de entrada."
      ],
      "metadata": {
        "id": "spz4vXEn97fm"
      }
    }
  ]
}