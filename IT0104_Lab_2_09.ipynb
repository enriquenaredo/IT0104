{
  "nbformat": 4,
  "nbformat_minor": 0,
  "metadata": {
    "colab": {
      "provenance": []
    },
    "kernelspec": {
      "name": "python3",
      "display_name": "Python 3"
    },
    "language_info": {
      "name": "python"
    }
  },
  "cells": [
    {
      "cell_type": "markdown",
      "source": [
        "#IT0104 - Matemáticas Discretas\n",
        "\n",
        "### Primavera 2023\n",
        "\n",
        "### IT0104_Lab-2.09\n",
        "\n",
        "**Profesor Enrique Naredo García**\n",
        "\n",
        " <font size = 2> \n",
        "©️ Todos los derechos reservados. All rights reserved.\n",
        "\n",
        "*Nota: El presente documento es una herramienta diseñada única y exclusivamente para los estudiantes de la asignatura arriba mencionada. Queda prohibido compartir este documento entre otros estudiantes, aún siendo de la misma clase, grupo o de la Universidad sin consentimiento del autor. Queda prohibida la reproducción total o parcial de este documento por cualquier medio o procedimiento, ya sea electrónico o mecánico, el tratamiento informático, el alquiler o cualquier otra forma de cesión sin la autorización previa y por escrito del titular del copyright.*\n",
        "</font>"
      ],
      "metadata": {
        "id": "hDg8rxzRXHFM"
      }
    },
    {
      "cell_type": "markdown",
      "source": [
        "##[Sucesiones](https://e1.portalacademico.cch.unam.mx/alumno/matematicas1/unidad1/patrones-y-formulas/sucesiones)\n",
        "\n",
        "Al conjunto de números ordenados con alguna regla o patrón se le conoce como sucesión y cada elemento de una sucesión recibe el nombre de término."
      ],
      "metadata": {
        "id": "EqD_-jZFXjb_"
      }
    },
    {
      "cell_type": "markdown",
      "source": [
        "###**Ejemplos**\n"
      ],
      "metadata": {
        "id": "Ucw2St2RuQ91"
      }
    },
    {
      "cell_type": "markdown",
      "source": [
        "###Sucesión-1\n",
        "* $ 2, 4, 6, 8, 10, 12, 14, 16, 18, 20 $"
      ],
      "metadata": {
        "id": "Tv5jHEhpqR66"
      }
    },
    {
      "cell_type": "code",
      "source": [
        "for i in range(10):\n",
        "    print(f\"{2 * i + 2} \", end=\"\")"
      ],
      "metadata": {
        "colab": {
          "base_uri": "https://localhost:8080/"
        },
        "id": "C-GLA3RZqIpL",
        "outputId": "6944e5e7-96d3-4577-c9b6-e6e3b37f299f"
      },
      "execution_count": 3,
      "outputs": [
        {
          "output_type": "stream",
          "name": "stdout",
          "text": [
            "2 4 6 8 10 12 14 16 18 20 "
          ]
        }
      ]
    },
    {
      "cell_type": "code",
      "source": [
        "for i in range(1, 11):\n",
        "    print(f\"{2 * i} \", end=\"\")"
      ],
      "metadata": {
        "colab": {
          "base_uri": "https://localhost:8080/"
        },
        "id": "KRdhi4fvrnDP",
        "outputId": "70529c7e-bc9b-4cca-ab25-3dbcb1e8335d"
      },
      "execution_count": 8,
      "outputs": [
        {
          "output_type": "stream",
          "name": "stdout",
          "text": [
            "2 4 6 8 10 12 14 16 18 20 "
          ]
        }
      ]
    },
    {
      "cell_type": "code",
      "source": [
        "for i in range(2, 22, 2):\n",
        "    print(f\"{i} \", end=\"\")"
      ],
      "metadata": {
        "colab": {
          "base_uri": "https://localhost:8080/"
        },
        "id": "H4qJxIo9sw9n",
        "outputId": "b58d95ac-c685-4536-9373-0451e7d66a3f"
      },
      "execution_count": 14,
      "outputs": [
        {
          "output_type": "stream",
          "name": "stdout",
          "text": [
            "2 4 6 8 10 12 14 16 18 20 "
          ]
        }
      ]
    },
    {
      "cell_type": "markdown",
      "source": [
        "###Sucesión-2\n",
        "* $ 20, 22, 24, 26, 28, 30, 32, 34 $ "
      ],
      "metadata": {
        "id": "XMm4wKiRqmyU"
      }
    },
    {
      "cell_type": "code",
      "source": [
        "for i in range(8):\n",
        "    print(f\"{2 * i + 20} \", end=\"\")"
      ],
      "metadata": {
        "colab": {
          "base_uri": "https://localhost:8080/"
        },
        "id": "nK5GtHxqqUoF",
        "outputId": "c05accb3-160f-4daf-982c-b9641c74783c"
      },
      "execution_count": 4,
      "outputs": [
        {
          "output_type": "stream",
          "name": "stdout",
          "text": [
            "20 22 24 26 28 30 32 34 "
          ]
        }
      ]
    },
    {
      "cell_type": "code",
      "source": [
        "for i in range(1, 9):\n",
        "    print(f\"{2 * i + 18} \", end=\"\")"
      ],
      "metadata": {
        "colab": {
          "base_uri": "https://localhost:8080/"
        },
        "id": "JfVwBgjMrtQ_",
        "outputId": "188fef1b-0b4c-4f04-ab3e-ae0c9a15737b"
      },
      "execution_count": 9,
      "outputs": [
        {
          "output_type": "stream",
          "name": "stdout",
          "text": [
            "20 22 24 26 28 30 32 34 "
          ]
        }
      ]
    },
    {
      "cell_type": "code",
      "source": [
        "for i in range(20, 36, 2):\n",
        "    print(f\"{i} \", end=\"\")"
      ],
      "metadata": {
        "colab": {
          "base_uri": "https://localhost:8080/"
        },
        "id": "gV1H_br7tQPY",
        "outputId": "57c469f5-f84a-44eb-af1f-5f87f0c4265f"
      },
      "execution_count": 15,
      "outputs": [
        {
          "output_type": "stream",
          "name": "stdout",
          "text": [
            "20 22 24 26 28 30 32 34 "
          ]
        }
      ]
    },
    {
      "cell_type": "markdown",
      "source": [
        "###Sucesión-3\n",
        "* $ 10, 14, 18, 22, 26, 30 $"
      ],
      "metadata": {
        "id": "sJRyb5YCqw7R"
      }
    },
    {
      "cell_type": "code",
      "source": [
        "for i in range(6):\n",
        "    print(f\"{4 * i + 10} \", end=\"\")"
      ],
      "metadata": {
        "colab": {
          "base_uri": "https://localhost:8080/"
        },
        "id": "q-DTyPgDq6vo",
        "outputId": "0036b941-99ea-48cb-fcb6-5106a6acf005"
      },
      "execution_count": 5,
      "outputs": [
        {
          "output_type": "stream",
          "name": "stdout",
          "text": [
            "10 14 18 22 26 30 "
          ]
        }
      ]
    },
    {
      "cell_type": "code",
      "source": [
        "for i in range(1, 7):\n",
        "    print(f\"{4 * i + 6} \", end=\"\")"
      ],
      "metadata": {
        "colab": {
          "base_uri": "https://localhost:8080/"
        },
        "id": "AQzUuI3BsMC5",
        "outputId": "511ec44e-57c4-484d-d6a5-dd9ed5bac13b"
      },
      "execution_count": 10,
      "outputs": [
        {
          "output_type": "stream",
          "name": "stdout",
          "text": [
            "10 14 18 22 26 30 "
          ]
        }
      ]
    },
    {
      "cell_type": "code",
      "source": [
        "for i in range(10, 34, 4):\n",
        "    print(f\"{i} \", end=\"\")"
      ],
      "metadata": {
        "colab": {
          "base_uri": "https://localhost:8080/"
        },
        "id": "P0n4jPtatYLA",
        "outputId": "228f891d-e10d-4472-eb71-e2873b4c64bd"
      },
      "execution_count": 16,
      "outputs": [
        {
          "output_type": "stream",
          "name": "stdout",
          "text": [
            "10 14 18 22 26 30 "
          ]
        }
      ]
    },
    {
      "cell_type": "markdown",
      "source": [
        "###Sucesión-4\n",
        "* $ 40, 35, 30, 25, 20, 15, 10, 5, 0 $"
      ],
      "metadata": {
        "id": "LCcRmkgbrEZn"
      }
    },
    {
      "cell_type": "code",
      "source": [
        "for i in range(9):\n",
        "    print(f\"{-5 * i + 40} \", end=\"\")"
      ],
      "metadata": {
        "colab": {
          "base_uri": "https://localhost:8080/"
        },
        "id": "71JtP5nzrJVN",
        "outputId": "a57ecd84-abc7-4f2e-cb68-fbff8d570fd9"
      },
      "execution_count": 6,
      "outputs": [
        {
          "output_type": "stream",
          "name": "stdout",
          "text": [
            "40 35 30 25 20 15 10 5 0 "
          ]
        }
      ]
    },
    {
      "cell_type": "code",
      "source": [
        "for i in range(1, 10):\n",
        "    print(f\"{-5 * i + 45} \", end=\"\")"
      ],
      "metadata": {
        "colab": {
          "base_uri": "https://localhost:8080/"
        },
        "id": "y4wwPUTrsUxu",
        "outputId": "48014672-33c2-4b49-8f24-e9f19510de32"
      },
      "execution_count": 11,
      "outputs": [
        {
          "output_type": "stream",
          "name": "stdout",
          "text": [
            "40 35 30 25 20 15 10 5 0 "
          ]
        }
      ]
    },
    {
      "cell_type": "code",
      "source": [
        "for i in range(40, -5, -5):\n",
        "    print(f\"{i} \", end=\"\")"
      ],
      "metadata": {
        "colab": {
          "base_uri": "https://localhost:8080/"
        },
        "id": "P-SquDNutfCK",
        "outputId": "46b1af29-9d30-4e8e-c6b0-dc9c04244753"
      },
      "execution_count": 17,
      "outputs": [
        {
          "output_type": "stream",
          "name": "stdout",
          "text": [
            "40 35 30 25 20 15 10 5 0 "
          ]
        }
      ]
    },
    {
      "cell_type": "markdown",
      "source": [
        "###Sucesión-5\n",
        "* $ 1, 2, 3, 4, 5, 6, 7, 8, 9, 10 $"
      ],
      "metadata": {
        "id": "hKzRsFOyrQvq"
      }
    },
    {
      "cell_type": "code",
      "source": [
        "for i in range(10):\n",
        "    print(f\"{i + 1} \", end=\"\")"
      ],
      "metadata": {
        "colab": {
          "base_uri": "https://localhost:8080/"
        },
        "id": "rLRGXW75rBZg",
        "outputId": "641f8e25-dcac-4755-b76f-b01fc68cb7dc"
      },
      "execution_count": 7,
      "outputs": [
        {
          "output_type": "stream",
          "name": "stdout",
          "text": [
            "1 2 3 4 5 6 7 8 9 10 "
          ]
        }
      ]
    },
    {
      "cell_type": "code",
      "source": [
        "for i in range(1, 11):\n",
        "    print(f\"{i} \", end=\"\")"
      ],
      "metadata": {
        "colab": {
          "base_uri": "https://localhost:8080/"
        },
        "id": "V6ZWHlwisdoI",
        "outputId": "fc2ff4b1-c6d8-4479-d4d9-d8168b71625a"
      },
      "execution_count": 12,
      "outputs": [
        {
          "output_type": "stream",
          "name": "stdout",
          "text": [
            "1 2 3 4 5 6 7 8 9 10 "
          ]
        }
      ]
    },
    {
      "cell_type": "code",
      "source": [
        "for i in range(1, 11, 1):\n",
        "    print(f\"{i} \", end=\"\")"
      ],
      "metadata": {
        "colab": {
          "base_uri": "https://localhost:8080/"
        },
        "id": "M8ptDhBnrBWs",
        "outputId": "f3b5a450-53c2-4188-8845-6654f8ca0483"
      },
      "execution_count": 18,
      "outputs": [
        {
          "output_type": "stream",
          "name": "stdout",
          "text": [
            "1 2 3 4 5 6 7 8 9 10 "
          ]
        }
      ]
    },
    {
      "cell_type": "markdown",
      "source": [
        "##**Ejercicio**\n",
        "\n",
        "Usa los ejemplos de las sucesiones y los códigos anteriores con los tres casos para realizar las siguientes tareas:\n",
        "\n",
        "* Incrementa 5 posiciones en cada sucesión y elimina las 3 primeras posiciones.\n",
        "\n",
        "* Utiliza la primera letra de tu apellido para nombrar los elementos con su correspondiente índice de la primera sucesión.\n",
        "\n",
        "* Para las siguientes sucesiones utiliza la siguiente letra del abecedario.\n",
        "\n",
        "* En caso de alcanzar la última letra del abecedario, entonces continua con la primera y así sucesivamente.\n",
        "\n",
        "* Escribe el término general de cada nueva sucesión generada.\n",
        "\n",
        "* Utiliza la notación matemática y la fórmula correspondiente para demostrar si cada nueva sucesión es creciente o decreciente"
      ],
      "metadata": {
        "id": "SpiH5N-0uvC8"
      }
    }
  ]
}