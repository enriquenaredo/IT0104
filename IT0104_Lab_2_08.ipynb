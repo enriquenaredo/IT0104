{
  "nbformat": 4,
  "nbformat_minor": 0,
  "metadata": {
    "colab": {
      "provenance": []
    },
    "kernelspec": {
      "name": "python3",
      "display_name": "Python 3"
    },
    "language_info": {
      "name": "python"
    }
  },
  "cells": [
    {
      "cell_type": "markdown",
      "source": [
        "#IT0104 - Matemáticas Discretas\n",
        "\n",
        "### Primavera 2023\n",
        "\n",
        "### IT0104_Lab-2.08\n",
        "\n",
        "**Profesor Enrique Naredo García**\n",
        "\n",
        " <font size = 2> \n",
        "©️ Todos los derechos reservados. All rights reserved.\n",
        "\n",
        "*Nota: El presente documento es una herramienta diseñada única y exclusivamente para los estudiantes de la asignatura arriba mencionada. Queda prohibido compartir este documento entre otros estudiantes, aún siendo de la misma clase, grupo o de la Universidad sin consentimiento del autor. Queda prohibida la reproducción total o parcial de este documento por cualquier medio o procedimiento, ya sea electrónico o mecánico, el tratamiento informático, el alquiler o cualquier otra forma de cesión sin la autorización previa y por escrito del titular del copyright.*\n",
        "</font>"
      ],
      "metadata": {
        "id": "cfH3Wtjj3N2d"
      }
    },
    {
      "cell_type": "markdown",
      "source": [
        "##[Sucesiones matemáticas](https://es.wikipedia.org/wiki/Sucesi%C3%B3n_(matem%C3%A1tica))\n"
      ],
      "metadata": {
        "id": "ykmwI0kx3U7a"
      }
    },
    {
      "cell_type": "markdown",
      "source": [
        "En análisis matemático y en álgebra, una sucesión es una secuencia de números u otros objetos matemáticas relacionados entre sí, en la que se tiene en cuenta la posición relativa de cada número respecto del anterior. \n",
        "\n",
        "* Por ejemplo (3, 5, 7, 9...) es una sucesión con números impares consecutivos mayores que 1, y \n",
        "* (2, 4, 8, 16...) es una sucesión con las potencias de 2. \n",
        "\n",
        "La sucesión se define matemáticamente como una aplicación cuyo dominio es el conjunto de los números naturales y su codominio es cualquier otro conjunto, generalmente de números de diferente naturaleza, también pueden ser figuras geométricas o funciones; \n",
        "\n",
        "* es decir, a cada posición de la secuencia índice 1, 2, 3, 4... \n",
        "* se le asocia un objeto que le corresponde en el conjunto de destino. \n",
        "\n",
        "Cada uno de ellos es denominado término (también elemento o miembro) de la sucesión y al número de elementos ordenados (posiblemente infinitos) se le denomina la longitud de la sucesión. \n",
        "\n",
        "* No debe confundirse con una serie matemática, que es el número resultante de sumar todos los términos de una sucesión infinita.\n",
        "\n",
        "A diferencia de un conjunto, el orden en que aparecen los términos sí es relevante y un mismo término puede aparecer en más de una posición. \n",
        "\n",
        "* De manera formal, una sucesión puede definirse como una función sobre el conjunto de los números naturales (o un subconjunto del mismo) y es por tanto una función discreta.\n",
        "\n",
        "* Por ejemplo, la sucesión (A, B, C ) es una sucesión de letras que difiere de la sucesión (C, A, B ). \n",
        "* En este caso se habla de sucesiones finitas (de longitud igual a 3). \n",
        "* Un ejemplo de sucesión infinita sería la sucesión de números positivos pares: 2, 4, 6, 8…\n",
        "\n",
        "En ocasiones se identifica a las sucesiones finitas con palabras sobre un conjunto. \n",
        "\n",
        "* Puede considerarse también el caso de una sucesión vacía (sin elementos), pero este caso puede excluirse dependiendo del contexto. "
      ],
      "metadata": {
        "id": "MikSg7p-LQYt"
      }
    },
    {
      "cell_type": "markdown",
      "source": [
        "###Sucesión Aritmética\n",
        "\n",
        "Una progresión aritmética es una sucesión de números tales que cada uno de ellos (salvo el primero) es igual al anterior más un número fijo llamado diferencia.\n",
        "\n",
        "Una sucesión es un conjunto ordenado de números llamados términos, que se designan con una letra y un subíndice que se corresponde con el lugar que ocupan, ejemplo:\n",
        "\n",
        "$$\\{a_1, a_2, a_3, \\dots, a_n\\}$$\n",
        "\n",
        "\n",
        "* los números $\\{a_1, a_2, a_3, \\dots\\}$ se llaman términos de la sucesión,\n",
        "\n",
        "* el subíndice indica el lugar que el término ocupa en la sucesión,\n",
        "\n",
        "* el término general es $\\{a_n\\}$ es un criterio que nos permite determinar cualquier término de la sucesión.\n",
        "\n",
        "Una sucesión se suele expresar entre llaves: $\\{a_n\\}$ o entre paréntesis $(a_n)$\n",
        "\n",
        "* Ejemplo de una sucesión: $\\{3, 6, 9,..., 3n\\}. $\n",
        "\n",
        "En este ejemplo, claramente se nota en la sucesión anterior que la sucesión inicia con el elemento con indice $1$ con valor $3$, y se multiplica cada indice por el valor de $3$, por eso el término general es $3n$."
      ],
      "metadata": {
        "id": "kcUj0M-W4jr5"
      }
    },
    {
      "cell_type": "markdown",
      "source": [
        "Una sucesión es creciente cuando cada término es mayor que el anterior: $a_{n+1}>a_n$\n",
        "\n",
        "Esto ocurre cuando la diferencia es positiva: $d>0$.\n",
        "\n",
        "Fórmula para calcular la diferencia: $d=a_{n+1}-a_n $.\n",
        "\n",
        "Una sucesión es decreciente cuando cada término es menor que el anterior: $a_{n+1}<a_n$\n",
        "\n",
        "Esto ocurre cuando la diferencia es negativa: $d<0$."
      ],
      "metadata": {
        "id": "IDY6SUjoZO7Y"
      }
    },
    {
      "cell_type": "markdown",
      "source": [
        "**Ejemplo**\n",
        "\n",
        "Dada la siguiente secuencia de números: \n",
        "\n",
        "$$ 7, 10, 13, 16, 19, 22, 25, 28, $$ \n",
        "\n",
        "\n",
        "implementa un código en Python para generar dicha secuencia."
      ],
      "metadata": {
        "id": "8PyT86-E39fq"
      }
    },
    {
      "cell_type": "code",
      "execution_count": null,
      "metadata": {
        "colab": {
          "base_uri": "https://localhost:8080/"
        },
        "id": "WjrRyHUX3JCJ",
        "outputId": "5622fd70-74d5-4fd1-aeac-dbdf27e75e0f"
      },
      "outputs": [
        {
          "output_type": "stream",
          "name": "stdout",
          "text": [
            "7, 10, 13, 16, 19, 22, 25, 28, "
          ]
        }
      ],
      "source": [
        "## Caso-1\n",
        "# considera 3 argumentos\n",
        "# inicia en 7 con un máximo de 30\n",
        "# e incremento de 3\n",
        "for i in range(7, 30, 3):\n",
        "  # imprime el valor obtenido\n",
        "  print(f\"{i}, \", end=\"\")"
      ]
    },
    {
      "cell_type": "code",
      "source": [
        "## Caso-2\n",
        "# considera 2 argumentos\n",
        "# desde 1 hasta 8+1 \n",
        "# (se requiere uno más que el último)\n",
        "for j in range(1, 9):\n",
        "  # considera cada inidice 'j'\n",
        "  # lo multiplica por 3, y\n",
        "  # finalmente le suma 4\n",
        "  val = (j * 3) + 4\n",
        "  # imprime el valor obtenido\n",
        "  print(f\"{val}, \", end=\"\")"
      ],
      "metadata": {
        "colab": {
          "base_uri": "https://localhost:8080/"
        },
        "id": "6y1aGmn63kMa",
        "outputId": "e68f9865-1de6-45dc-8cb7-658537bb2bbc"
      },
      "execution_count": null,
      "outputs": [
        {
          "output_type": "stream",
          "name": "stdout",
          "text": [
            "7, 10, 13, 16, 19, 22, 25, 28, "
          ]
        }
      ]
    },
    {
      "cell_type": "code",
      "source": [
        "## Caso-3\n",
        "# considera solo 1 argumento\n",
        "for k in range(8):\n",
        "  # inicia con 0 y termina con 7\n",
        "  val = (k * 3) + 7\n",
        "  # imprime el valor obtenido\n",
        "  print(f\"{val}, \", end=\"\")\n"
      ],
      "metadata": {
        "colab": {
          "base_uri": "https://localhost:8080/"
        },
        "id": "O0lqU3LF3oQ5",
        "outputId": "79d1cdb9-d860-43c3-eaa2-495c94f6d29c"
      },
      "execution_count": null,
      "outputs": [
        {
          "output_type": "stream",
          "name": "stdout",
          "text": [
            "7, 10, 13, 16, 19, 22, 25, 28, "
          ]
        }
      ]
    },
    {
      "cell_type": "markdown",
      "source": [
        "##**Ejercicio**\n",
        "\n",
        "* Usa el código de los tres casos presentados para crear las siguientes sucesiones:\n",
        "\n",
        "  * $2, 4, 6, 8, 10, 12, 14, ...$\n",
        "  * $11, 13, 15, 17, 19,...$\n",
        "  * $11, 16, 21, 26, 31,...$\n",
        "  * $10, 6, 2, -2, -6, -10,...$\n",
        "\n",
        "\n",
        "* Utiliza la primera letra de tu apellido para nombrar los elementos con su correspondiente índice de la primera sucesión.\n",
        "\n",
        "* Para las siguientes sucesiones utiliza la siguiente letra del abecedario.\n",
        "\n",
        "* En caso de alcanzar la última letra del abecedario, entonces continua con la primera y así sucesivamente.\n",
        "\n",
        "* Escribe el término general de cada sucesión.\n",
        "\n",
        "* Utiliza la notación matemática y la fórmula correspondiente para demostrar si cada sucesión es creciente o decreciente\n"
      ],
      "metadata": {
        "id": "IlTr5NlaVDna"
      }
    },
    {
      "cell_type": "markdown",
      "source": [
        "### Sucesión No. 1\n",
        "  * $2, 4, 6, 8, 10, 12, 14, ...$"
      ],
      "metadata": {
        "id": "qAcnXG8Kc69G"
      }
    },
    {
      "cell_type": "code",
      "source": [
        "# Aquí tu código\n",
        "\n",
        "\n",
        "\n",
        "\n",
        "\n",
        "\n"
      ],
      "metadata": {
        "id": "byJae-j1UWu3"
      },
      "execution_count": null,
      "outputs": []
    },
    {
      "cell_type": "markdown",
      "source": [
        "Aquí comentarios  y notaciones matemáticas.\n",
        "\n",
        "\n",
        "\n",
        "\n",
        "\n",
        "\n",
        "\n"
      ],
      "metadata": {
        "id": "ez7TflorbzHO"
      }
    },
    {
      "cell_type": "markdown",
      "source": [
        "  ### Sucesión No. 2\n",
        "  * $11, 13, 15, 17, 19,...$\n",
        "\n"
      ],
      "metadata": {
        "id": "yWG2oxTudA0V"
      }
    },
    {
      "cell_type": "code",
      "source": [
        "# Aquí tu código\n",
        "\n",
        "\n",
        "\n",
        "\n",
        "\n",
        "\n"
      ],
      "metadata": {
        "id": "_fqWQNr_dInK"
      },
      "execution_count": null,
      "outputs": []
    },
    {
      "cell_type": "markdown",
      "source": [
        "Aquí comentarios  y notaciones matemáticas.\n",
        "\n",
        "\n",
        "\n",
        "\n",
        "\n",
        "\n"
      ],
      "metadata": {
        "id": "MoA-iwDOdInM"
      }
    },
    {
      "cell_type": "markdown",
      "source": [
        "  ### Sucesión No. 3\n",
        "  * $11, 16, 21, 26, 31,...$\n"
      ],
      "metadata": {
        "id": "QA1NbGdWdCvA"
      }
    },
    {
      "cell_type": "code",
      "source": [
        "# Aquí tu código\n",
        "\n",
        "\n",
        "\n",
        "\n",
        "\n",
        "\n"
      ],
      "metadata": {
        "id": "aKTcwtKzdJVe"
      },
      "execution_count": null,
      "outputs": []
    },
    {
      "cell_type": "markdown",
      "source": [
        "Aquí comentarios  y notaciones matemáticas.\n",
        "\n",
        "\n",
        "\n",
        "\n",
        "\n",
        "\n",
        "\n"
      ],
      "metadata": {
        "id": "aJNv_h6sdJVf"
      }
    },
    {
      "cell_type": "markdown",
      "source": [
        "  ### Sucesión No. 4\n",
        "  * $10, 6, 2, -2, -6, -10,...$"
      ],
      "metadata": {
        "id": "PFAcOz1mdENi"
      }
    },
    {
      "cell_type": "code",
      "source": [
        "# Aquí tu código\n",
        "\n",
        "\n",
        "\n",
        "\n",
        "\n",
        "\n"
      ],
      "metadata": {
        "id": "BnU9eOdSdJ4X"
      },
      "execution_count": null,
      "outputs": []
    },
    {
      "cell_type": "markdown",
      "source": [
        "Aquí comentarios  y notaciones matemáticas.\n",
        "\n",
        "\n",
        "\n",
        "\n",
        "\n",
        "\n",
        "\n"
      ],
      "metadata": {
        "id": "ti-1q1IedJ4Y"
      }
    }
  ]
}