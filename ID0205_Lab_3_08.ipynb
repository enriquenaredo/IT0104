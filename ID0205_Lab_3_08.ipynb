{
  "nbformat": 4,
  "nbformat_minor": 0,
  "metadata": {
    "colab": {
      "provenance": []
    },
    "kernelspec": {
      "name": "python3",
      "display_name": "Python 3"
    },
    "language_info": {
      "name": "python"
    }
  },
  "cells": [
    {
      "cell_type": "markdown",
      "source": [
        "#ID0205 - Geometría Computacional\n",
        "\n",
        "### Primavera 2023\n",
        "\n",
        "### ID0205_Lab-3.08\n",
        "\n",
        "**Profesor Enrique Naredo García**\n",
        "\n",
        "<font size = 2> \n",
        "©️ Todos los derechos reservados. All rights reserved.\n",
        "\n",
        "*Nota: El presente documento es una herramienta diseñada única y exclusivamente para los estudiantes de la asignatura arriba mencionada. Queda prohibido compartir este documento entre otros estudiantes, aún siendo de la misma clase, grupo o de la Universidad sin consentimiento del autor. Queda prohibida la reproducción total o parcial de este documento por cualquier medio o procedimiento, ya sea electrónico o mecánico, el tratamiento informático, el alquiler o cualquier otra forma de cesión sin la autorización previa y por escrito del titular del copyright.*\n",
        "</font>"
      ],
      "metadata": {
        "id": "CShjS-vqbgPa"
      }
    },
    {
      "cell_type": "markdown",
      "source": [
        "##[Árbol de intervalos](https://en.wikipedia.org/wiki/Range_tree)\n",
        "\n",
        "En informática, un árbol de rango es una estructura de datos de árbol ordenada para contener una lista de puntos. \n",
        "\n",
        "* Permite que todos los puntos dentro de un rango dado se informen de manera eficiente y, por lo general, se usa en dos o más dimensiones. \n",
        "\n",
        "* Los árboles de pastizales fueron introducidos por Jon Louis Bentley en 1979.\n",
        "\n",
        "* El árbol de rango es una alternativa al árbol $k-d$. "
      ],
      "metadata": {
        "id": "BKlgr4B5TnrR"
      }
    },
    {
      "cell_type": "markdown",
      "source": [
        "La idea es aumentar un árbol de búsqueda binaria (BST) autoequilibrado como Red Black Tree, AVL Tree, etc. para mantener un conjunto de intervalos para que todas las operaciones se puedan realizar en tiempo O (inicio de sesión).\n",
        "\n",
        "Cada nodo de Interval Tree almacena la siguiente información.\n",
        "* Un intervalo que se representa como un par $[bajo, alto]$\n",
        "* Valor alto máximo en el subárbol enraizado con este nodo.\n",
        "* El valor bajo de un intervalo se utiliza como clave para mantener el orden en BST. \n",
        "\n",
        "Las operaciones de inserción y eliminación son las mismas que las de inserción y eliminación en el BST de autoequilibrio utilizado."
      ],
      "metadata": {
        "id": "P2GP5lrfdw5C"
      }
    },
    {
      "cell_type": "markdown",
      "source": [
        "Operaciones requeridas para implementar un árbol de intervalos:\n",
        "\n",
        "* Añadir un intervalo\n",
        "* Eliminar un intervalo\n",
        "* Dado un intervalo $x$, encuentre si $x$ se superpone con alguno de los intervalos existentes."
      ],
      "metadata": {
        "id": "oA5VXm4LTBLL"
      }
    },
    {
      "cell_type": "code",
      "source": [
        "# Árbol de rango\n",
        "class Rango:\n",
        "    def __init__(self, bajo, alto): \n",
        "        self.bajo = bajo\n",
        "        self.alto = alto\n",
        " \n",
        "    def __str__(self):\n",
        "        return \"[\" + str(self.bajo) + \",\" + str(self.alto) + \"]\"\n",
        " "
      ],
      "metadata": {
        "id": "I5aU2EP1cqhj"
      },
      "execution_count": 9,
      "outputs": []
    },
    {
      "cell_type": "code",
      "source": [
        "class Nodo:\n",
        "    def __init__(self, rango, max):\n",
        "        self.rango = rango\n",
        "        self.max = max\n",
        "        self.izq = None\n",
        "        self.der = None\n",
        " \n",
        "    def __str__(self):\n",
        "        return \"[\" + str(self.rango.bajo) + \", \" + str(self.rango.alto) + \"] \" + \"max = \" + str(self.max) + \"\\n\""
      ],
      "metadata": {
        "id": "JiEKbahNctZg"
      },
      "execution_count": 2,
      "outputs": []
    },
    {
      "cell_type": "code",
      "source": [
        "def inserta(vertice, x):\n",
        "    if vertice == None:\n",
        "        return Nodo(x, x.alto)\n",
        " \n",
        "    if x.bajo < vertice.rango.bajo:\n",
        "        vertice.izq = inserta(vertice.izq, x)\n",
        "    else:\n",
        "        vertice.der = inserta(vertice.der, x)\n",
        " \n",
        "    if vertice.max < x.alto:\n",
        "        vertice.max = x.alto\n",
        " \n",
        "    return vertice"
      ],
      "metadata": {
        "id": "3cX9COuBctSO"
      },
      "execution_count": 3,
      "outputs": []
    },
    {
      "cell_type": "code",
      "source": [
        "def enOrden(vertice):\n",
        "    if vertice == None:\n",
        "        return\n",
        " \n",
        "    enOrden(vertice.izq)\n",
        "    print(vertice, end=\"\")\n",
        "    enOrden(vertice.der)"
      ],
      "metadata": {
        "id": "aAf3Yh9cc3Ln"
      },
      "execution_count": 4,
      "outputs": []
    },
    {
      "cell_type": "code",
      "source": [
        "def seSuperpone(vertice, x):\n",
        "    if vertice == None:\n",
        "        # regresa un intervalo ficticio\n",
        "        return Rango(-1, -1)\n",
        " \n",
        "    # si x se superpone con el intervalo del vertice\n",
        "    if (x.bajo > vertice.rango.bajo and x.bajo < vertice.rango.alto or (x.alto > vertice.rango.bajo and x.alto < vertice.rango.alto)):\n",
        "        return vertice.rango\n",
        " \n",
        "    elif (vertice.izq != None and vertice.izq.max > x.bajo):\n",
        "        # el nodo que se superpone pudiera estar en el hijo izquierdo\n",
        "        return seSuperpone(vertice.izq, x)\n",
        " \n",
        "    else:\n",
        "        return seSuperpone(vertice.der, x)"
      ],
      "metadata": {
        "id": "psINM6BWc3I7"
      },
      "execution_count": 5,
      "outputs": []
    },
    {
      "cell_type": "markdown",
      "source": [
        "Ejemplo de uso de clases y métodos."
      ],
      "metadata": {
        "id": "UyQNMprWVVcb"
      }
    },
    {
      "cell_type": "code",
      "source": [
        "arbol = None\n",
        "arbol = inserta(None, Rango(15, 20))\n",
        "arbol = inserta(arbol, Rango(10, 30))\n",
        "arbol = inserta(arbol, Rango(17, 19))\n",
        "arbol = inserta(arbol, Rango(5, 20))\n",
        "arbol = inserta(arbol, Rango(12, 15))\n",
        "arbol = inserta(arbol, Rango(30, 40))"
      ],
      "metadata": {
        "id": "5ErQdlRlc8O-"
      },
      "execution_count": 10,
      "outputs": []
    },
    {
      "cell_type": "code",
      "source": [
        "print(\"El recorrido en orden del árbol de intervalo construido es: \")\n",
        "enOrden(arbol)"
      ],
      "metadata": {
        "colab": {
          "base_uri": "https://localhost:8080/"
        },
        "id": "gqd220yVnluA",
        "outputId": "3ab66b4c-fd69-4c51-f5b2-1a848508c809"
      },
      "execution_count": 11,
      "outputs": [
        {
          "output_type": "stream",
          "name": "stdout",
          "text": [
            "El recorrido en orden del árbol de intervalo construido es: \n",
            "[5, 20] max = 20\n",
            "[10, 30] max = 30\n",
            "[12, 15] max = 15\n",
            "[15, 20] max = 40\n",
            "[17, 19] max = 40\n",
            "[30, 40] max = 40\n"
          ]
        }
      ]
    },
    {
      "cell_type": "code",
      "source": [
        "i = Rango(6, 7)\n",
        "print(\"Buscando intervalo\", i)\n",
        "print(\"Se superpone con \", seSuperpone(arbol, i))"
      ],
      "metadata": {
        "colab": {
          "base_uri": "https://localhost:8080/"
        },
        "id": "Dd4mKpMpdCB8",
        "outputId": "18210936-7fcd-4fbd-ca66-b12d286aeef0"
      },
      "execution_count": 12,
      "outputs": [
        {
          "output_type": "stream",
          "name": "stdout",
          "text": [
            "Buscando intervalo [6,7]\n",
            "Se superpone con  [5,20]\n"
          ]
        }
      ]
    },
    {
      "cell_type": "markdown",
      "source": [
        "###Ejercicio\n",
        "\n",
        "Utiliza el ejemplo anterior para implementar tu propio código.\n",
        "\n",
        "* Crea tu propia clase.\n",
        "* Integra los métodos en una clase.\n",
        "* Redefine las variables con nombres que tu les asignes.\n",
        "* Aplica cada método: inserta, enOrden, seSuperpone con un ejemplo que tu propongas."
      ],
      "metadata": {
        "id": "L9Zxlv6lSY2E"
      }
    }
  ]
}