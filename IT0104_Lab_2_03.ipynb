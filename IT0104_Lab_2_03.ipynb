{
  "nbformat": 4,
  "nbformat_minor": 0,
  "metadata": {
    "colab": {
      "provenance": []
    },
    "kernelspec": {
      "name": "python3",
      "display_name": "Python 3"
    },
    "language_info": {
      "name": "python"
    }
  },
  "cells": [
    {
      "cell_type": "markdown",
      "source": [
        "#IT0104 - Matemáticas Discretas\n",
        "\n",
        "### Primavera 2023\n",
        "\n",
        "### IT0104_Lab-2.03\n",
        "\n",
        "**Profesor Enrique Naredo García**\n",
        "\n",
        " <font size = 2> \n",
        "©️ Todos los derechos reservados. All rights reserved.\n",
        "\n",
        "*Nota: El presente documento es una herramienta diseñada única y exclusivamente para los estudiantes de la asignatura arriba mencionada. Queda prohibido compartir este documento entre otros estudiantes, aún siendo de la misma clase, grupo o de la Universidad sin consentimiento del autor. Queda prohibida la reproducción total o parcial de este documento por cualquier medio o procedimiento, ya sea electrónico o mecánico, el tratamiento informático, el alquiler o cualquier otra forma de cesión sin la autorización previa y por escrito del titular del copyright.*\n",
        "</font>"
      ],
      "metadata": {
        "id": "Bt96pqT0pOOX"
      }
    },
    {
      "cell_type": "markdown",
      "source": [
        "##[Álgebra de Boole](https://es.wikipedia.org/wiki/%C3%81lgebra_de_Boole)\n",
        "\n",
        "Se denomina así en honor a George Boole (1815-1864), matemático inglés autodidacta que fue el primero en definirla como parte de un sistema lógico.\n",
        "\n",
        "* Inicialmente en un pequeño folleto de 1847, The Mathematical Analysis of Logic, publicado en respuesta a una controversia en curso entre Augustus De Morgan y sir William Rowan Hamilton. \n",
        "\n",
        "* El álgebra de Boole fue un intento de utilizar las técnicas algebraicas para tratar expresiones de la lógica proposicional."
      ],
      "metadata": {
        "id": "Wj03UcviCjRH"
      }
    },
    {
      "cell_type": "markdown",
      "source": [
        "Boole propuso un esquema o sistema para la expresión simplificada de problemas lógicos a través de dos estados (falso o verdadero) mediante un procedimiento matemático. \n",
        "\n",
        "* A esta estructura se la denomina álgebra booleana."
      ],
      "metadata": {
        "id": "V3amCpmiDv2O"
      }
    },
    {
      "cell_type": "markdown",
      "source": [
        "###Variable Lógica\n",
        "\n",
        "En general, el termino variable lógica o booleana, se refiere a cualquier símbolo lineal; $A,B,....,Z$, empleado para representar \n",
        "dispositivos o magnitudes físicas que llenan solamente dos valores o estados, \n",
        "\n",
        "* verdadero o falso, \n",
        "* que son representados simbólicamente por $1$ ó $0$ respectivamente. \n",
        "\n",
        "► Las dos posiciones o estados “abierto” y “cerrado” de un contacto eléctrico se designan mediante los símbolos \n",
        "* $0$ (no corre electricidad) y \n",
        "* $1$ (si hay electricidad)."
      ],
      "metadata": {
        "id": "CzTv-x7XqPHm"
      }
    },
    {
      "cell_type": "markdown",
      "source": [
        "###Función lógica\n",
        "\n",
        "Una función lógica o booleana es una variable lógica cuyo valor es equivalente al de una expresión algebraica, \n",
        "\n",
        "* constituida por otras variables lógicas relacionadas entre sí \n",
        "* por medio de las operaciones \n",
        "  * suma lógica $(+)$, \n",
        "  * producto lógico $(·)$ \n",
        "  * negador $(-)$.\n",
        "\n",
        "Las tres operaciones mencionadas son las operaciones básicas del álgebra de Boole, que dan lugar a las funciones básicas \n",
        "* “OR”, \n",
        "* “AND” y \n",
        "* “NOT”. "
      ],
      "metadata": {
        "id": "u6O0Q606qPEK"
      }
    },
    {
      "cell_type": "markdown",
      "source": [
        "##Compuertas Lógicas"
      ],
      "metadata": {
        "id": "QyhsUAZz3umg"
      }
    },
    {
      "cell_type": "markdown",
      "source": [
        "Las compuertas lógicas básicas, son \n",
        "\n",
        "* la compuerta Inverter o $NOT$, \n",
        "* la puerta $AND$, \n",
        "* la puerta $OR$ y \n",
        "* la puerta $XOR$."
      ],
      "metadata": {
        "id": "myhNewRq3u8j"
      }
    },
    {
      "cell_type": "markdown",
      "source": [
        "<img src=\"https://drive.google.com/uc?export=view&id=1UNhPl-ZTfo3e85coEPWyfYf4Nq7NToP3\" \n",
        "     width=\"400\" \n",
        "     height=\"250\" />"
      ],
      "metadata": {
        "id": "gggj04rz3u8k"
      }
    },
    {
      "cell_type": "markdown",
      "source": [
        "###Compuerta NOT\n",
        "\n",
        "Una Compuerta NOT de una entrada es un dispositivo electrónico que posee una entrada, a la que llega el nivel de tensión de un \n",
        "cable $A$ y una salida $Z$. "
      ],
      "metadata": {
        "id": "RRoFISze_2JY"
      }
    },
    {
      "cell_type": "markdown",
      "source": [
        "Una negación invierte el valor de las variables. \n",
        "\n",
        "Se representa con la variable (en este caso “A”) negada. \n",
        "\n",
        "Así $Z = \\overline{A}$: \n",
        "\n",
        "* Si $A=0$, entonces $\\overline{A} = 1$\n",
        "* Si $A=1$, entonces $\\overline{A} = 0$\n"
      ],
      "metadata": {
        "id": "2ACZw1y5qO5T"
      }
    },
    {
      "cell_type": "code",
      "source": [
        "## Ejemplo usando NOT\n",
        "\n",
        "A = True\n",
        "print(A)\n",
        "\n",
        "NotA = not A\n",
        "print(NotA)"
      ],
      "metadata": {
        "colab": {
          "base_uri": "https://localhost:8080/"
        },
        "id": "tWaR7WkzOVK3",
        "outputId": "b19300b3-355b-4ae3-deb0-d0c7a2550613"
      },
      "execution_count": null,
      "outputs": [
        {
          "output_type": "stream",
          "name": "stdout",
          "text": [
            "True\n",
            "False\n"
          ]
        }
      ]
    },
    {
      "cell_type": "code",
      "source": [
        "## Ejemplo usando NOT\n",
        "\n",
        "A = 0\n",
        "print(A)\n",
        "\n",
        "NotA = not A\n",
        "print(NotA)"
      ],
      "metadata": {
        "colab": {
          "base_uri": "https://localhost:8080/"
        },
        "id": "65FCZe_gOk55",
        "outputId": "27af4584-f16f-44b5-9a4e-ed848174be88"
      },
      "execution_count": null,
      "outputs": [
        {
          "output_type": "stream",
          "name": "stdout",
          "text": [
            "0\n",
            "True\n"
          ]
        }
      ]
    },
    {
      "cell_type": "code",
      "source": [
        "# NOT\n",
        "a = True\n",
        "b = False\n",
        "print('Resultado de NOT a is : ', not a)\n",
        "print('Resultado de NOT b is : ', not b)"
      ],
      "metadata": {
        "colab": {
          "base_uri": "https://localhost:8080/"
        },
        "id": "9Xa1w7A5Re9v",
        "outputId": "ccf6100f-7496-49fa-f1f4-4c306f0da451"
      },
      "execution_count": null,
      "outputs": [
        {
          "output_type": "stream",
          "name": "stdout",
          "text": [
            "Resultado de NOT a is :  False\n",
            "Resultado de NOT b is :  True\n"
          ]
        }
      ]
    },
    {
      "cell_type": "code",
      "source": [
        "## Ejemplo usando NOT\n",
        "\n",
        "# declaramos dos variables\n",
        "x = 2\n",
        "y = 5\n",
        "\n",
        "# probamos si x > y\n",
        "z1 = x > y\n",
        "print('z1 = ', z1)\n",
        "\n",
        "# probamos si x (negada) > y\n",
        "z2 = not x > y\n",
        "print('z2 = ', z2)"
      ],
      "metadata": {
        "colab": {
          "base_uri": "https://localhost:8080/"
        },
        "id": "C2cf3Vm6OBKy",
        "outputId": "1e6d08a5-aa60-4497-a6fe-618edfa0774d"
      },
      "execution_count": null,
      "outputs": [
        {
          "output_type": "stream",
          "name": "stdout",
          "text": [
            "z1 =  False\n",
            "z2 =  True\n"
          ]
        }
      ]
    },
    {
      "cell_type": "code",
      "source": [
        "# Python program to demonstrate\n",
        "# logical not operator\n",
        " \n",
        "a = 10\n",
        " \n",
        "if not a:\n",
        "    print(\"El valor Booleano de a es Verdadero\")\n",
        "\n",
        "# probamos si el residuo es cero usando el modulo (%)\n",
        "if not (a%3 == 0 or a%5 == 0):\n",
        "    print(\"10 no es divisible por 3 o 5\")\n",
        "else:\n",
        "    print(\"10 es divisible por 3 o 5\")"
      ],
      "metadata": {
        "colab": {
          "base_uri": "https://localhost:8080/"
        },
        "id": "iCC4Sk4lI_rs",
        "outputId": "999d1526-5d56-4b83-a3a8-2a1f2aecde03"
      },
      "execution_count": null,
      "outputs": [
        {
          "output_type": "stream",
          "name": "stdout",
          "text": [
            "El valor Booleano de a es Verdadero\n",
            "10 es divisible por 3 o 5\n"
          ]
        }
      ]
    },
    {
      "cell_type": "markdown",
      "source": [
        "###Compuerta AND \n",
        "\n",
        "Una Compuerta AND de dos entradas es un dispositivo electrónico que posee dos entradas, a las que llegan los niveles de tensión de dos cables $A$,$B$, y una salida $Z$. \n"
      ],
      "metadata": {
        "id": "zfjRk5krwYq8"
      }
    },
    {
      "cell_type": "markdown",
      "source": [
        "Un producto lógico sería $Z = A · B$, \n",
        "\n",
        "donde $Z$ tomará el valor uno (1),\n",
        "\n",
        "en el caso que tanto $A$ como $B$, tomen el valor de uno (1). \n",
        "\n",
        "* $0 · 0 = 0 $\n",
        "* $1 · 0 = 0 $\n",
        "* $0 · 1 = 0 $\n",
        "* $1 · 1 = 1 $"
      ],
      "metadata": {
        "id": "P8a2evkvqPBE"
      }
    },
    {
      "cell_type": "code",
      "source": [
        "# AND (&)\n",
        "print(0 & 0) # 0\n",
        "print(1 & 0) # 0\n",
        "print(0 & 1) # 0\n",
        "print(1 & 1) # 1"
      ],
      "metadata": {
        "colab": {
          "base_uri": "https://localhost:8080/"
        },
        "id": "FID45qb9cgQz",
        "outputId": "410dd33b-098a-4781-9d79-fdb9892cffb0"
      },
      "execution_count": null,
      "outputs": [
        {
          "output_type": "stream",
          "name": "stdout",
          "text": [
            "0\n",
            "0\n",
            "0\n",
            "1\n"
          ]
        }
      ]
    },
    {
      "cell_type": "code",
      "source": [
        "# AND\n",
        "print(False and False) # False\n",
        "print(True and False)  # False\n",
        "print(False and True)  # False\n",
        "print(True and True)   # True"
      ],
      "metadata": {
        "colab": {
          "base_uri": "https://localhost:8080/"
        },
        "id": "1IeDjpmDSRtF",
        "outputId": "c56fe00e-766d-47cb-c9d0-d430ad5858aa"
      },
      "execution_count": null,
      "outputs": [
        {
          "output_type": "stream",
          "name": "stdout",
          "text": [
            "False\n",
            "False\n",
            "False\n",
            "True\n"
          ]
        }
      ]
    },
    {
      "cell_type": "code",
      "source": [
        "# AND\n",
        "a = True\n",
        "b = False\n",
        "\n",
        "print(a and b)\n"
      ],
      "metadata": {
        "colab": {
          "base_uri": "https://localhost:8080/"
        },
        "outputId": "d866bda2-9cab-4ae3-cdd6-878ca0eb4d74",
        "id": "o6vF_opsZnHU"
      },
      "execution_count": null,
      "outputs": [
        {
          "output_type": "stream",
          "name": "stdout",
          "text": [
            "False\n"
          ]
        }
      ]
    },
    {
      "cell_type": "code",
      "source": [
        "# AND\n",
        "a = False\n",
        "b = False\n",
        "\n",
        "print(a and b)"
      ],
      "metadata": {
        "colab": {
          "base_uri": "https://localhost:8080/"
        },
        "outputId": "b566ea1f-1503-4842-be33-21ed8e943da6",
        "id": "MXgXFTzrZnHV"
      },
      "execution_count": null,
      "outputs": [
        {
          "output_type": "stream",
          "name": "stdout",
          "text": [
            "False\n"
          ]
        }
      ]
    },
    {
      "cell_type": "code",
      "source": [
        "# Python program to demonstrate\n",
        "# logical and operator\n",
        " \n",
        "a = 5\n",
        "b = 5\n",
        " \n",
        "if a > 0 and b > 0:\n",
        "    print(\"Los números son mayores que 0\")"
      ],
      "metadata": {
        "colab": {
          "base_uri": "https://localhost:8080/"
        },
        "id": "nv59uOb_Mzcu",
        "outputId": "611cc926-f9e0-4415-b887-2d2f125a664f"
      },
      "execution_count": null,
      "outputs": [
        {
          "output_type": "stream",
          "name": "stdout",
          "text": [
            "Los números son mayores que 0\n"
          ]
        }
      ]
    },
    {
      "cell_type": "markdown",
      "source": [
        "###Compuerta OR\n",
        "\n",
        "Una Compuerta OR de dos entradas es un dispositivo electrónico que posee dos entradas, a las que llegan los niveles de tensión de dos \n",
        "cables $A$,$B$, y una salida $Z$. \n"
      ],
      "metadata": {
        "id": "f8NVCH6ywYg-"
      }
    },
    {
      "cell_type": "markdown",
      "source": [
        "Una suma lógica sería $Z = A + B$, \n",
        "\n",
        "donde $Z$ tomará el valor uno (1),\n",
        "\n",
        "en el caso cuando una de las entradas, \n",
        "\n",
        "ya sea $A$ o $B$ tomen el valor de uno (1). \n",
        "\n",
        "* $0 · 0 = 0 $\n",
        "* $1 · 0 = 1 $\n",
        "* $0 · 1 = 1 $\n",
        "* $1 · 1 = 1 $"
      ],
      "metadata": {
        "id": "UH1zqYNf2SV9"
      }
    },
    {
      "cell_type": "code",
      "source": [
        "# OR (|)\n",
        "print(0 | 0) # 0\n",
        "print(1 | 0) # 1\n",
        "print(0 | 1) # 1\n",
        "print(1 | 1) # 1"
      ],
      "metadata": {
        "colab": {
          "base_uri": "https://localhost:8080/"
        },
        "id": "Oaf-3X5DcJD8",
        "outputId": "dc565467-39e4-4b36-8c7e-ae82163f593c"
      },
      "execution_count": null,
      "outputs": [
        {
          "output_type": "stream",
          "name": "stdout",
          "text": [
            "0\n",
            "1\n",
            "1\n",
            "1\n"
          ]
        }
      ]
    },
    {
      "cell_type": "code",
      "source": [
        "# operador OR\n",
        " \n",
        "a = 10\n",
        "b = 12\n",
        "c = 0\n",
        " \n",
        "if a or b or c:\n",
        "    print(\"Al menos un número tiene valor Booleano de Verdadero\")\n",
        "else:\n",
        "    print(\"Todos los números tienen valor Booleano de Falso\")"
      ],
      "metadata": {
        "id": "AzgyfU1wNLgB",
        "colab": {
          "base_uri": "https://localhost:8080/"
        },
        "outputId": "1d3ce5ff-030a-45ae-9bcb-123d65e595d6"
      },
      "execution_count": null,
      "outputs": [
        {
          "output_type": "stream",
          "name": "stdout",
          "text": [
            "Al menos un número tiene valor Booleano de Verdadero\n"
          ]
        }
      ]
    },
    {
      "cell_type": "code",
      "source": [
        "# OR\n",
        "print(False or False) # False\n",
        "print(True or False)  # True\n",
        "print(False or True)  # True\n",
        "print(True or True)   # True"
      ],
      "metadata": {
        "colab": {
          "base_uri": "https://localhost:8080/"
        },
        "id": "wyZ8FQ4KUSBk",
        "outputId": "df4ccad5-6b47-423e-a531-840bd131f0e0"
      },
      "execution_count": null,
      "outputs": [
        {
          "output_type": "stream",
          "name": "stdout",
          "text": [
            "False\n",
            "True\n",
            "True\n",
            "True\n"
          ]
        }
      ]
    },
    {
      "cell_type": "code",
      "source": [
        "# OR\n",
        "a = True\n",
        "b = False\n",
        "\n",
        "print(a or b)\n"
      ],
      "metadata": {
        "colab": {
          "base_uri": "https://localhost:8080/"
        },
        "id": "y97qYX0aSolO",
        "outputId": "85f382af-0a5f-406c-e77f-93d368443a58"
      },
      "execution_count": null,
      "outputs": [
        {
          "output_type": "stream",
          "name": "stdout",
          "text": [
            "True\n"
          ]
        }
      ]
    },
    {
      "cell_type": "code",
      "source": [
        "# OR\n",
        "a = False\n",
        "b = False\n",
        "\n",
        "print(a or b)"
      ],
      "metadata": {
        "colab": {
          "base_uri": "https://localhost:8080/"
        },
        "id": "I5fOcmcySzVA",
        "outputId": "6809172e-01e9-4c0d-d350-3f90a8257cb5"
      },
      "execution_count": null,
      "outputs": [
        {
          "output_type": "stream",
          "name": "stdout",
          "text": [
            "False\n"
          ]
        }
      ]
    },
    {
      "cell_type": "code",
      "source": [
        "# Python program to demonstrate\n",
        "# logical or operator\n",
        " \n",
        "a = 5\n",
        "b = -5\n",
        " \n",
        "if a > 0 or b > 0:\n",
        "    print(\"Cualquiera de los números es mayor que 0\")\n",
        "else:\n",
        "    print(\"Ningún número es mayor que 0\")"
      ],
      "metadata": {
        "colab": {
          "base_uri": "https://localhost:8080/"
        },
        "id": "yLsAeFEmNH9T",
        "outputId": "8495aa31-213b-4d6b-f34a-3b101d68032a"
      },
      "execution_count": null,
      "outputs": [
        {
          "output_type": "stream",
          "name": "stdout",
          "text": [
            "Cualquiera de los números es mayor que 0\n"
          ]
        }
      ]
    },
    {
      "cell_type": "code",
      "source": [
        "# Uso del operador OR\n",
        "\n",
        "# código para ingresar números\n",
        "x = int(input(\"Ingresa el valor de x = \"))\n",
        "y = int(input(\"Ingresa el valor de y = \"))\n",
        " \n",
        "# \n",
        "if (x >= 10) or (y <= 20):\n",
        "    print(\"Es Verdadero que x >= 10 o y <= 20\")\n",
        "else:\n",
        "    print(\"Es Falso que x < 10 y que y > 20\")"
      ],
      "metadata": {
        "colab": {
          "base_uri": "https://localhost:8080/"
        },
        "id": "92H6YfhfXWKk",
        "outputId": "8b87e9df-89a1-4e3f-ff43-05bf9fe8c460"
      },
      "execution_count": null,
      "outputs": [
        {
          "output_type": "stream",
          "name": "stdout",
          "text": [
            "Ingresa el valor de x = 1\n",
            "Ingresa el valor de y = 1\n",
            "Es Verdadero que x >= 10 o y <= 20\n"
          ]
        }
      ]
    },
    {
      "cell_type": "markdown",
      "source": [
        "###Compuerta XOR\n",
        "\n",
        "Una compuerta XOR u OR excluyente de dos entradas es un dispositivo electrónico que presenta dos entradas, a las que llegan los estados de las dos variables $A ⊕ B$, y una salida, que genera en el cable $Z$.\n"
      ],
      "metadata": {
        "id": "q11gDRbfwYdy"
      }
    },
    {
      "cell_type": "markdown",
      "source": [
        "Una operación lógica con XOR  sería:  $ Z = \\overline{A}\\cdot B + \\overline{B}\\cdot A$\n",
        "\n",
        "* $0 ⊕ 0 = 0 $\n",
        "* $1 ⊕ 0 = 1 $\n",
        "* $0 ⊕ 1 = 1 $\n",
        "* $1 ⊕ 1 = 0 $"
      ],
      "metadata": {
        "id": "pep8YN5xATdI"
      }
    },
    {
      "cell_type": "code",
      "source": [
        "# XOR\n",
        "# en Python se utiliza el operador: ^\n",
        "\n",
        "print(False ^ False) # False\n",
        "print(True ^ False)  # True\n",
        "print(False ^ True)  # True\n",
        "print(True ^ True)   # False"
      ],
      "metadata": {
        "colab": {
          "base_uri": "https://localhost:8080/"
        },
        "id": "8MQwwvu6adLI",
        "outputId": "d9f4b296-4bc7-4f3b-cdaf-0ffd57fc6d7f"
      },
      "execution_count": null,
      "outputs": [
        {
          "output_type": "stream",
          "name": "stdout",
          "text": [
            "False\n",
            "True\n",
            "True\n",
            "False\n"
          ]
        }
      ]
    },
    {
      "cell_type": "code",
      "source": [
        "# OR usando lbreria: operator\n",
        "import operator\n",
        " \n",
        "print(operator.xor(False,False))\n",
        "print(operator.xor(True, False))\n",
        "print(operator.xor(False,True))\n",
        "print(operator.xor(True,True))"
      ],
      "metadata": {
        "colab": {
          "base_uri": "https://localhost:8080/"
        },
        "id": "BcyXq_m8a-Ez",
        "outputId": "7328820c-6cf2-4073-f11f-96c4de614e35"
      },
      "execution_count": null,
      "outputs": [
        {
          "output_type": "stream",
          "name": "stdout",
          "text": [
            "False\n",
            "True\n",
            "True\n",
            "False\n"
          ]
        }
      ]
    },
    {
      "cell_type": "markdown",
      "source": [
        "###Compuerta NAND\n",
        "\n",
        "Una compuerta NAND resulta de invertir la salida de una compuerta AND.\n",
        "\n",
        "* Compuerta AND: $Z = A \\cdot B$\n",
        "\n",
        "* Negamos de ambos lados: $\\overline{Z} = \\overline{A \\cdot B}$\n",
        "\n",
        "* Por ley de Morgan: $\\overline{Z} = \\overline{A} \\cdot \\overline{B}$"
      ],
      "metadata": {
        "id": "Ut18sufFwYa0"
      }
    },
    {
      "cell_type": "markdown",
      "source": [
        "Una operación lógica con NAND  sería:  \n",
        "\n",
        "$\\overline{Z} = \\overline{A} \\cdot \\overline{B}$\n",
        "\n",
        "* $0 ⊕ 0 = 1 $\n",
        "* $1 ⊕ 0 = 1 $\n",
        "* $0 ⊕ 1 = 1 $\n",
        "* $1 ⊕ 1 = 0 $"
      ],
      "metadata": {
        "id": "W8AXldzMBjpN"
      }
    },
    {
      "cell_type": "code",
      "source": [
        "# NAND \n",
        "def NAND(A, B):\n",
        "\treturn  not(A & B)"
      ],
      "metadata": {
        "id": "6QXiP4pSc0AX"
      },
      "execution_count": null,
      "outputs": []
    },
    {
      "cell_type": "code",
      "source": [
        "# NAND\n",
        "print(NAND(0,0)) # True\n",
        "print(NAND(1,0)) # True\n",
        "print(NAND(0,1)) # True\n",
        "print(NAND(1,1)) # False"
      ],
      "metadata": {
        "colab": {
          "base_uri": "https://localhost:8080/"
        },
        "id": "-MrejvSQe9Lj",
        "outputId": "816664b9-0fe5-46b3-aca8-a1611276b004"
      },
      "execution_count": null,
      "outputs": [
        {
          "output_type": "stream",
          "name": "stdout",
          "text": [
            "True\n",
            "True\n",
            "True\n",
            "False\n"
          ]
        }
      ]
    },
    {
      "cell_type": "markdown",
      "source": [
        "###Compuerta Universal\n",
        "\n",
        "Las compuertas NAND y NOR son universales, es decir, cualquier función lógica se puede representar utilizando solo una de ellas.\n",
        "\n",
        "* A menudo es más sencillo y económico a la hora de\n",
        "realizar un circuito emplear sólo un tipo de puerta lógica.\n",
        "\n",
        "* En varias familias lógicas las puertas NAND son las más\n",
        "simples, por lo que resulta útil poder construir circuitos\n",
        "usando sólo éstas.\n",
        "\n",
        "* Utilizando las leyes de Morgan podemos intercambiar\n",
        "OR por AND o viceversa.\n",
        "\n",
        "* La negación se implementa con una puerta (NAND o\n",
        "NOR) con las dos entradas unidas\n"
      ],
      "metadata": {
        "id": "bHqwMusEC2HM"
      }
    },
    {
      "cell_type": "markdown",
      "source": [
        "###NAND como compuerta universal\n",
        "\n",
        "* NOT: $𝑓 = \\overline{a•a} = \\overline{a}$\n",
        "\n",
        "* AND: $𝑓 = \\overline{\\overline{a•b}} = a•b$\n",
        "\n",
        "* OR: $𝑓 = \\overline{\\overline{a}•\\overline{a}} = a+b$\n",
        "\n",
        "\n"
      ],
      "metadata": {
        "id": "O8mrW-tkDnPF"
      }
    },
    {
      "cell_type": "markdown",
      "source": [
        "\n",
        "<img src=\"https://drive.google.com/uc?export=view&id=1_xoxm9tCKHUNTdY7uO6H5WjjGZ87-M81\" \n",
        "     width=\"400\" \n",
        "     height=\"350\" />\n"
      ],
      "metadata": {
        "id": "Lbw74lcaIGh-"
      }
    },
    {
      "cell_type": "markdown",
      "source": [
        "###NOR como compuerta universal\n",
        "\n",
        "* NOT: $𝑓 = \\overline{a+a} = \\overline{a}$\n",
        "\n",
        "* AND: $𝑓 = \\overline{\\overline{a+b}} = a+b$\n",
        "\n",
        "* OR: $𝑓 = \\overline{\\overline{a}+\\overline{a}} = a•b$"
      ],
      "metadata": {
        "id": "G2aS39s5IX1o"
      }
    },
    {
      "cell_type": "markdown",
      "source": [
        "<img src=\"https://drive.google.com/uc?export=view&id=1_xoxm9tCKHUNTdY7uO6H5WjjGZ87-M81\" \n",
        "     width=\"400\" \n",
        "     height=\"350\" />\n"
      ],
      "metadata": {
        "id": "6ZPKUwnEIU5l"
      }
    },
    {
      "cell_type": "markdown",
      "source": [
        "**Ejercicios**\n",
        "\n",
        "\n",
        "1. Define 4 variables, 2 númericas y 2 con caracteres.\n",
        "\n",
        "2. Implementa la operación OR con los conjuntos númericos\n",
        "\n",
        "3. Implementa la operación OR con un conjunto númerico y otro con caracteres\n",
        "\n",
        "4. Implementa la operación AND con los conjuntos númericos\n",
        "\n",
        "5. Implementa la operación AND con un conjunto númerico y otro con caracteres\n",
        "\n",
        "6. Implementa la igualdad con los conjuntos númericos\n",
        "\n",
        "7. Implementa la igualdad con un conjunto númerico y otro con caracteres\n",
        "\n",
        "8. Implementa la diferencia con los conjuntos númericos\n",
        "\n",
        "9. Implementa la diferencia con un conjunto númerico y otro con caracteres\n",
        "\n",
        "8. Implementa la diferencia con los conjuntos númericos\n",
        "\n",
        "9. Implementa la diferencia con un conjunto númerico y otro con caracteres\n",
        "\n"
      ],
      "metadata": {
        "id": "KEcaNaTb665g"
      }
    }
  ]
}
