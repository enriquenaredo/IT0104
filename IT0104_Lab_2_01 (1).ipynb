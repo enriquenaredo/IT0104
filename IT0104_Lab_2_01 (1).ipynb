{
  "nbformat": 4,
  "nbformat_minor": 0,
  "metadata": {
    "colab": {
      "provenance": []
    },
    "kernelspec": {
      "name": "python3",
      "display_name": "Python 3"
    },
    "language_info": {
      "name": "python"
    }
  },
  "cells": [
    {
      "cell_type": "markdown",
      "source": [
        "#IT0104 - Matemáticas Discretas\n",
        "\n",
        "### Primavera 2023\n",
        "\n",
        "### IT0104_Lab-2.01\n",
        "\n",
        "**Profesor Enrique Naredo García**\n",
        "\n",
        " <font size = 2> \n",
        "©️ Todos los derechos reservados. All rights reserved.\n",
        "\n",
        "*Nota: El presente documento es una herramienta diseñada única y exclusivamente para los estudiantes de la asignatura arriba mencionada. Queda prohibido compartir este documento entre otros estudiantes, aún siendo de la misma clase, grupo o de la Universidad sin consentimiento del autor. Queda prohibida la reproducción total o parcial de este documento por cualquier medio o procedimiento, ya sea electrónico o mecánico, el tratamiento informático, el alquiler o cualquier otra forma de cesión sin la autorización previa y por escrito del titular del copyright.*\n",
        "</font>"
      ],
      "metadata": {
        "id": "C_U1oKVwqCJe"
      }
    },
    {
      "cell_type": "code",
      "source": [],
      "metadata": {
        "id": "-OA60u8OC1fn"
      },
      "execution_count": null,
      "outputs": []
    },
    {
      "cell_type": "markdown",
      "source": [
        "## [Conjuntos](https://es.wikipedia.org/wiki/Conjunto)\n",
        "\n",
        "En matemáticas, un conjunto es una colección de elementos considerada en sí misma como un objeto. \n",
        "\n",
        "Los elementos de un conjunto, pueden ser las siguientes: \n",
        "* personas, \n",
        "* números, \n",
        "* colores, \n",
        "* letras, \n",
        "* figuras, \n",
        "* etc. \n",
        "\n",
        "Se dice que un elemento (o miembro) pertenece al conjunto si está definido como incluido de algún modo dentro de él. "
      ],
      "metadata": {
        "id": "Bvin--9zY5KF"
      }
    },
    {
      "cell_type": "markdown",
      "source": [
        "Un conjunto es una colección desordenada de objetos, llamados elementos o miembros.\n",
        "\n",
        "* Se dice que un conjunto contiene sus elementos.\n",
        "\n",
        "* Si $x$ es un elemento del conjunto $A$, entonces escribimos $x∈A$.\n",
        "\n",
        "* Si $x$ no es un elemento del conjunto $A$, entonces escribimos $x∉A$.\n"
      ],
      "metadata": {
        "id": "Ea5ynELfss0t"
      }
    },
    {
      "cell_type": "markdown",
      "source": [
        "**Ejemplo**\n",
        "\n",
        "Si $S$ es el conjunto de estados de los Estados Unidos Mexicanos (México), entonces Quintana Roo es un elemento de $S$ y Cancún no es un elemento de $S$.\n",
        "\n",
        "* Si $E$ es el conjunto de enteros pares, entonces $2∈E$ y $3∉E$.\n"
      ],
      "metadata": {
        "id": "3WHM4PdCfXs1"
      }
    },
    {
      "cell_type": "markdown",
      "source": [
        "Hay varias maneras diferentes de describir un conjunto.\n",
        "\n",
        "* Una forma de describir un conjunto se conoce como el método de lista.\n",
        "\n",
        "* Aquí es donde enumeramos todos los elementos de un conjunto entre llaves.\n",
        "\n",
        "* Por ejemplo, $\\{a,b,c\\}$ es el conjunto cuyos elementos son $a, b$ y $c$.\n",
        "\n",
        "Además los tipos de variables utilizadas en Python: int (entero), float y string, son tipos de datos y se pueden utilizar para construir conjuntos en usando llaves: $\\{..\\}$.\n",
        "\n",
        "* En este caso, los tipos de datos establecidos en los conjuntos están desordenados e ignoran los elementos duplicados.\n"
      ],
      "metadata": {
        "id": "_Fs6cqQofh1O"
      }
    },
    {
      "cell_type": "markdown",
      "source": [
        "**Ejemplo en Python: Comprobar la pertenencia a un conjunto en Python**\n",
        "\n",
        "El siguiente código verifica si $5$ y $0$ son elementos del conjunto $A=\\{−2,0,1,4\\}$.\n",
        "\n",
        "* Dado que $5∉A$ \n",
        "y \n",
        "\n",
        "*$0∈A$, \n",
        "\n",
        "el código imprime Falso seguido de Verdadero."
      ],
      "metadata": {
        "id": "3Cixaxx0ssyB"
      }
    },
    {
      "cell_type": "code",
      "source": [
        "## Pertenencia a un conjunto\n",
        "\n",
        "# definimos elementos del conjunto A\n",
        "A = {-2,0,1,4}\n",
        "\n",
        "# verificamos pertenencia usando: \"in\"\n",
        "# que siginifica si el elemento 5 esta (in)\n",
        "# en el conjunto A\n",
        "print(5 in A)\n",
        "\n",
        "# similamente si 0 esta en A\n",
        "print(0 in A)"
      ],
      "metadata": {
        "id": "RMUk4Kbjtk85",
        "colab": {
          "base_uri": "https://localhost:8080/"
        },
        "outputId": "19d8a25e-304b-4472-840b-a711012fd3f2"
      },
      "execution_count": null,
      "outputs": [
        {
          "output_type": "stream",
          "name": "stdout",
          "text": [
            "False\n",
            "True\n"
          ]
        }
      ]
    },
    {
      "cell_type": "markdown",
      "source": [
        "**Ejemplo**\n",
        "\n",
        "Verifica si algún elemento esta en un conjunto dado usando Python,\n",
        "\n",
        "* Utilizamos el mismo conjunto $A=\\{−2,0,1,4\\}$.\n",
        "\n",
        "* Verificamos si el elmento \"1\" pertenece a A.\n",
        "\n",
        "* Verificamos si el elmento \"-1\" pertenece a A.\n"
      ],
      "metadata": {
        "id": "Mj9ip3HlssvJ"
      }
    },
    {
      "cell_type": "code",
      "source": [
        "## Verificación de elementos en un conjunto\n",
        "\n",
        "# conjunto A\n",
        "A = {-2,0,1,4}\n",
        "\n",
        "# verificamos si 1 esta en A\n",
        "print(1 in A)\n",
        "\n",
        "# verificamos si -1 esta en A\n",
        "print(-1 in A)\n",
        "\n",
        "# verificamos si 1 NO esta en A\n",
        "print(1 not in A)\n",
        "\n",
        "# verificamos si -1 NO esta en A\n",
        "print(-1 not in A) "
      ],
      "metadata": {
        "id": "Z0GY6oQTtzC5",
        "colab": {
          "base_uri": "https://localhost:8080/"
        },
        "outputId": "200fb0b2-59d2-4c31-fff0-fba085e4c5da"
      },
      "execution_count": null,
      "outputs": [
        {
          "output_type": "stream",
          "name": "stdout",
          "text": [
            "True\n",
            "False\n",
            "False\n",
            "True\n"
          ]
        }
      ]
    },
    {
      "cell_type": "markdown",
      "source": [
        "Podemos agregar algunas palabras que nos ayuden a entender de mejor manera la respuesta que Python nos da mediante el siguiente ejemplo."
      ],
      "metadata": {
        "id": "ohXVKAG_mZRZ"
      }
    },
    {
      "cell_type": "code",
      "source": [
        "## Verificación de elementos en un conjunto\n",
        "\n",
        "# conjunto A\n",
        "A = {-2,0,1,4}\n",
        "\n",
        "# verificamos si 1 esta en A\n",
        "print('1 esta en A? ', 1 in A)\n",
        "\n",
        "# verificamos si -1 esta en A\n",
        "print('-1 esta en A? ', -1 in A)\n",
        "\n",
        "# verificamos si 1 NO esta en A\n",
        "print('1 no esta en A? ', 1 not in A)\n",
        "\n",
        "# verificamos si -1 NO esta en A\n",
        "print('-1 no esta en A? ', -1 not in A) "
      ],
      "metadata": {
        "colab": {
          "base_uri": "https://localhost:8080/"
        },
        "id": "s0Ci0nTCl9OQ",
        "outputId": "b058a783-4a93-4b74-e58d-f5a6cc42b773"
      },
      "execution_count": null,
      "outputs": [
        {
          "output_type": "stream",
          "name": "stdout",
          "text": [
            "1 esta en A?  True\n",
            "-1 esta en A?  False\n",
            "1 no esta en A?  False\n",
            "-1 no esta en A?  True\n"
          ]
        }
      ]
    },
    {
      "cell_type": "markdown",
      "source": [
        "**Ejercicio**\n",
        "\n",
        "* Define un conjunto númerico $C$ con 5 elementos.\n",
        "\n",
        "* Selecciona 2 elementos de $C$ indicando su pertenencia a ese conjunto usando el simbolo; $∈$.\n",
        "\n",
        "* Utiliza además 2 números que no esten en $C$, para indicar que esos números no pertenecen a ese conjunto usando el simbolo $∉$.\n",
        "\n",
        "\n",
        "\n",
        "\n",
        "\n",
        "\n"
      ],
      "metadata": {
        "id": "6b92_q-ZZmH5"
      }
    },
    {
      "cell_type": "markdown",
      "source": [
        "Otra forma de describir un conjunto es el uso de la notación constructora de conjuntos.\n",
        "\n",
        "* Escribimos un conjunto como $\\{x∈E:P(x)\\}$.\n",
        "\n",
        "* Este es el conjunto de todos los elementos $x$ de un dominio $E$ que satisfacen el predicado $P(x)$."
      ],
      "metadata": {
        "id": "K4wUD_ucsspr"
      }
    },
    {
      "cell_type": "markdown",
      "source": [
        "**Ejemplo 3 - Cambiar entre representaciones**\n",
        "\n",
        "Considere el siguiente conjunto: $\\{x∈ℤ:−2≤x<4\\}$.\n",
        "\n",
        "* Este es el conjunto de todos los enteros $x$ tales que $−2$ es menor o igual a $x$, y además $x$ es menor que $4$.\n",
        "\n",
        "* Enlistando los elementos, este conjunto se puede escribir como $\\{−2,−1,0,1,2,3\\}$."
      ],
      "metadata": {
        "id": "wEFW5YnqsslP"
      }
    },
    {
      "cell_type": "markdown",
      "source": [
        "**Ejercicio**\n",
        "\n",
        "En este ejercicio se tienen dos listas: I. Método de construcción de conjuntos y II. Método de lista.\n",
        "\n",
        "El ejercicio consiste en hacer coincidir ambas listas, es decir, tomar un número de lista; I. Método de construcción de conjuntos y tomar una letra de la lista; II. Método de lista, para crear un par por cada uno.\n",
        "\n",
        "\n",
        "* I. Método de construcción de conjuntos \n",
        "\n",
        "  1).  $\\{x∈ℤ:x2=1\\}$\n",
        "\n",
        "  2).  ${x∈ℤ:x3=1}$\n",
        "\n",
        "  3).  ${x∈ℤ:|x|≤2}$\n",
        "\n",
        "  4).  ${x∈ℤ:x2<4}$\n",
        "\n",
        "  5).  ${x∈ℤ:x<|x|}$\n",
        "\n",
        "  6).  ${x∈ℤ:(x+1)2=x2+2x+1}$\n",
        "\n",
        "\n",
        "* II. Método de lista\n",
        "\n",
        "  a).  ${−1,0,1}$\n",
        "\n",
        "  b).  ${…,−3,−2,−1,0,1,2,3,…}$\n",
        "\n",
        "  c).  ${1}$\n",
        "\n",
        "  d).  ${…,−3,−2,−1}$\n",
        "\n",
        "  e).  ${−1,1}$\n",
        "\n",
        "  f).  ${−2,−1,0,1,2}$"
      ],
      "metadata": {
        "id": "wFRDARwYuR3O"
      }
    },
    {
      "cell_type": "markdown",
      "source": [
        "Pueden utilizar la siguiente tabla para hacer coincidir los elementos de cada uno de los métodos, en el primer renglón se muestra un ejemplo, que no necesariamente es correcto, es solo con la idea de mostrarles un ejemplo de como realizar la actividad.\n",
        "\n",
        "\n",
        "| I. Método de construcción de conjuntos | II. Método de lista |   \n",
        "| :-----:                                | :------:            |\n",
        "| 1).  $\\{x∈ℤ:x2=1\\}$                    | a).  ${−1,0,1}$     | \n",
        "|                                        |                     |\n",
        "|                                        |                     |\n",
        "|                                        |                     |\n",
        "|                                        |                     |\n",
        "|                                        |                     |\n",
        "  \n",
        "\n"
      ],
      "metadata": {
        "id": "7LGaRSacSIVv"
      }
    },
    {
      "cell_type": "markdown",
      "source": [
        "**Nota:**\n",
        "\n",
        "Cuando hay demasiados elementos en un conjunto para que podamos enumerar cada uno, a menudo usamos puntos suspensivos $(…)$ cuando el patrón es obvio.\n",
        "\n",
        "* Por ejemplo, tenemos $ℤ=\\{…,−3,−2,−1,0,1,2,3,…\\}$.\n",
        "\n",
        "* El cual representa el conjunto de todos los números enteros, tanto negativos como positivos."
      ],
      "metadata": {
        "id": "ZyUM8T9svMIL"
      }
    },
    {
      "cell_type": "markdown",
      "source": [
        "**Ejemplo 4: Notación de creación de conjuntos en Python**\n",
        "\n",
        "El conjunto $\\{x∈D:P(x)\\}$,\n",
        "\n",
        "* se puede expresar en Python como $\\{$ for $x \\in D$ if $P(x)\\}$.\n",
        "\n",
        "Por ejemplo, el siguiente código define el conjunto $B$ como el conjunto de elementos positivos del conjunto $A=\\{−2,0,1,4\\}$."
      ],
      "metadata": {
        "id": "sg_D0WQfvY2V"
      }
    },
    {
      "cell_type": "code",
      "execution_count": null,
      "metadata": {
        "id": "26XuYsQ1qAy7",
        "colab": {
          "base_uri": "https://localhost:8080/"
        },
        "outputId": "2ca0c48c-6301-4922-9b03-358f31869f0c"
      },
      "outputs": [
        {
          "output_type": "stream",
          "name": "stdout",
          "text": [
            "{1, 4}\n",
            "\n",
            "B : {1, 4} , es el conjunto de números positivos del conjunto A: {0, 1, 4, -2}\n"
          ]
        }
      ],
      "source": [
        "# definir el conjunto A\n",
        "A = {-2,0,1,4}\n",
        "\n",
        "# crea el conjunto B con los números positivos de A\n",
        "B = {x for x in A if x > 0}\n",
        "\n",
        "# imprime los elementos del conjunto B\n",
        "print(B)\n",
        "print()\n",
        "print('B :', B, ', es el conjunto de números positivos del conjunto A:', A)"
      ]
    },
    {
      "cell_type": "markdown",
      "source": [
        "**Ejercicio**\n",
        "\n",
        "* Definir un conjunto $C$ con 5 números, 2 negativos, 2 positivos, también incluye el cero.\n",
        "\n",
        "* Crea el conjunto $D$ con los números negativos en $C$.\n",
        "\n",
        "* Imprime los elementos de $D$."
      ],
      "metadata": {
        "id": "29LmUz12Xnhg"
      }
    },
    {
      "cell_type": "code",
      "source": [
        "# definir el conjunto C\n",
        "C = { }\n",
        "\n",
        "# crea el conjunto D\n",
        "D = { }\n",
        "\n",
        "# imprime los elementos del conjunto D\n",
        "\n"
      ],
      "metadata": {
        "id": "qxVTOLa4XwT0"
      },
      "execution_count": null,
      "outputs": []
    }
  ]
}