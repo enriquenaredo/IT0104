{
  "nbformat": 4,
  "nbformat_minor": 0,
  "metadata": {
    "colab": {
      "provenance": []
    },
    "kernelspec": {
      "name": "python3",
      "display_name": "Python 3"
    },
    "language_info": {
      "name": "python"
    }
  },
  "cells": [
    {
      "cell_type": "markdown",
      "source": [
        "#IT0104 - Matemáticas Discretas\n",
        "\n",
        "### Primavera 2023\n",
        "\n",
        "### IT0104_Lab-04\n",
        "\n",
        "**Profesor Enrique Naredo García**\n",
        "\n",
        " <font size = 2> \n",
        "©️ Todos los derechos reservados. All rights reserved.\n",
        "\n",
        "*Nota: El presente documento es una herramienta diseñada única y exclusivamente para los estudiantes de la asignatura arriba mencionada. Queda prohibido compartir este documento entre otros estudiantes, aún siendo de la misma clase, grupo o de la Universidad sin consentimiento del autor. Queda prohibida la reproducción total o parcial de este documento por cualquier medio o procedimiento, ya sea electrónico o mecánico, el tratamiento informático, el alquiler o cualquier otra forma de cesión sin la autorización previa y por escrito del titular del copyright.*\n",
        "</font>"
      ],
      "metadata": {
        "id": "be8oGB59bQQL"
      }
    },
    {
      "cell_type": "markdown",
      "source": [
        "###[Leyes de De Morgan](https://es.wikipedia.org/wiki/Leyes_de_De_Morgan)"
      ],
      "metadata": {
        "id": "tJilEX7tPcHr"
      }
    },
    {
      "cell_type": "markdown",
      "source": [
        "\n",
        "En lógica proposicional y álgebra de Boole, las leyes de De Morgan son un par de reglas de transformación que son ambas reglas de inferencia válidas. \n",
        "\n",
        "* Las normas permiten la expresión de las conjunciones y disyunciones puramente en términos de vía negación.\n",
        "\n",
        "* Las reglas se pueden expresar en español como: La negación de la conjunción es la disyunción de las negaciones.\n",
        "\n",
        "* La negación de la disyunción es la conjunción de las negaciones. o informalmente como: \"no (A y B)\" es lo mismo que \"(no A) o (no B)\""
      ],
      "metadata": {
        "id": "2RDIOZlUPbwv"
      }
    },
    {
      "cell_type": "markdown",
      "source": [
        "\n",
        "\n",
        "Dos equivalencias lógicas importantes son la Ley de De Morgan.\n",
        "\n",
        "Estos describen cómo \"distribuimos\" la negación entre los operadores and y or."
      ],
      "metadata": {
        "id": "dof37cTtaLXP"
      }
    },
    {
      "cell_type": "markdown",
      "source": [
        "$$¬(p∧q)≡¬p∨¬q$$\n",
        "\n",
        "$$¬(p∨q)≡¬p∧¬q$$\n",
        "\n",
        "Usamos el símbolo $≡$ para indicar dos declaraciones que son lógicamente equivalentes."
      ],
      "metadata": {
        "id": "p3AfUX4taSBJ"
      }
    },
    {
      "cell_type": "markdown",
      "source": [
        "## Predicados y cuantificadores"
      ],
      "metadata": {
        "id": "VD-T9i-Ra1YA"
      }
    },
    {
      "cell_type": "markdown",
      "source": [
        "###Predicados\n",
        "\n",
        "Un predicado es una declaración que involucra una variable.\n"
      ],
      "metadata": {
        "id": "Q86GOTISa37p"
      }
    },
    {
      "cell_type": "markdown",
      "source": [
        "**Ejemplo - Predicados**\n",
        "\n",
        "* x≤3\n",
        "* la computadora $c$ está infectada\n",
        "* el país $x$ está en el continente $y$\n"
      ],
      "metadata": {
        "id": "xYaYulMHa_sY"
      }
    },
    {
      "cell_type": "markdown",
      "source": [
        "**Ejercicio**\n",
        "\n",
        "De 4 ejemplos de predicados que involucren una variable.\n",
        "\n",
        "1.   List item\n",
        "2.   List item\n",
        "3.   List item\n",
        "4.   List item\n"
      ],
      "metadata": {
        "id": "SV8c9qxbb-uD"
      }
    },
    {
      "cell_type": "markdown",
      "source": [
        "Los predicados se denotan como $P(x)$ o $Q(x,y)$, donde $P$ y $Q$ representan las declaraciones y $x$ e $y$ representan los valores posibles.\n",
        "\n",
        "Después de asignar un valor a cada variable, el predicado se convierte en una proposición que tiene un valor de verdad.\n"
      ],
      "metadata": {
        "id": "hTHWse8obSUd"
      }
    },
    {
      "cell_type": "markdown",
      "source": [
        "**Ejemplo**\n",
        "\n",
        "Sea $P(x)$ el predicado $x≤3$. ¿Cuáles son los valores de verdad de $P(5)$ y $P(2)$?\n"
      ],
      "metadata": {
        "id": "OU6i6GU-bXOP"
      }
    },
    {
      "cell_type": "code",
      "source": [
        "# 𝑃(𝑥) = 𝑥≤3\n",
        "def P(x):\n",
        "    return x <= 3\n",
        "\n",
        "# ejemplos\n",
        "a = P(5)\n",
        "b = P(2)"
      ],
      "metadata": {
        "id": "QZSndd51abf0"
      },
      "execution_count": null,
      "outputs": []
    },
    {
      "cell_type": "markdown",
      "source": [
        "**Ejercicio**\n",
        "\n",
        "Utiliza como ejemplos:\n",
        "* $c$ con un valor de $10$\n",
        "* $d$ con un valor de $-4$\n"
      ],
      "metadata": {
        "id": "eMywSAd_cXrb"
      }
    },
    {
      "cell_type": "code",
      "source": [
        "# ejemplos c y d\n",
        "c = \n",
        "d = "
      ],
      "metadata": {
        "id": "mN_1lcc4cXbk"
      },
      "execution_count": null,
      "outputs": []
    },
    {
      "cell_type": "markdown",
      "source": [
        "**Ejercicio**\n",
        "\n",
        "* Sea $Q(x,y)$\n",
        "* sea el enunciado $x−y=4$.\n",
        "\n",
        "Edite el código de Python a continuación para encontrar los valores de verdad de \n",
        "$Q(6,2), Q(1,5)$ y $Q(−2,2)$."
      ],
      "metadata": {
        "id": "andV3tjNbuhW"
      }
    },
    {
      "cell_type": "code",
      "source": [
        "# Sea  𝑄(𝑥,𝑦)  sea el enunciado  𝑥−𝑦=4 .\n",
        "def Q(x, y):\n",
        "    return #ARREGLAME#\n",
        "\n",
        "\n",
        "# ejemplos\n",
        "a = Q(6, 2)\n",
        "b = Q(1, 5)\n",
        "c = Q(-2, 2)"
      ],
      "metadata": {
        "id": "ROz-946nTTC9"
      },
      "execution_count": null,
      "outputs": []
    },
    {
      "cell_type": "markdown",
      "source": [
        "##Cuantificadores\n",
        "\n",
        "Considere las declaraciones\n",
        "\n",
        "* Para todos los enteros $x$, $x^2≥0$.\n",
        "\n",
        "* Un estudiante de la clase cumple años en julio.\n",
        "\n",
        "Cada uno de estos enunciados considera una proposición sobre una población o conjunto completo, llamado **dominio**, y cuantifica cuántos elementos (o personas) en el conjunto satisfacen la proposición.\n",
        "\n",
        "Para representar esta idea, usamos dos cuantificadores principales, **el cuantificador universal (∀)** y **el cuantificador existencial (∃)**.\n",
        "\n",
        "El **cuantificador universal**, $∀$, representa la afirmación \"para todos\", \"para todos\", \"para cada uno\".\n",
        "\n",
        "Cuando viene antes de una declaración, significa que esa declaración es verdadera para todos los valores en el dominio."
      ],
      "metadata": {
        "id": "pOK3WhTAcCfQ"
      }
    },
    {
      "cell_type": "markdown",
      "source": [
        "**Ejemplo**\n",
        "\n",
        "Cuantificador Universal $∀x,x+1>x$\n",
        "\n",
        "* Sea $P(x)$ el enunciado $x+1>x$. \n",
        "* ¿Es esto cierto para todos los enteros $x$?\n",
        "* Usamos el dominio de ejemplo $[-2, -1, 0, 1, 2]$ \n",
        "* Porque el código no puede verificar todos los números enteros."
      ],
      "metadata": {
        "id": "CFwsH0HWcimg"
      }
    },
    {
      "cell_type": "markdown",
      "source": [
        "**Ejercicio**\n",
        "\n",
        "Da 4 ejemplos de cuantificador universal, utilizando diferentes variables en cada uno.\n",
        "\n",
        "1.   List item\n",
        "2.   List item\n",
        "3.   List item\n",
        "4.   List item"
      ],
      "metadata": {
        "id": "a3rhfezLckGu"
      }
    },
    {
      "cell_type": "code",
      "source": [
        "sentencia = \"Para todo x, P(x).\"\n",
        "\n",
        "def P(x):\n",
        "    return x + 1 > x\n",
        "\n",
        "paratodo = True\n",
        "for x in [-2, -1, 0, 1, 2]:\n",
        "    # verifica si al menos uno es falso\n",
        "    if P(x) == False:\n",
        "        paratodo = False\n",
        "        \n",
        "print(sentencia)\n",
        "print(paratodo)"
      ],
      "metadata": {
        "id": "fnhzuZTiTS07",
        "colab": {
          "base_uri": "https://localhost:8080/"
        },
        "outputId": "8d7daf51-70a6-4ac9-b024-43046d6dcb27"
      },
      "execution_count": null,
      "outputs": [
        {
          "output_type": "stream",
          "name": "stdout",
          "text": [
            "Para todo x, P(x).\n",
            "True\n"
          ]
        }
      ]
    },
    {
      "cell_type": "markdown",
      "source": [
        "Crea tu propio código utilizando uno de los ejemplos que proporcionaste en el ejercicio anterior."
      ],
      "metadata": {
        "id": "umWfXfSadbsf"
      }
    },
    {
      "cell_type": "code",
      "source": [
        "## Tu código aquí\n",
        "\n",
        "\n",
        "\n",
        "\n"
      ],
      "metadata": {
        "id": "xht4mQgFdaTr"
      },
      "execution_count": null,
      "outputs": []
    },
    {
      "cell_type": "markdown",
      "source": [
        "**Ejemplo**\n",
        "\n",
        "Cuantificador Universal $∀x,x+x>x$\n",
        "\n",
        "Sea $P(x)$ el enunciado $x+x>x$. ¿Es esto cierto para todos los enteros $x$?"
      ],
      "metadata": {
        "id": "rFHFu7TNc83w"
      }
    },
    {
      "cell_type": "markdown",
      "source": [
        "El cuantificador existencial, $∃$, representa la afirmación \"existe\", \"para algunos\", \"al menos uno\".\n",
        "\n",
        "Cuando viene antes de una declaración, significa que la declaración es verdadera para al menos un valor en el dominio."
      ],
      "metadata": {
        "id": "CafT9XOwdRHN"
      }
    },
    {
      "cell_type": "markdown",
      "source": [
        "**Ejemplo**\n",
        "\n",
        "Cuantificador existencial $∃x,x^2=4$\n",
        "\n",
        "* Sea $P(x)$ el enunciado $x^2=4$.\n",
        "\n",
        "* ¿Es esto cierto para al menos un entero $x$?"
      ],
      "metadata": {
        "id": "pyCq4cCQdZGa"
      }
    },
    {
      "cell_type": "markdown",
      "source": [
        "**Ejercicio**\n",
        "\n",
        "Da 4 ejemplos de cuantificador existencial, utilizando diferentes variables en cada uno.\n",
        "\n",
        "1.   List item\n",
        "2.   List item\n",
        "3.   List item\n",
        "4.   List item\n"
      ],
      "metadata": {
        "id": "n4yyZpQYdzL3"
      }
    },
    {
      "cell_type": "code",
      "source": [
        "sentencia = \"Existe una x, tal que P(x).\"\n",
        "\n",
        "def P(x):\n",
        "    return x**2 == 4\n",
        "\n",
        "\n",
        "existe = False\n",
        "for x in [-2, -1, 0, 1, 2]:\n",
        "    # verifica si al menos uno es falso\n",
        "    if P(x):\n",
        "        existe = True\n",
        "\n",
        "        \n",
        "print(sentencia)\n",
        "print(existe)"
      ],
      "metadata": {
        "id": "ezqw-_42TSyS",
        "colab": {
          "base_uri": "https://localhost:8080/"
        },
        "outputId": "69e616f8-9a20-462c-b660-007817c8f71e"
      },
      "execution_count": null,
      "outputs": [
        {
          "output_type": "stream",
          "name": "stdout",
          "text": [
            "Debe existir una x, tal que P(x).\n",
            "True\n"
          ]
        }
      ]
    },
    {
      "cell_type": "markdown",
      "source": [
        "**Ejemplo**\n",
        "\n",
        "Cuantificador existencial $∃x,x^3=4$\n",
        "\n",
        "* Sea $P(x)$ el enunciado $x^3=4$. \n",
        "\n",
        "* ¿Es esto cierto para al menos un entero $x$?\n",
        "\n",
        "\n",
        "*Nuevamente, usamos el dominio de ejemplo $[-2, -1, 0, 1, 2]$ porque el código no puede verificar todos los números enteros.*"
      ],
      "metadata": {
        "id": "PunsILZdd3my"
      }
    },
    {
      "cell_type": "code",
      "source": [
        "sentencia = \"Existe una x, tal que P(x).\"\n",
        "\n",
        "def P(x):\n",
        "    return x**3 == 4\n",
        "\n",
        "existe = False\n",
        "for x in [-2, -1, 0, 1, 2]:\n",
        "    # check if at least 1 is true\n",
        "    if P(x):\n",
        "        existe = True\n",
        "\n",
        "        \n",
        "print(sentencia)\n",
        "print(existe)"
      ],
      "metadata": {
        "id": "sIyNbrbkTSvs",
        "colab": {
          "base_uri": "https://localhost:8080/"
        },
        "outputId": "c09f2461-3b86-4d95-b232-fa7a20e9ee6c"
      },
      "execution_count": null,
      "outputs": [
        {
          "output_type": "stream",
          "name": "stdout",
          "text": [
            "Existe una x, tal que P(x).\n",
            "False\n"
          ]
        }
      ]
    },
    {
      "cell_type": "markdown",
      "source": [
        "Crea tu propio código utilizando uno de los ejemplos que proporcionaste en el ejercicio anterior."
      ],
      "metadata": {
        "id": "dME_nA-ZeK25"
      }
    },
    {
      "cell_type": "code",
      "source": [
        "## Tu código aquí\n",
        "\n",
        "\n",
        "\n",
        "\n"
      ],
      "metadata": {
        "id": "qVGENM5feK26"
      },
      "execution_count": null,
      "outputs": []
    }
  ]
}
