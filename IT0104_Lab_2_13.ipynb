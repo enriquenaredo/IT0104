{
  "nbformat": 4,
  "nbformat_minor": 0,
  "metadata": {
    "colab": {
      "provenance": []
    },
    "kernelspec": {
      "name": "python3",
      "display_name": "Python 3"
    },
    "language_info": {
      "name": "python"
    }
  },
  "cells": [
    {
      "cell_type": "markdown",
      "source": [
        "#IT0104 - Matemáticas Discretas\n",
        "\n",
        "### Primavera 2023\n",
        "\n",
        "### IT0104_Lab-2.13\n",
        "\n",
        "**Profesor Enrique Naredo García**\n",
        "\n",
        " <font size = 2> \n",
        "©️ Todos los derechos reservados. All rights reserved.\n",
        "\n",
        "*Nota: El presente documento es una herramienta diseñada única y exclusivamente para los estudiantes de la asignatura arriba mencionada. Queda prohibido compartir este documento entre otros estudiantes, aún siendo de la misma clase, grupo o de la Universidad sin consentimiento del autor. Queda prohibida la reproducción total o parcial de este documento por cualquier medio o procedimiento, ya sea electrónico o mecánico, el tratamiento informático, el alquiler o cualquier otra forma de cesión sin la autorización previa y por escrito del titular del copyright.*\n",
        "</font>"
      ],
      "metadata": {
        "id": "TtqkFPYbGquB"
      }
    },
    {
      "cell_type": "markdown",
      "source": [
        "## [Función](https://es.wikipedia.org/wiki/Funci%C3%B3n_(matem%C3%A1tica))\n",
        "\n",
        "En matemática, se dice que una magnitud es función de otra si el valor de la primera depende del valor de la segunda. \n",
        "\n",
        "* Por ejemplo, el área $A$ de un círculo es función de su radio $r$, el valor del área es proporcional al cuadrado del radio, $A = π·r^2$. \n",
        "* Del mismo modo, la duración $T$ de un viaje en tren entre dos ciudades separadas por una distancia $d$ depende de la velocidad $v$ a la que se desplace el tren, a saber, la duración es inversamente proporcional a la velocidad, $T = d / v$. \n",
        "* A la primera magnitud, el área, la duración se le denomina variable dependiente, y la magnitud de la que depende; el radio y la velocidad, es la variable independiente. "
      ],
      "metadata": {
        "id": "zAl3h4vVHGZN"
      }
    },
    {
      "cell_type": "markdown",
      "source": [
        "En términos generales, una [función](https://conceptodefinicion.de/funcion/) es aquél objetivo o propósito que tiene un individuo, un objeto, un proceso o una situación. \n",
        "\n",
        "* Dicho de otra manera, es el «para qué» de un elemento, para qué está hecho o para qué se encuentra en determinado lugar. \n",
        "* Como verbo “funcionar”, se refiere a la forma en la que un objeto, aparato, sistema o individuo interactúa o lleva a cabo su tarea o proceso, es decir, cómo funciona. \n",
        "* Es un concepto que engloba de manera tangible todo lo relacionado a un proceso y a un objetivo, relacionando todas las acciones de su especie que podrán llegarse a necesitar."
      ],
      "metadata": {
        "id": "ruM3K7pNIPG-"
      }
    },
    {
      "cell_type": "markdown",
      "source": [
        "En Python puedes crear funciones gracias a un lenguaje flexible y presente en cualquier tipo de aplicación. \n",
        "\n",
        "* Tienes que tener presente que las funciones en Python tienen las siguientes características:\n",
        "\n",
        "\n",
        "    def: palabra clave.\n",
        "    Nombre de la función.\n",
        "    “()”: paréntesis que incluyen los parámetros de entrada (opcionales).\n",
        "    “:” : dos puntos.\n",
        "    Bloque de código.\n",
        "    Sentencia de retorno (opcional)."
      ],
      "metadata": {
        "id": "AYSJ35J8IrAQ"
      }
    },
    {
      "cell_type": "code",
      "execution_count": 3,
      "metadata": {
        "id": "i5uKcEbGGpJM"
      },
      "outputs": [],
      "source": [
        "# función sin parámetros o retorno de valores\n",
        "def Saludo():\n",
        "  print(\"Hola a toditos!\")"
      ]
    },
    {
      "cell_type": "code",
      "source": [
        "# llamado a la función\n",
        "Saludo()"
      ],
      "metadata": {
        "colab": {
          "base_uri": "https://localhost:8080/"
        },
        "id": "Wm5Om5ZpJHf0",
        "outputId": "9ede8f65-59ef-4a60-db29-ff9628e0f0b8"
      },
      "execution_count": 5,
      "outputs": [
        {
          "output_type": "stream",
          "name": "stdout",
          "text": [
            "Hola a toditos!\n"
          ]
        }
      ]
    },
    {
      "cell_type": "code",
      "source": [
        "# función con un parámetro\n",
        "def dameTuNombre(nombre):\n",
        "  print(\"Hola \" + nombre + \"!\")"
      ],
      "metadata": {
        "id": "CPnCqXaEJY6S"
      },
      "execution_count": 6,
      "outputs": []
    },
    {
      "cell_type": "code",
      "source": [
        "# tienes que dar tu nombre \n",
        "dameTuNombre('Pancho')"
      ],
      "metadata": {
        "colab": {
          "base_uri": "https://localhost:8080/"
        },
        "id": "Mk2ZS3tnJiPq",
        "outputId": "c83f08d9-e2fa-4d10-c835-7554564c6ab8"
      },
      "execution_count": 9,
      "outputs": [
        {
          "output_type": "stream",
          "name": "stdout",
          "text": [
            "Hola Pancho!\n"
          ]
        }
      ]
    },
    {
      "cell_type": "code",
      "source": [
        "# función con un parámetro\n",
        "def dameTuNombre2():\n",
        "  print('Dame tu nombre porfas: ')\n",
        "  nombre = input()\n",
        "  print(\"Hola \" + nombre + \"!\")"
      ],
      "metadata": {
        "id": "U5-cU0C2JzQu"
      },
      "execution_count": 12,
      "outputs": []
    },
    {
      "cell_type": "code",
      "source": [
        "# Uso de función con input\n",
        "dameTuNombre2()"
      ],
      "metadata": {
        "colab": {
          "base_uri": "https://localhost:8080/"
        },
        "id": "qHRoGzD2KZvr",
        "outputId": "15b5e61f-bcfd-493c-e6b3-6887ed5304d3"
      },
      "execution_count": 14,
      "outputs": [
        {
          "output_type": "stream",
          "name": "stdout",
          "text": [
            "Dame tu nombre porfas: \n",
            "yo\n",
            "Hola yo!\n"
          ]
        }
      ]
    },
    {
      "cell_type": "code",
      "source": [
        "# función con múltiples parámetros\n",
        "def suma(valor1, valor2):\n",
        "  return valor1 + valor2\n",
        "\n",
        "# ejemplo de uso\n",
        "suma(3, 5) # 8"
      ],
      "metadata": {
        "colab": {
          "base_uri": "https://localhost:8080/"
        },
        "id": "ExPzqxVDLbtL",
        "outputId": "11bb5664-049b-4e9c-990d-daf371ec4507"
      },
      "execution_count": 15,
      "outputs": [
        {
          "output_type": "execute_result",
          "data": {
            "text/plain": [
              "8"
            ]
          },
          "metadata": {},
          "execution_count": 15
        }
      ]
    },
    {
      "cell_type": "markdown",
      "source": [
        "[Consideraciones adicionales](https://blog.hubspot.es/website/funciones-python) acerca de las funciones en Python.\n",
        "\n",
        "Algunas consideraciones que debemos tener en cuenta al momento de crear y utilizar nuestras propias funciones en Python son:\n",
        "\n",
        "* Siempre retornar un valor de respuesta.\n",
        "* Definir valores por default para todos los parámetros de entrada que sea posible.\n",
        "* Verificar que la cantidad de parámetros con que invocamos la función son los mismos que se definieron al momento de crear la función.\n",
        "* Python es un lenguaje que utiliza la indentación para delimitar los bloques de código, por lo que tenemos que verificar que las líneas que queremos que pertenezcan a la función estén correctamente indentadas.\n",
        "* Otra recomendación es utilizar solo variables locales y evitar el uso de variables globales para evitar comportamientos inesperados.\n",
        "* Python es un lenguaje interpretado: aunque las líneas de código de la definición de la función contengan algún tipo de error, el intérprete de Python lo señalará hasta el momento en que se invoque la función."
      ],
      "metadata": {
        "id": "L_whA18BKtX8"
      }
    },
    {
      "cell_type": "markdown",
      "source": [
        "###[Funciones más utilizadas](http://www.formadoresit.es/cuales-son-las-principales-funciones-en-python/) \n",
        "\n",
        "Tres de las [funciones más utilizadas](http://www.formadoresit.es/cuales-son-las-principales-funciones-en-python/) en Python y que debes dominar son list, type y tuple.\n",
        "\n",
        "* List(). \n",
        "  * Con esta función se puede crear un listado y aportan un gran nivel de flexibilidad al trabajar con conjuntos de datos.\n",
        "* Type(). \n",
        "  * Se trata de una función básica de Python que se utiliza principalmente con objetivos de depuración de código.\n",
        "* Tuple(). \n",
        "  * Permite crear una lista, pero con dos características diferentes (inmutabilidad, pues sus valores no pueden ser modificados, y rapidez, pues su uso acelera el proceso de cálculo)."
      ],
      "metadata": {
        "id": "FsY9u1otMWjc"
      }
    },
    {
      "cell_type": "code",
      "source": [
        "texto = 'matematicas'\n",
        "\n",
        "# convierte la cadena en una lista\n",
        "lista_texto = list(texto)\n",
        "lista_texto"
      ],
      "metadata": {
        "colab": {
          "base_uri": "https://localhost:8080/"
        },
        "id": "eaeMGDtFOCZk",
        "outputId": "2b8d6210-d641-45d3-b683-cbd48505d2e0"
      },
      "execution_count": 22,
      "outputs": [
        {
          "output_type": "execute_result",
          "data": {
            "text/plain": [
              "['m', 'a', 't', 'e', 'm', 'a', 't', 'i', 'c', 'a', 's']"
            ]
          },
          "metadata": {},
          "execution_count": 22
        }
      ]
    },
    {
      "cell_type": "code",
      "source": [
        "# verifica el tipo de objeto\n",
        "type(lista_texto)"
      ],
      "metadata": {
        "colab": {
          "base_uri": "https://localhost:8080/"
        },
        "id": "2S1Tu0MTOCVb",
        "outputId": "e243d463-aea6-4754-bd53-0b953287af75"
      },
      "execution_count": 19,
      "outputs": [
        {
          "output_type": "execute_result",
          "data": {
            "text/plain": [
              "list"
            ]
          },
          "metadata": {},
          "execution_count": 19
        }
      ]
    },
    {
      "cell_type": "code",
      "source": [
        "# crea una tupla\n",
        "miTupla = (\"manzana\", \"platano\", \"cereza\")\n",
        "miTupla"
      ],
      "metadata": {
        "colab": {
          "base_uri": "https://localhost:8080/"
        },
        "id": "r4zF4USHOCSs",
        "outputId": "2fbfbef5-f50e-440b-82e3-ffbe400f3741"
      },
      "execution_count": 23,
      "outputs": [
        {
          "output_type": "execute_result",
          "data": {
            "text/plain": [
              "('manzana', 'platano', 'cereza')"
            ]
          },
          "metadata": {},
          "execution_count": 23
        }
      ]
    },
    {
      "cell_type": "markdown",
      "source": [
        "###Funciones de texto\n",
        "\n",
        "Se trata de una serie de funciones interesantes a la hora de trabajar con texto en Python, siendo las más utilizadas:\n",
        "\n",
        "* Print(). \n",
        "  * Una función básica de Python y que también podemos encontrar en la mayoría de lenguajes de programación, y cuyo fin es mostrar en pantalla un valor (texto o valores).\n",
        "\n",
        "* Len(). \n",
        "  * Función para contar el número de caracteres de una cadena de entrada y devolver su valor.\n",
        "\n",
        "* Replace(). \n",
        "  * Otra función de texto interesante de este lenguaje de programación que permite sustituir caracteres dentro de una cadena.\n",
        "\n",
        "* Str(). \n",
        "  * Conocido también como string, es una función que devuelve la representación de cadena de un número (presenta una secuencia inmutable de caracteres Unicode).\n",
        "\n",
        "* Ord(). \n",
        "  * Es una función que muestra el valor ASCII de una cadena de un carácter determinado.\n",
        "\n",
        "* Input(). \n",
        "  * Es una función que se utiliza para la entrada de datos por parte de un usuario en los programas desarrollados en Python.\n",
        "\n",
        "* Chr(). \n",
        "  * Devuelve la cadena correspondiente a un número entero en relación con el código Unicode (por ejemplo, chr(97) devuelve la cadena “a”."
      ],
      "metadata": {
        "id": "69EFkeIKM2SV"
      }
    },
    {
      "cell_type": "code",
      "source": [
        "# uso de print()\n",
        "print('estoy aprendiendo')"
      ],
      "metadata": {
        "colab": {
          "base_uri": "https://localhost:8080/"
        },
        "id": "-VUSYB6DPZe3",
        "outputId": "33fe61ab-fbc2-4f99-be7f-7167259be60d"
      },
      "execution_count": 28,
      "outputs": [
        {
          "output_type": "stream",
          "name": "stdout",
          "text": [
            "estoy aprendiendo\n"
          ]
        }
      ]
    },
    {
      "cell_type": "code",
      "source": [
        "# uso de len()\n",
        "len(miTupla)"
      ],
      "metadata": {
        "colab": {
          "base_uri": "https://localhost:8080/"
        },
        "id": "FVkAam9lPZca",
        "outputId": "e94d9fb5-f1b7-4f68-a7b8-605b8ad0ff3b"
      },
      "execution_count": 25,
      "outputs": [
        {
          "output_type": "execute_result",
          "data": {
            "text/plain": [
              "3"
            ]
          },
          "metadata": {},
          "execution_count": 25
        }
      ]
    },
    {
      "cell_type": "code",
      "source": [
        "# uso de replace()\n",
        "textito = \"Estoy aprendiendo poco\"\n",
        "nuevoTexto = textito.replace(\"poco\", \"muchote !!\")\n",
        "print(nuevoTexto)"
      ],
      "metadata": {
        "colab": {
          "base_uri": "https://localhost:8080/"
        },
        "id": "VQDIfbDGPZZf",
        "outputId": "ce75893c-7741-4799-8af5-e2a21cbd6f47"
      },
      "execution_count": 30,
      "outputs": [
        {
          "output_type": "stream",
          "name": "stdout",
          "text": [
            "Estoy aprendiendo muchote !!\n"
          ]
        }
      ]
    },
    {
      "cell_type": "code",
      "source": [
        "# uso de str()\n",
        "s = str(9)\n",
        "s"
      ],
      "metadata": {
        "colab": {
          "base_uri": "https://localhost:8080/",
          "height": 35
        },
        "id": "AJuQvhyTQ2Zv",
        "outputId": "054d337b-7d84-41dc-f0b1-ab8b7148d021"
      },
      "execution_count": 36,
      "outputs": [
        {
          "output_type": "execute_result",
          "data": {
            "text/plain": [
              "'9'"
            ],
            "application/vnd.google.colaboratory.intrinsic+json": {
              "type": "string"
            }
          },
          "metadata": {},
          "execution_count": 36
        }
      ]
    },
    {
      "cell_type": "code",
      "source": [
        "# convierte str a int\n",
        "num = int(s)\n",
        "num"
      ],
      "metadata": {
        "colab": {
          "base_uri": "https://localhost:8080/"
        },
        "id": "PP6KAEjXRCjI",
        "outputId": "c245d791-c407-4818-d430-2fdd38623499"
      },
      "execution_count": 37,
      "outputs": [
        {
          "output_type": "execute_result",
          "data": {
            "text/plain": [
              "9"
            ]
          },
          "metadata": {},
          "execution_count": 37
        }
      ]
    },
    {
      "cell_type": "code",
      "source": [
        "# uso de ord()\n",
        "caracter = 'M'\n",
        "\n",
        "# encuentra el valor unicode de M\n",
        "car_unicode = ord(caracter)\n",
        "print(car_unicode)"
      ],
      "metadata": {
        "colab": {
          "base_uri": "https://localhost:8080/"
        },
        "id": "dNU99DDURj0j",
        "outputId": "6d81ead2-0861-433d-8aae-74c535bc937a"
      },
      "execution_count": 38,
      "outputs": [
        {
          "output_type": "stream",
          "name": "stdout",
          "text": [
            "77\n"
          ]
        }
      ]
    },
    {
      "cell_type": "code",
      "source": [
        "# uso de input()\n",
        "# tienes que ingresar un número \n",
        "# y después teclea enter\n",
        "calif = input(\"Que calificación vas a obtener?: \")\n",
        "print(calif)"
      ],
      "metadata": {
        "colab": {
          "base_uri": "https://localhost:8080/"
        },
        "id": "2JqLZwp8Rjx8",
        "outputId": "83f47f76-f351-4a9f-958a-515c37593e88"
      },
      "execution_count": 39,
      "outputs": [
        {
          "output_type": "stream",
          "name": "stdout",
          "text": [
            "Que calificación vas a obtener?: 4\n",
            "4\n"
          ]
        }
      ]
    },
    {
      "cell_type": "code",
      "source": [
        "# uso de chr() \n",
        " \n",
        "print(\n",
        "chr(84), chr(97),\n",
        "chr(127), chr(99),\n",
        "chr(104), chr(105),\n",
        "chr(100), chr(111),\n",
        "chr(127),chr(116),\n",
        "#chr(71), chr(101),\n",
        "chr(117), chr(127),\n",
        "chr(99), chr(111),\n",
        "chr(116), chr(111)\n",
        ")"
      ],
      "metadata": {
        "colab": {
          "base_uri": "https://localhost:8080/"
        },
        "id": "gEGZdA-QRjvj",
        "outputId": "17a9cb2a-2d2c-497e-a559-9b26839bb3d2"
      },
      "execution_count": 55,
      "outputs": [
        {
          "output_type": "stream",
          "name": "stdout",
          "text": [
            "T a  c h i d o  t u  c o t o\n"
          ]
        }
      ]
    },
    {
      "cell_type": "markdown",
      "source": [
        "###Funciones numéricas\n",
        "\n",
        "Las funciones que trabajan con números son realmente útiles en cualquier lenguaje de programación, pues ayudan a resolver muchos problemas y cuestiones matemáticas. Dentro de las funciones numéricas destacadas de Python tenemos:\n",
        "\n",
        "* Sum(). \n",
        "  * Una función muy interesante que facilita la suma de valores de una lista o tupla en Python (siempre hablando de números como valores).\n",
        "\n",
        "* Min(). \n",
        "  * Con esta función se puede hallar el número más pequeño dentro de una lista, tupla o dos o más argumentos.\n",
        "\n",
        "* Max(). \n",
        "  * La función contraria a Min() que, en lugar del número más pequeño, devuelve el valor más grande o mayor.\n",
        "\n",
        "* Range(). \n",
        "  * Función de Python para generar una sucesión de números enteros de forma personalizada.\n",
        "\n",
        "* Round(). \n",
        "  * Cuando se trabaja con números matemáticos es importante disponer de una función capaz de realizar redondeos después de la coma, siendo esta la función de Python que se encarga de este proceso.\n",
        "\n",
        "* Hex (). \n",
        "  * Esta función que se incorporó a partir de la versión 3 de Python, convierte un número entero en una cadena hexadecimal con prefijo “0x”.\n",
        "\n",
        "* Abs(). \n",
        "  * Al utilizar esta función sobre un número se obtiene su valor absoluto.\n",
        "\n",
        "* Id(). \n",
        "  * Se trata de una función nativa que muestra un número entero que es único para cada objeto en memoria.\n",
        "\n",
        "* Bin(). \n",
        "  * Convierte un número entero en una cadena binaria incluyendo el prefijo “0b”."
      ],
      "metadata": {
        "id": "DA64Fw0ZNcFn"
      }
    },
    {
      "cell_type": "code",
      "source": [
        "# uso de sum()\n",
        "valores = [65, 71, 68, 74, 61]\n",
        "\n",
        "# suma todos los valores\n",
        "total_valores = sum(valores)\n",
        "print(total_valores)"
      ],
      "metadata": {
        "colab": {
          "base_uri": "https://localhost:8080/"
        },
        "id": "uB1C9BwxK-SV",
        "outputId": "aa60479f-e688-463d-b111-0073154a7234"
      },
      "execution_count": 56,
      "outputs": [
        {
          "output_type": "stream",
          "name": "stdout",
          "text": [
            "339\n"
          ]
        }
      ]
    },
    {
      "cell_type": "code",
      "source": [
        "# uso de min()\n",
        "vals = (5, 2, 3, 9)\n",
        "print(min(vals))"
      ],
      "metadata": {
        "colab": {
          "base_uri": "https://localhost:8080/"
        },
        "id": "nLYPRTa8VB5F",
        "outputId": "4c34a256-6038-4fcf-99b7-e746f55bd201"
      },
      "execution_count": 59,
      "outputs": [
        {
          "output_type": "stream",
          "name": "stdout",
          "text": [
            "2\n"
          ]
        }
      ]
    },
    {
      "cell_type": "code",
      "source": [
        "# uso de max()\n",
        "vals = (5, 2, 3, 9)\n",
        "print(max(vals))"
      ],
      "metadata": {
        "colab": {
          "base_uri": "https://localhost:8080/"
        },
        "id": "cJgbVe1fVB2f",
        "outputId": "2880bef1-2535-4f47-93b3-d4c83b881892"
      },
      "execution_count": 60,
      "outputs": [
        {
          "output_type": "stream",
          "name": "stdout",
          "text": [
            "9\n"
          ]
        }
      ]
    },
    {
      "cell_type": "code",
      "source": [
        "# uso de range()\n",
        "n = range(2, 6)\n",
        "n"
      ],
      "metadata": {
        "colab": {
          "base_uri": "https://localhost:8080/"
        },
        "id": "yS6onVsmVlbj",
        "outputId": "4153ad1b-3696-4078-b01b-a302b9bfa5c4"
      },
      "execution_count": 65,
      "outputs": [
        {
          "output_type": "execute_result",
          "data": {
            "text/plain": [
              "range(2, 6)"
            ]
          },
          "metadata": {},
          "execution_count": 65
        }
      ]
    },
    {
      "cell_type": "code",
      "source": [
        "# uso en un ciclo for\n",
        "for num in n:\n",
        "  print(num)"
      ],
      "metadata": {
        "colab": {
          "base_uri": "https://localhost:8080/"
        },
        "id": "btF0TDBxVByA",
        "outputId": "11b97eb4-2ab6-436f-e752-befc4cf063e3"
      },
      "execution_count": 66,
      "outputs": [
        {
          "output_type": "stream",
          "name": "stdout",
          "text": [
            "2\n",
            "3\n",
            "4\n",
            "5\n"
          ]
        }
      ]
    },
    {
      "cell_type": "code",
      "source": [
        "# uso de round()\n",
        "pi = round(4.31416, 2)\n",
        "print(pi)"
      ],
      "metadata": {
        "colab": {
          "base_uri": "https://localhost:8080/"
        },
        "id": "N9S4aR5BV_xy",
        "outputId": "b669b793-c71c-4e49-e22c-f6ebe2b34ca2"
      },
      "execution_count": 68,
      "outputs": [
        {
          "output_type": "stream",
          "name": "stdout",
          "text": [
            "4.31\n"
          ]
        }
      ]
    },
    {
      "cell_type": "code",
      "source": [
        "# uso de hex()\n",
        "numero = 99\n",
        "print(numero, 'en hex =', hex(numero))"
      ],
      "metadata": {
        "colab": {
          "base_uri": "https://localhost:8080/"
        },
        "id": "WA113FWwV_v1",
        "outputId": "3eb09868-263b-470d-e6cb-c3b15ebbcd6c"
      },
      "execution_count": 69,
      "outputs": [
        {
          "output_type": "stream",
          "name": "stdout",
          "text": [
            "99 en hex = 0x63\n"
          ]
        }
      ]
    },
    {
      "cell_type": "code",
      "source": [
        "# uso de abs()\n",
        "numero_neg = -20\n",
        "\n",
        "numero_absoluto = abs(numero_neg)\n",
        "print(numero_absoluto)"
      ],
      "metadata": {
        "colab": {
          "base_uri": "https://localhost:8080/"
        },
        "id": "cf-MQU0iW1P8",
        "outputId": "3e59b771-e520-4df8-e74b-9a09603fe51c"
      },
      "execution_count": 70,
      "outputs": [
        {
          "output_type": "stream",
          "name": "stdout",
          "text": [
            "20\n"
          ]
        }
      ]
    },
    {
      "cell_type": "code",
      "source": [
        "# uso de id()\n",
        "# devuelve un entero único (identidad) \n",
        "# del argumento pasado en la operación\n",
        "a = 7\n",
        "b = 11\n",
        "sumita = a + b\n",
        "\n",
        "# id of sum variable\n",
        "print(\"El id de la suma es\", id(sumita))"
      ],
      "metadata": {
        "colab": {
          "base_uri": "https://localhost:8080/"
        },
        "id": "-KRsZ1D0W1NI",
        "outputId": "52105e80-7daa-423b-d7c9-124a338c8bb0"
      },
      "execution_count": 76,
      "outputs": [
        {
          "output_type": "stream",
          "name": "stdout",
          "text": [
            "El id de la suma es 9793632\n"
          ]
        }
      ]
    },
    {
      "cell_type": "code",
      "source": [
        "# uso de bin()\n",
        "num_dec = 15\n",
        "\n",
        "# convierte el número decimal a su correspondiente binario\n",
        "print('El equivalene binario de ', num_dec, 'es: ', bin(num_dec))"
      ],
      "metadata": {
        "colab": {
          "base_uri": "https://localhost:8080/"
        },
        "id": "yVPpVYgjV_te",
        "outputId": "eb3eb9b0-232b-4a0e-8757-e1fcdedf23af"
      },
      "execution_count": 77,
      "outputs": [
        {
          "output_type": "stream",
          "name": "stdout",
          "text": [
            "El equivalene binario de  15 es:  0b1111\n"
          ]
        }
      ]
    },
    {
      "cell_type": "markdown",
      "source": [
        "### Ejercicio\n",
        "\n",
        "Utiliza los ejemplos anteriores como base y diseña un código donde el usuario puede primero seleccionar el tipo de funciones a utiizar:\n",
        "  * Funciones más utilizadas\n",
        "  * Funciones de texto\n",
        "  * Funciones numéricas\n",
        "\n",
        "Crea clases para cada tipo de funciones:\n",
        "  * Funciones más utilizadas\n",
        "  * Funciones de texto\n",
        "  * Funciones numéricas\n",
        "\n",
        "En cada clase agrega todas las funciones que correspondan a cada grupo.\n",
        "* Muestra al usuario las opciones disponibles para que escoja una de las funciones.\n",
        "* De acuerdo a la función seleccionada solicita al usuario los argumentos requeridos para utilizar la función seleccionada."
      ],
      "metadata": {
        "id": "VWTKymG9M2VH"
      }
    }
  ]
}