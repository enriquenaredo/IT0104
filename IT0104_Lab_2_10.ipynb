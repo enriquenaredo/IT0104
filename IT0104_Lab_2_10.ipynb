{
  "nbformat": 4,
  "nbformat_minor": 0,
  "metadata": {
    "colab": {
      "provenance": []
    },
    "kernelspec": {
      "name": "python3",
      "display_name": "Python 3"
    },
    "language_info": {
      "name": "python"
    }
  },
  "cells": [
    {
      "cell_type": "markdown",
      "source": [
        "#IT0104 - Matemáticas Discretas\n",
        "\n",
        "### Primavera 2023\n",
        "\n",
        "### IT0104_Lab-2.10\n",
        "\n",
        "**Profesor Enrique Naredo García**\n",
        "\n",
        " <font size = 2> \n",
        "©️ Todos los derechos reservados. All rights reserved.\n",
        "\n",
        "*Nota: El presente documento es una herramienta diseñada única y exclusivamente para los estudiantes de la asignatura arriba mencionada. Queda prohibido compartir este documento entre otros estudiantes, aún siendo de la misma clase, grupo o de la Universidad sin consentimiento del autor. Queda prohibida la reproducción total o parcial de este documento por cualquier medio o procedimiento, ya sea electrónico o mecánico, el tratamiento informático, el alquiler o cualquier otra forma de cesión sin la autorización previa y por escrito del titular del copyright.*\n",
        "</font>"
      ],
      "metadata": {
        "id": "HvXCpmXlo3JL"
      }
    },
    {
      "cell_type": "markdown",
      "source": [
        "###Sucesiones NO aritméticas\n",
        "\n",
        "Las dos [sucesiones](https://www.neurochispas.com/wiki/sucesiones-aritmeticas-y-geometricas/) más simples con las que podemos trabajar son las sucesiones aritméticas y geométricas. \n",
        "\n",
        "* Las sucesiones aritméticas se caracterizan porque sus términos son formados al sumar una diferencia común. \n",
        "\n",
        "* Por otro lado, las sucesiones geométricas son formadas al multiplicar a los términos por una razón común."
      ],
      "metadata": {
        "id": "VZats-_4ud1y"
      }
    },
    {
      "cell_type": "markdown",
      "source": [
        "###Ejemplo-1"
      ],
      "metadata": {
        "id": "v4JFZK4yxIaq"
      }
    },
    {
      "cell_type": "code",
      "source": [
        "def secuencias():\n",
        "    print('Secuencia-1: ')\n",
        "    for i in range(1, 11):\n",
        "        print(f\"{i * i}\", end=\", \")\n",
        "    print('\\n')\n",
        "\n",
        "    print('Secuencia-2: ')\n",
        "    for i in range(1, 11):\n",
        "        print(f\"{i * i + 1}\", end=\", \")\n",
        "    print('\\n')\n",
        "\n",
        "    print('Secuencia-3: ')\n",
        "    for i in range(2, 8):\n",
        "        print(f\"{i ** 3}\", end=\", \")\n",
        "    print('\\n')\n",
        "\n",
        "    print('Secuencia-4: ')\n",
        "    for i in range(1, 7):\n",
        "        print(f\"{1 / i}\", end=\", \")\n",
        "    print('\\n')\n",
        "\n",
        "    print('Secuencia-5: ')\n",
        "    for i in range(1, 8):\n",
        "        print(f\"{i * (i + 1)}\", end=\", \")\n",
        "    print('\\n')\n",
        "\n",
        "    print('Secuencia-6: ')\n",
        "    for i in range(6):\n",
        "        print(f\"{10 ** i}\", end=\", \")\n",
        "    print('\\n')\n",
        "\n",
        "    print('Secuencia-7: ')\n",
        "    for i in range(5):\n",
        "        print(f\"{1 / 10 ** i}\", end=\", \")\n",
        "    print('\\n')\n",
        "\n",
        "    print('Secuencia-8: ')\n",
        "    for i in range(8):\n",
        "        print(f\"{(-1) ** i}\", end=\", \")\n",
        "    print('\\n')\n"
      ],
      "metadata": {
        "id": "UAcczpAUn6dw"
      },
      "execution_count": 1,
      "outputs": []
    },
    {
      "cell_type": "code",
      "source": [
        "secuencias()"
      ],
      "metadata": {
        "colab": {
          "base_uri": "https://localhost:8080/"
        },
        "id": "7wbfS9-Skrg7",
        "outputId": "3da89385-32de-4893-8d7d-8149b6ca5087"
      },
      "execution_count": 2,
      "outputs": [
        {
          "output_type": "stream",
          "name": "stdout",
          "text": [
            "Secuencia-1: \n",
            "1, 4, 9, 16, 25, 36, 49, 64, 81, 100, \n",
            "\n",
            "Secuencia-2: \n",
            "2, 5, 10, 17, 26, 37, 50, 65, 82, 101, \n",
            "\n",
            "Secuencia-3: \n",
            "8, 27, 64, 125, 216, 343, \n",
            "\n",
            "Secuencia-4: \n",
            "1.0, 0.5, 0.3333333333333333, 0.25, 0.2, 0.16666666666666666, \n",
            "\n",
            "Secuencia-5: \n",
            "2, 6, 12, 20, 30, 42, 56, \n",
            "\n",
            "Secuencia-6: \n",
            "1, 10, 100, 1000, 10000, 100000, \n",
            "\n",
            "Secuencia-7: \n",
            "1.0, 0.1, 0.01, 0.001, 0.0001, \n",
            "\n",
            "Secuencia-8: \n",
            "1, -1, 1, -1, 1, -1, 1, -1, \n",
            "\n"
          ]
        }
      ]
    },
    {
      "cell_type": "markdown",
      "source": [
        "###Ejemplo-2"
      ],
      "metadata": {
        "id": "psVIKcW6oHn5"
      }
    },
    {
      "cell_type": "code",
      "source": [
        "def secuencias2():\n",
        "    print('Secuencia-1: ')\n",
        "    for i in range(10):\n",
        "        print(f\"{(i + 1) * (i + 1)}\", end=\", \")\n",
        "    print('\\n')\n",
        "\n",
        "    print('Secuencia-2: ')\n",
        "    for j in range(10):\n",
        "        print(f\"{(j + 1) * (j + 1) + 1}\", end=\", \")\n",
        "    print('\\n')\n",
        "\n",
        "    print('Secuencia-3: ')\n",
        "    for k in range(6):\n",
        "        print(f\"{(k + 2) ** 3}\", end=\", \")\n",
        "    print('\\n')\n",
        "\n",
        "    print('Secuencia-4: ')\n",
        "    for m in range(6):\n",
        "        print(f\"{1 / (m + 1)}\", end=\", \")\n",
        "    print('\\n')\n",
        "\n",
        "    print('Secuencia-5: ')\n",
        "    for n in range(7):\n",
        "        print(f\"{(n + 1) * (n + 2)}\", end=\", \")\n",
        "    print('\\n')\n",
        "\n"
      ],
      "metadata": {
        "id": "v59M0mxToH_V"
      },
      "execution_count": 3,
      "outputs": []
    },
    {
      "cell_type": "code",
      "source": [
        "secuencias2()"
      ],
      "metadata": {
        "colab": {
          "base_uri": "https://localhost:8080/"
        },
        "id": "-vm5wKifhjgg",
        "outputId": "9519d1cd-e165-41f3-8660-34af1d47b36a"
      },
      "execution_count": 4,
      "outputs": [
        {
          "output_type": "stream",
          "name": "stdout",
          "text": [
            "Secuencia-1: \n",
            "1, 4, 9, 16, 25, 36, 49, 64, 81, 100, \n",
            "\n",
            "Secuencia-2: \n",
            "2, 5, 10, 17, 26, 37, 50, 65, 82, 101, \n",
            "\n",
            "Secuencia-3: \n",
            "8, 27, 64, 125, 216, 343, \n",
            "\n",
            "Secuencia-4: \n",
            "1.0, 0.5, 0.3333333333333333, 0.25, 0.2, 0.16666666666666666, \n",
            "\n",
            "Secuencia-5: \n",
            "2, 6, 12, 20, 30, 42, 56, \n",
            "\n"
          ]
        }
      ]
    },
    {
      "cell_type": "markdown",
      "source": [
        "**Ejercicio**\n",
        "\n",
        "En las funciones 'secuencias' y 'secuencias2' de los ejemplos anteriores utiliza while en lugar de for, a continuación se enlistan algunos sitios en la web donde puedes encontrar información acerca del while:\n",
        "\n",
        "* https://www.w3schools.com/python/python_while_loops.asp\n",
        "\n",
        "* https://www.programiz.com/python-programming/while-loop\n",
        "\n",
        "* https://www.geeksforgeeks.org/python-while-loop/"
      ],
      "metadata": {
        "id": "sGf5DYGWl8-0"
      }
    }
  ]
}