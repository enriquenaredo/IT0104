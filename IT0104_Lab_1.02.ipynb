{
  "nbformat": 4,
  "nbformat_minor": 0,
  "metadata": {
    "colab": {
      "provenance": []
    },
    "kernelspec": {
      "name": "python3",
      "display_name": "Python 3"
    },
    "language_info": {
      "name": "python"
    }
  },
  "cells": [
    {
      "cell_type": "markdown",
      "source": [
        "#IT0104 - Matemáticas Discretas\n",
        "\n",
        "### Primavera 2023\n",
        "\n",
        "### IT0104_Lab-02\n",
        "\n",
        "**Profesor Enrique Naredo García**\n",
        "\n",
        " <font size = 2> \n",
        "©️ Todos los derechos reservados. All rights reserved.\n",
        "\n",
        "*Nota: El presente documento es una herramienta diseñada única y exclusivamente para los estudiantes de la asignatura arriba mencionada. Queda prohibido compartir este documento entre otros estudiantes, aún siendo de la misma clase, grupo o de la Universidad sin consentimiento del autor. Queda prohibida la reproducción total o parcial de este documento por cualquier medio o procedimiento, ya sea electrónico o mecánico, el tratamiento informático, el alquiler o cualquier otra forma de cesión sin la autorización previa y por escrito del titular del copyright.*\n",
        "</font>"
      ],
      "metadata": {
        "id": "EUW3gXKjBPg2"
      }
    },
    {
      "cell_type": "markdown",
      "source": [
        "### Implicación\n",
        "\n",
        "* Sean $p$ y $q$ proposiciones. \n",
        "\n",
        "* La implicación de $p$ y $q$, denotada en matemáticas por $p⟹q$, es una forma abreviada de la declaración \"si $p$ entonces $q$\". \n",
        "\n",
        "* Como tal, la implicación requiere que $q$ sea verdadera siempre que $p$ sea verdadera. \n",
        "\n",
        "* Si $p$ no es Verdadero, entonces $q$ puede ser cualquier valor.\n",
        "\n",
        "* En otras palabras, la implicación falla (es falsa) cuando $p$ es verdadera y $q$ es falsa. \n",
        "\n",
        "* Tengan en cuenta que esto es diferente de \"$p$ si y solo si $q$\".\n",
        "\n",
        "* La implicación puede considerarse un \"contrato\" que fracasa sólo cuando se cumplen las condiciones y no se cumplen los resultados.\n",
        "\n",
        "* Ejemplo: \"Si obtienes un 100 en el examen final, obtienes una $A$ en la clase\"."
      ],
      "metadata": {
        "id": "nj_nuqlsKyrw"
      }
    },
    {
      "cell_type": "markdown",
      "source": [
        "**Ejercicio**\n",
        "Creen en la siguiente celda la tabla de verdad correspondiente a la implicación.\n"
      ],
      "metadata": {
        "id": "doMie1I8A2E-"
      }
    },
    {
      "cell_type": "markdown",
      "source": [
        "|    p    |    q     |    p⟹q | \n"
      ],
      "metadata": {
        "id": "mkdriLrtK56L"
      }
    },
    {
      "cell_type": "markdown",
      "source": [
        "**Implicación en Python**\n",
        "\n",
        "Intenta completar el código a continuación editabdo y reemplazando #ARREGLAME#.\n",
        "\n",
        "Una vez definida correctamente, debe imprimirse la tabla de verdad correcta para la implicación.\n"
      ],
      "metadata": {
        "id": "OVFRCCaZLQcf"
      }
    },
    {
      "cell_type": "code",
      "source": [
        "def implication(p, q):\n",
        "    return #ARREGLAME#\n",
        "\n",
        "print(\"p    q    a\")\n",
        "for p in [True, False]:\n",
        "    for q in [True, False]:\n",
        "        a = implication(p, q)\n",
        "        print(p, q, a)"
      ],
      "metadata": {
        "id": "Q3GAzQzOR_OF"
      },
      "execution_count": null,
      "outputs": []
    },
    {
      "cell_type": "markdown",
      "source": [
        "### Recíproco, Contrapositivo e Inverso de una Implicación\n",
        "\n",
        "Podemos formar nuevas proposiciones compuestas a partir de la implicación, $p⟹q$. \n",
        "\n",
        "Son:\n",
        "\n",
        "* Lo contrario: $q⟹p$\n",
        "* La contrapositiva: $¬q⟹¬p$\n",
        "* El inverso $¬p⟹¬q$"
      ],
      "metadata": {
        "id": "m0jCigh4Li6t"
      }
    },
    {
      "cell_type": "markdown",
      "source": [
        "Las tablas de verdad para estas nuevas proposiciones se muestran en la siguiente tabla."
      ],
      "metadata": {
        "id": "Ohunw-JTB6Ms"
      }
    },
    {
      "cell_type": "markdown",
      "source": [
        "|    p    |    q \t   |   p⟹q  |\t q⟹p   | ¬q⟹¬p   |  ¬p⟹¬q | \n",
        "| :-----: | :------: |:------: | :-----: | :------: |:------:|\n",
        "| True    | True     | True    | True    | True     | True  |\n",
        "| True    | False    | False   | True    | False    | True  |\n",
        "| False   | True     | True    | False   | True     | False |\n",
        "| False   | False    | True    | True    | True     | True  |"
      ],
      "metadata": {
        "id": "XTzs70GPL8sm"
      }
    },
    {
      "cell_type": "markdown",
      "source": [
        "**Ejercicio**\n",
        "\n",
        "Repitan la tabla en la siguiente celda utilizando palabras en español."
      ],
      "metadata": {
        "id": "tcwkVYc9CBH3"
      }
    },
    {
      "cell_type": "markdown",
      "source": [
        "**-> Aquí creen la tabla de verdad y eliminen este comentario**"
      ],
      "metadata": {
        "id": "vaGVen9dCIh5"
      }
    },
    {
      "cell_type": "markdown",
      "source": [
        "**Ejemplo 6 - Condicional, Inverso, Contrapositivo e Inverso**\n",
        "\n",
        "1. Traduce la declaración, \"Si un número entero $n$, es divisible por $4$, entonces es divisible por $2$\", usando un condicional.\n",
        "\n",
        "2. Forme su recíproco, contrapositivo e inverso y traduzca.\n",
        "\n",
        "**Solución**\n",
        "\n",
        "* $p$: Un entero $n$, es divisible por 4\n",
        "\n",
        "* $q$: Un entero $n$, es divisible por 2\n",
        "\n",
        "* La oración, \"Si un número entero $n$, es divisible por 4, entonces es divisible por $2$\", se traduce $p⟹q$.\n",
        "\n",
        "* Su inversa es $q⟹p$, que puede traducirse, \"Si un número entero $n$, es divisible por 2, entonces es divisible por 4\".\n",
        "\n",
        "* La contrapositiva es $¬q⟹¬p$, que puede traducirse, \"Si un número entero $n$, no es divisible por 2, entonces no es divisible por 4\".\n",
        "\n",
        "* El inverso es $¬p⟹¬q$, que puede traducirse, \"Si un número entero $n$, no es divisible por 4, entonces no es divisible por 2\".\n"
      ],
      "metadata": {
        "id": "ruLw1vGeQsSZ"
      }
    },
    {
      "cell_type": "markdown",
      "source": [
        "### Bi-implicación\n",
        "\n",
        "Sean $p$ y $q$ proposiciones.\n",
        "\n",
        "La biimplicación de $p$ y $q$, denotada en matemáticas por $p⟺q$, es una forma abreviada de la declaración \"$p$ si y solo si $q$\".\n",
        "\n",
        "Como tal, la biimplicación requiere que q sea verdadera solo cuando $p$ es verdadera. \n",
        "\n",
        "En otras palabras, la biimplicación falla (es falsa) cuando $p$ es verdadera y $q$ es falsa o cuando $p$ es falsa y $q$ es verdadera.\n",
        "\n",
        "* Ejemplo: \"Está lloviendo afuera si y solo si es un día nublado\"."
      ],
      "metadata": {
        "id": "uNQwWwAHR2tT"
      }
    },
    {
      "cell_type": "markdown",
      "source": [
        "|    p    |    q     |  p⟺q   | \n",
        "| :-----: | :------: |:------: |\n",
        "| True    | True     | True    |\n",
        "| True    | False    | False   |\n",
        "| False   | True     | False   |\n",
        "| False   | False    | True    |"
      ],
      "metadata": {
        "id": "ePMD5ocfSALr"
      }
    },
    {
      "cell_type": "markdown",
      "source": [
        "La biimplicación es Verdadera si las proposiciones tienen el mismo valor de verdad y Falsa en caso contrario.\n",
        "\n",
        "* Es importante contrastar implicación con biimplicación.\n",
        "\n",
        "* Considere el ejemplo de implicación \"Si obtiene un 100 en el examen final, entonces obtiene una $A$ en la clase\".\n",
        "\n",
        "* Esto significa que cuando obtienes un 100 en la final, también obtienes una $A$ en la clase.\n",
        "\n",
        "* Como una doble implicación, diría \"Obtienes un 100 en el examen final si y solo si obtienes una $A$ en la clase\".\n",
        "\n",
        "* Esto se convierte en un contrato bidireccional en el que puede obtener una $A$ en la clase al obtener un 100 en la final, pero si no obtiene un 100 en la final, no obtendrá una $A$.\n"
      ],
      "metadata": {
        "id": "wU0NaYlCSfca"
      }
    },
    {
      "cell_type": "markdown",
      "source": [
        "**Ejemplo - Bi-implicación en Python**\n",
        "\n",
        "Intente completar el código a continuación editando y reemplazando #ARREGLAME#.\n",
        "\n",
        "Una vez definida correctamente, se debe imprimir la tabla de verdad correcta.\n"
      ],
      "metadata": {
        "id": "IeNY0qaAST7Y"
      }
    },
    {
      "cell_type": "code",
      "source": [
        "def bi_implication(p, q):\n",
        "    return #ARREGLAME#\n",
        "\n",
        "print(\"p    q    a\")\n",
        "for p in [True, False]:\n",
        "    for q in [True, False]:\n",
        "        a = bi_implication(p, q)\n",
        "        print(p, q, a)"
      ],
      "metadata": {
        "id": "x4MftrVMR_KX"
      },
      "execution_count": null,
      "outputs": []
    }
  ]
}
